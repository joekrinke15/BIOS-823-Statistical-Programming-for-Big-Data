{
 "cells": [
  {
   "cell_type": "markdown",
   "metadata": {},
   "source": [
    "**1**. Connect to the SQLite3 database at `data/faculty.db` using the `sqlite` package or `ipython-sql` magic functions."
   ]
  },
  {
   "cell_type": "code",
   "execution_count": 31,
   "metadata": {},
   "outputs": [
    {
     "name": "stdout",
     "output_type": "stream",
     "text": [
      "The sql extension is already loaded. To reload it, use:\n",
      "  %reload_ext sql\n"
     ]
    },
    {
     "data": {
      "text/plain": [
       "'Connected: @faculty.db'"
      ]
     },
     "execution_count": 31,
     "metadata": {},
     "output_type": "execute_result"
    }
   ],
   "source": [
    "%load_ext sql\n",
    "%sql sqlite:///faculty.db"
   ]
  },
  {
   "cell_type": "code",
   "execution_count": 32,
   "metadata": {},
   "outputs": [
    {
     "name": "stdout",
     "output_type": "stream",
     "text": [
      " * sqlite:///faculty.db\n",
      "Done.\n"
     ]
    },
    {
     "data": {
      "text/html": [
       "<table>\n",
       "    <tr>\n",
       "        <th>type</th>\n",
       "        <th>name</th>\n",
       "        <th>tbl_name</th>\n",
       "        <th>rootpage</th>\n",
       "        <th>sql</th>\n",
       "    </tr>\n",
       "    <tr>\n",
       "        <td>table</td>\n",
       "        <td>person</td>\n",
       "        <td>person</td>\n",
       "        <td>2</td>\n",
       "        <td>CREATE TABLE person (<br>\t&quot;index&quot; BIGINT, <br>\tperson_id BIGINT, <br>\tfirst TEXT, <br>\tlast TEXT, <br>\tage BIGINT, <br>\theight FLOAT, <br>\tweight BIGINT, <br>\tcountry_id TEXT, <br>\tgender_id BIGINT<br>)</td>\n",
       "    </tr>\n",
       "    <tr>\n",
       "        <td>index</td>\n",
       "        <td>ix_person_index</td>\n",
       "        <td>person</td>\n",
       "        <td>3</td>\n",
       "        <td>CREATE INDEX ix_person_index ON person (&quot;index&quot;)</td>\n",
       "    </tr>\n",
       "    <tr>\n",
       "        <td>table</td>\n",
       "        <td>confidential</td>\n",
       "        <td>confidential</td>\n",
       "        <td>18</td>\n",
       "        <td>CREATE TABLE confidential (<br>\t&quot;index&quot; BIGINT, <br>\tperson_id BIGINT, <br>\tsalary BIGINT<br>)</td>\n",
       "    </tr>\n",
       "    <tr>\n",
       "        <td>index</td>\n",
       "        <td>ix_confidential_index</td>\n",
       "        <td>confidential</td>\n",
       "        <td>24</td>\n",
       "        <td>CREATE INDEX ix_confidential_index ON confidential (&quot;index&quot;)</td>\n",
       "    </tr>\n",
       "    <tr>\n",
       "        <td>table</td>\n",
       "        <td>person_language</td>\n",
       "        <td>person_language</td>\n",
       "        <td>33</td>\n",
       "        <td>CREATE TABLE person_language (<br>\t&quot;index&quot; BIGINT, <br>\tperson_id BIGINT, <br>\tlanguage_id BIGINT<br>)</td>\n",
       "    </tr>\n",
       "    <tr>\n",
       "        <td>index</td>\n",
       "        <td>ix_person_language_index</td>\n",
       "        <td>person_language</td>\n",
       "        <td>34</td>\n",
       "        <td>CREATE INDEX ix_person_language_index ON person_language (&quot;index&quot;)</td>\n",
       "    </tr>\n",
       "    <tr>\n",
       "        <td>table</td>\n",
       "        <td>language</td>\n",
       "        <td>language</td>\n",
       "        <td>50</td>\n",
       "        <td>CREATE TABLE language (<br>\t&quot;index&quot; BIGINT, <br>\tlanguage_id BIGINT, <br>\tlanguage_name TEXT<br>)</td>\n",
       "    </tr>\n",
       "    <tr>\n",
       "        <td>index</td>\n",
       "        <td>ix_language_index</td>\n",
       "        <td>language</td>\n",
       "        <td>54</td>\n",
       "        <td>CREATE INDEX ix_language_index ON language (&quot;index&quot;)</td>\n",
       "    </tr>\n",
       "    <tr>\n",
       "        <td>table</td>\n",
       "        <td>gender</td>\n",
       "        <td>gender</td>\n",
       "        <td>55</td>\n",
       "        <td>CREATE TABLE gender (<br>\t&quot;index&quot; BIGINT, <br>\tgender_id BIGINT, <br>\tgender TEXT<br>)</td>\n",
       "    </tr>\n",
       "    <tr>\n",
       "        <td>index</td>\n",
       "        <td>ix_gender_index</td>\n",
       "        <td>gender</td>\n",
       "        <td>56</td>\n",
       "        <td>CREATE INDEX ix_gender_index ON gender (&quot;index&quot;)</td>\n",
       "    </tr>\n",
       "    <tr>\n",
       "        <td>table</td>\n",
       "        <td>country</td>\n",
       "        <td>country</td>\n",
       "        <td>57</td>\n",
       "        <td>CREATE TABLE country (<br>\t&quot;index&quot; BIGINT, <br>\tcountry_id TEXT, <br>\tcountry TEXT, <br>\tnationality TEXT<br>)</td>\n",
       "    </tr>\n",
       "    <tr>\n",
       "        <td>index</td>\n",
       "        <td>ix_country_index</td>\n",
       "        <td>country</td>\n",
       "        <td>58</td>\n",
       "        <td>CREATE INDEX ix_country_index ON country (&quot;index&quot;)</td>\n",
       "    </tr>\n",
       "    <tr>\n",
       "        <td>view</td>\n",
       "        <td>langauge_view</td>\n",
       "        <td>langauge_view</td>\n",
       "        <td>0</td>\n",
       "        <td>CREATE VIEW langauge_view AS<br>SELECT first, last, language_name <br>FROM person<br>INNER JOIN person_language ON person.person_id = person_language.person_id<br>INNER JOIN language ON language.language_id = person_language.language_id</td>\n",
       "    </tr>\n",
       "    <tr>\n",
       "        <td>view</td>\n",
       "        <td>language_view</td>\n",
       "        <td>language_view</td>\n",
       "        <td>0</td>\n",
       "        <td>CREATE VIEW language_view AS<br>SELECT first, last, language_name <br>FROM person<br>INNER JOIN person_language <br>    ON person.person_id = person_language.person_id<br>INNER JOIN language <br>    ON language.language_id = person_language.language_id</td>\n",
       "    </tr>\n",
       "</table>"
      ],
      "text/plain": [
       "[('table', 'person', 'person', 2, 'CREATE TABLE person (\\n\\t\"index\" BIGINT, \\n\\tperson_id BIGINT, \\n\\tfirst TEXT, \\n\\tlast TEXT, \\n\\tage BIGINT, \\n\\theight FLOAT, \\n\\tweight BIGINT, \\n\\tcountry_id TEXT, \\n\\tgender_id BIGINT\\n)'),\n",
       " ('index', 'ix_person_index', 'person', 3, 'CREATE INDEX ix_person_index ON person (\"index\")'),\n",
       " ('table', 'confidential', 'confidential', 18, 'CREATE TABLE confidential (\\n\\t\"index\" BIGINT, \\n\\tperson_id BIGINT, \\n\\tsalary BIGINT\\n)'),\n",
       " ('index', 'ix_confidential_index', 'confidential', 24, 'CREATE INDEX ix_confidential_index ON confidential (\"index\")'),\n",
       " ('table', 'person_language', 'person_language', 33, 'CREATE TABLE person_language (\\n\\t\"index\" BIGINT, \\n\\tperson_id BIGINT, \\n\\tlanguage_id BIGINT\\n)'),\n",
       " ('index', 'ix_person_language_index', 'person_language', 34, 'CREATE INDEX ix_person_language_index ON person_language (\"index\")'),\n",
       " ('table', 'language', 'language', 50, 'CREATE TABLE language (\\n\\t\"index\" BIGINT, \\n\\tlanguage_id BIGINT, \\n\\tlanguage_name TEXT\\n)'),\n",
       " ('index', 'ix_language_index', 'language', 54, 'CREATE INDEX ix_language_index ON language (\"index\")'),\n",
       " ('table', 'gender', 'gender', 55, 'CREATE TABLE gender (\\n\\t\"index\" BIGINT, \\n\\tgender_id BIGINT, \\n\\tgender TEXT\\n)'),\n",
       " ('index', 'ix_gender_index', 'gender', 56, 'CREATE INDEX ix_gender_index ON gender (\"index\")'),\n",
       " ('table', 'country', 'country', 57, 'CREATE TABLE country (\\n\\t\"index\" BIGINT, \\n\\tcountry_id TEXT, \\n\\tcountry TEXT, \\n\\tnationality TEXT\\n)'),\n",
       " ('index', 'ix_country_index', 'country', 58, 'CREATE INDEX ix_country_index ON country (\"index\")'),\n",
       " ('view', 'langauge_view', 'langauge_view', 0, 'CREATE VIEW langauge_view AS\\nSELECT first, last, language_name \\nFROM person\\nINNER JOIN person_language ON person.person_id = person_language.person_id\\nINNER JOIN language ON language.language_id = person_language.language_id'),\n",
       " ('view', 'language_view', 'language_view', 0, 'CREATE VIEW language_view AS\\nSELECT first, last, language_name \\nFROM person\\nINNER JOIN person_language \\n    ON person.person_id = person_language.person_id\\nINNER JOIN language \\n    ON language.language_id = person_language.language_id')]"
      ]
     },
     "execution_count": 32,
     "metadata": {},
     "output_type": "execute_result"
    }
   ],
   "source": [
    "%%sql\n",
    "SELECT * \n",
    "FROM sqlite_master"
   ]
  },
  {
   "cell_type": "markdown",
   "metadata": {},
   "source": [
    "2. Find the youngest and oldest faculty member of each gender."
   ]
  },
  {
   "cell_type": "markdown",
   "metadata": {},
   "source": [
    "Youngest and then oldest males."
   ]
  },
  {
   "cell_type": "code",
   "execution_count": 33,
   "metadata": {},
   "outputs": [
    {
     "name": "stdout",
     "output_type": "stream",
     "text": [
      " * sqlite:///faculty.db\n",
      "Done.\n"
     ]
    },
    {
     "data": {
      "text/html": [
       "<table>\n",
       "    <tr>\n",
       "        <th>first</th>\n",
       "        <th>last</th>\n",
       "        <th>age</th>\n",
       "    </tr>\n",
       "    <tr>\n",
       "        <td>Antoine</td>\n",
       "        <td>Beard</td>\n",
       "        <td>16</td>\n",
       "    </tr>\n",
       "</table>"
      ],
      "text/plain": [
       "[('Antoine', 'Beard', 16)]"
      ]
     },
     "execution_count": 33,
     "metadata": {},
     "output_type": "execute_result"
    }
   ],
   "source": [
    "%%sql\n",
    "SELECT first, last, age\n",
    "FROM person\n",
    "WHERE gender_id = 0\n",
    "ORDER BY age\n",
    "LIMIT 1"
   ]
  },
  {
   "cell_type": "code",
   "execution_count": 34,
   "metadata": {},
   "outputs": [
    {
     "name": "stdout",
     "output_type": "stream",
     "text": [
      " * sqlite:///faculty.db\n",
      "Done.\n"
     ]
    },
    {
     "data": {
      "text/html": [
       "<table>\n",
       "    <tr>\n",
       "        <th>first</th>\n",
       "        <th>last</th>\n",
       "        <th>age</th>\n",
       "    </tr>\n",
       "    <tr>\n",
       "        <td>Antony</td>\n",
       "        <td>Gregory</td>\n",
       "        <td>66</td>\n",
       "    </tr>\n",
       "</table>"
      ],
      "text/plain": [
       "[('Antony', 'Gregory', 66)]"
      ]
     },
     "execution_count": 34,
     "metadata": {},
     "output_type": "execute_result"
    }
   ],
   "source": [
    "%%sql\n",
    "SELECT first, last, age\n",
    "FROM person\n",
    "WHERE gender_id = 0\n",
    "ORDER BY age DESC\n",
    "LIMIT 1\n"
   ]
  },
  {
   "cell_type": "markdown",
   "metadata": {},
   "source": [
    "Youngest and then oldest females. "
   ]
  },
  {
   "cell_type": "code",
   "execution_count": 35,
   "metadata": {},
   "outputs": [
    {
     "name": "stdout",
     "output_type": "stream",
     "text": [
      " * sqlite:///faculty.db\n",
      "Done.\n"
     ]
    },
    {
     "data": {
      "text/html": [
       "<table>\n",
       "    <tr>\n",
       "        <th>first</th>\n",
       "        <th>last</th>\n",
       "        <th>age</th>\n",
       "    </tr>\n",
       "    <tr>\n",
       "        <td>Chery</td>\n",
       "        <td>Becker</td>\n",
       "        <td>16</td>\n",
       "    </tr>\n",
       "</table>"
      ],
      "text/plain": [
       "[('Chery', 'Becker', 16)]"
      ]
     },
     "execution_count": 35,
     "metadata": {},
     "output_type": "execute_result"
    }
   ],
   "source": [
    "%%sql\n",
    "SELECT first, last, age\n",
    "FROM person\n",
    "WHERE gender_id = 1\n",
    "ORDER BY age\n",
    "LIMIT 1\n"
   ]
  },
  {
   "cell_type": "code",
   "execution_count": 36,
   "metadata": {},
   "outputs": [
    {
     "name": "stdout",
     "output_type": "stream",
     "text": [
      " * sqlite:///faculty.db\n",
      "Done.\n"
     ]
    },
    {
     "data": {
      "text/html": [
       "<table>\n",
       "    <tr>\n",
       "        <th>first</th>\n",
       "        <th>last</th>\n",
       "        <th>age</th>\n",
       "    </tr>\n",
       "    <tr>\n",
       "        <td>Alyse</td>\n",
       "        <td>Gamble</td>\n",
       "        <td>66</td>\n",
       "    </tr>\n",
       "</table>"
      ],
      "text/plain": [
       "[('Alyse', 'Gamble', 66)]"
      ]
     },
     "execution_count": 36,
     "metadata": {},
     "output_type": "execute_result"
    }
   ],
   "source": [
    "%%sql\n",
    "SELECT first, last, age\n",
    "FROM person\n",
    "WHERE gender_id = 1\n",
    "ORDER BY age DESC\n",
    "LIMIT 1"
   ]
  },
  {
   "cell_type": "markdown",
   "metadata": {},
   "source": [
    "3. Find the median age of the faculty members who know Python.\n",
    "\n",
    "As SQLite3 does not provide a median function, you can create a User Defined Function (UDF) to do this. See [documentation](https://docs.python.org/2/library/sqlite3.html#sqlite3.Connection.create_function)."
   ]
  },
  {
   "cell_type": "code",
   "execution_count": 96,
   "metadata": {},
   "outputs": [
    {
     "name": "stdout",
     "output_type": "stream",
     "text": [
      " * sqlite:///faculty.db\n",
      "Done.\n"
     ]
    },
    {
     "data": {
      "text/html": [
       "<table>\n",
       "    <tr>\n",
       "        <th>avg(age)</th>\n",
       "    </tr>\n",
       "    <tr>\n",
       "        <td>41.0</td>\n",
       "    </tr>\n",
       "</table>"
      ],
      "text/plain": [
       "[(41.0,)]"
      ]
     },
     "execution_count": 96,
     "metadata": {},
     "output_type": "execute_result"
    }
   ],
   "source": [
    "%%sql\n",
    "SELECT avg(age)\n",
    "FROM (SELECT age\n",
    "      FROM person\n",
    "      ORDER BY age\n",
    "      WHERE \n",
    "      LIMIT 2 - (SELECT COUNT(*) FROM person) % 2    -- odd 1, even 2\n",
    "      OFFSET (SELECT (COUNT(*) - 1) / 2\n",
    "              FROM person))"
   ]
  },
  {
   "cell_type": "markdown",
   "metadata": {},
   "source": [
    "4. Arrange countries by the average age of faculty in descending order. Countries are only included in the table if there are at least 3 faculty members from that country."
   ]
  },
  {
   "cell_type": "code",
   "execution_count": 42,
   "metadata": {},
   "outputs": [
    {
     "name": "stdout",
     "output_type": "stream",
     "text": [
      " * sqlite:///faculty.db\n",
      "Done.\n"
     ]
    },
    {
     "data": {
      "text/html": [
       "<table>\n",
       "    <tr>\n",
       "        <th>country_id</th>\n",
       "        <th>avg(age)</th>\n",
       "    </tr>\n",
       "    <tr>\n",
       "        <td>HK</td>\n",
       "        <td>48.785714285714285</td>\n",
       "    </tr>\n",
       "    <tr>\n",
       "        <td>UY</td>\n",
       "        <td>45.36842105263158</td>\n",
       "    </tr>\n",
       "    <tr>\n",
       "        <td>ME</td>\n",
       "        <td>44.77777777777778</td>\n",
       "    </tr>\n",
       "    <tr>\n",
       "        <td>IS</td>\n",
       "        <td>44.26315789473684</td>\n",
       "    </tr>\n",
       "    <tr>\n",
       "        <td>UA</td>\n",
       "        <td>44.17391304347826</td>\n",
       "    </tr>\n",
       "    <tr>\n",
       "        <td>GB</td>\n",
       "        <td>44.1025641025641</td>\n",
       "    </tr>\n",
       "    <tr>\n",
       "        <td>CH</td>\n",
       "        <td>43.357142857142854</td>\n",
       "    </tr>\n",
       "    <tr>\n",
       "        <td>EE</td>\n",
       "        <td>43.17948717948718</td>\n",
       "    </tr>\n",
       "    <tr>\n",
       "        <td>BE</td>\n",
       "        <td>43.08108108108108</td>\n",
       "    </tr>\n",
       "    <tr>\n",
       "        <td>CL</td>\n",
       "        <td>42.83783783783784</td>\n",
       "    </tr>\n",
       "    <tr>\n",
       "        <td>IR</td>\n",
       "        <td>42.53658536585366</td>\n",
       "    </tr>\n",
       "    <tr>\n",
       "        <td>DK</td>\n",
       "        <td>42.48936170212766</td>\n",
       "    </tr>\n",
       "    <tr>\n",
       "        <td>IE</td>\n",
       "        <td>42.43859649122807</td>\n",
       "    </tr>\n",
       "    <tr>\n",
       "        <td>DE</td>\n",
       "        <td>42.41025641025641</td>\n",
       "    </tr>\n",
       "    <tr>\n",
       "        <td>VE</td>\n",
       "        <td>42.0</td>\n",
       "    </tr>\n",
       "    <tr>\n",
       "        <td>NL</td>\n",
       "        <td>41.8936170212766</td>\n",
       "    </tr>\n",
       "    <tr>\n",
       "        <td>CU</td>\n",
       "        <td>41.48936170212766</td>\n",
       "    </tr>\n",
       "    <tr>\n",
       "        <td>SE</td>\n",
       "        <td>41.404761904761905</td>\n",
       "    </tr>\n",
       "    <tr>\n",
       "        <td>ET</td>\n",
       "        <td>41.25</td>\n",
       "    </tr>\n",
       "    <tr>\n",
       "        <td>RO</td>\n",
       "        <td>41.1764705882353</td>\n",
       "    </tr>\n",
       "    <tr>\n",
       "        <td>CA</td>\n",
       "        <td>41.111111111111114</td>\n",
       "    </tr>\n",
       "    <tr>\n",
       "        <td>AU</td>\n",
       "        <td>40.878787878787875</td>\n",
       "    </tr>\n",
       "    <tr>\n",
       "        <td>CM</td>\n",
       "        <td>40.74390243902439</td>\n",
       "    </tr>\n",
       "    <tr>\n",
       "        <td>RU</td>\n",
       "        <td>40.61904761904762</td>\n",
       "    </tr>\n",
       "    <tr>\n",
       "        <td>GR</td>\n",
       "        <td>40.59375</td>\n",
       "    </tr>\n",
       "    <tr>\n",
       "        <td>SP</td>\n",
       "        <td>40.56410256410256</td>\n",
       "    </tr>\n",
       "    <tr>\n",
       "        <td>DM</td>\n",
       "        <td>40.45238095238095</td>\n",
       "    </tr>\n",
       "    <tr>\n",
       "        <td>FI</td>\n",
       "        <td>40.391304347826086</td>\n",
       "    </tr>\n",
       "    <tr>\n",
       "        <td>PO</td>\n",
       "        <td>39.93181818181818</td>\n",
       "    </tr>\n",
       "    <tr>\n",
       "        <td>JO</td>\n",
       "        <td>39.921052631578945</td>\n",
       "    </tr>\n",
       "    <tr>\n",
       "        <td>BO</td>\n",
       "        <td>39.85</td>\n",
       "    </tr>\n",
       "    <tr>\n",
       "        <td>EG</td>\n",
       "        <td>39.67741935483871</td>\n",
       "    </tr>\n",
       "    <tr>\n",
       "        <td>TW</td>\n",
       "        <td>39.0</td>\n",
       "    </tr>\n",
       "    <tr>\n",
       "        <td>FR</td>\n",
       "        <td>38.47222222222222</td>\n",
       "    </tr>\n",
       "    <tr>\n",
       "        <td>JP</td>\n",
       "        <td>37.4375</td>\n",
       "    </tr>\n",
       "    <tr>\n",
       "        <td>BR</td>\n",
       "        <td>37.21212121212121</td>\n",
       "    </tr>\n",
       "    <tr>\n",
       "        <td>CR</td>\n",
       "        <td>36.54838709677419</td>\n",
       "    </tr>\n",
       "    <tr>\n",
       "        <td>IT</td>\n",
       "        <td>35.42857142857143</td>\n",
       "    </tr>\n",
       "</table>"
      ],
      "text/plain": [
       "[('HK', 48.785714285714285),\n",
       " ('UY', 45.36842105263158),\n",
       " ('ME', 44.77777777777778),\n",
       " ('IS', 44.26315789473684),\n",
       " ('UA', 44.17391304347826),\n",
       " ('GB', 44.1025641025641),\n",
       " ('CH', 43.357142857142854),\n",
       " ('EE', 43.17948717948718),\n",
       " ('BE', 43.08108108108108),\n",
       " ('CL', 42.83783783783784),\n",
       " ('IR', 42.53658536585366),\n",
       " ('DK', 42.48936170212766),\n",
       " ('IE', 42.43859649122807),\n",
       " ('DE', 42.41025641025641),\n",
       " ('VE', 42.0),\n",
       " ('NL', 41.8936170212766),\n",
       " ('CU', 41.48936170212766),\n",
       " ('SE', 41.404761904761905),\n",
       " ('ET', 41.25),\n",
       " ('RO', 41.1764705882353),\n",
       " ('CA', 41.111111111111114),\n",
       " ('AU', 40.878787878787875),\n",
       " ('CM', 40.74390243902439),\n",
       " ('RU', 40.61904761904762),\n",
       " ('GR', 40.59375),\n",
       " ('SP', 40.56410256410256),\n",
       " ('DM', 40.45238095238095),\n",
       " ('FI', 40.391304347826086),\n",
       " ('PO', 39.93181818181818),\n",
       " ('JO', 39.921052631578945),\n",
       " ('BO', 39.85),\n",
       " ('EG', 39.67741935483871),\n",
       " ('TW', 39.0),\n",
       " ('FR', 38.47222222222222),\n",
       " ('JP', 37.4375),\n",
       " ('BR', 37.21212121212121),\n",
       " ('CR', 36.54838709677419),\n",
       " ('IT', 35.42857142857143)]"
      ]
     },
     "execution_count": 42,
     "metadata": {},
     "output_type": "execute_result"
    }
   ],
   "source": [
    "%%sql\n",
    "SELECT country_id, avg(age)\n",
    "FROM person\n",
    "GROUP BY country_id\n",
    "ORDER BY avg(age) desc"
   ]
  },
  {
   "cell_type": "markdown",
   "metadata": {},
   "source": [
    "5. Which country has the most highest average body mass index (BMII) among the faculty? Recall that BMI is weight (kg) / (height (m))^2."
   ]
  },
  {
   "cell_type": "code",
   "execution_count": 46,
   "metadata": {},
   "outputs": [
    {
     "name": "stdout",
     "output_type": "stream",
     "text": [
      " * sqlite:///faculty.db\n",
      "Done.\n"
     ]
    },
    {
     "data": {
      "text/html": [
       "<table>\n",
       "    <tr>\n",
       "        <th>country_id</th>\n",
       "        <th>avg(weight/(height*height))</th>\n",
       "    </tr>\n",
       "    <tr>\n",
       "        <td>HK</td>\n",
       "        <td>24.54940412907561</td>\n",
       "    </tr>\n",
       "</table>"
      ],
      "text/plain": [
       "[('HK', 24.54940412907561)]"
      ]
     },
     "execution_count": 46,
     "metadata": {},
     "output_type": "execute_result"
    }
   ],
   "source": [
    "%%sql\n",
    "SELECT country_id, avg(weight/(height*height))\n",
    "FROM person\n",
    "GROUP BY country_id\n",
    "ORDER BY avg(weight/(height*height)) desc\n",
    "LIMIT 1\n"
   ]
  },
  {
   "cell_type": "markdown",
   "metadata": {},
   "source": [
    "6. Do obese faculty (BMI > 30) know more languages on average than non-obese faculty?"
   ]
  },
  {
   "cell_type": "markdown",
   "metadata": {},
   "source": [
    "Obese Faculty know fewer languages on average!"
   ]
  },
  {
   "cell_type": "code",
   "execution_count": 87,
   "metadata": {},
   "outputs": [
    {
     "name": "stdout",
     "output_type": "stream",
     "text": [
      " * sqlite:///faculty.db\n",
      "Done.\n"
     ]
    },
    {
     "data": {
      "text/html": [
       "<table>\n",
       "    <tr>\n",
       "        <th>AVG (langs)</th>\n",
       "    </tr>\n",
       "    <tr>\n",
       "        <td>1.9508196721311475</td>\n",
       "    </tr>\n",
       "</table>"
      ],
      "text/plain": [
       "[(1.9508196721311475,)]"
      ]
     },
     "execution_count": 87,
     "metadata": {},
     "output_type": "execute_result"
    }
   ],
   "source": [
    "%%sql\n",
    "SELECT AVG (langs)\n",
    "FROM\n",
    "    (SELECT COUNT(DISTINCT(person_language.language_id)) as langs\n",
    "    FROM person_language\n",
    "    JOIN person\n",
    "    ON person.person_id = person_language.person_id\n",
    "    WHERE(person.weight/(person.height*person.height))>30\n",
    "    GROUP BY person_language.person_id\n",
    "    ORDER BY COUNT(DISTINCT(person_language.language_id)) desc)"
   ]
  },
  {
   "cell_type": "markdown",
   "metadata": {},
   "source": [
    "Non-obese faculty know lightly more languages."
   ]
  },
  {
   "cell_type": "code",
   "execution_count": 90,
   "metadata": {},
   "outputs": [
    {
     "name": "stdout",
     "output_type": "stream",
     "text": [
      " * sqlite:///faculty.db\n",
      "Done.\n"
     ]
    },
    {
     "data": {
      "text/html": [
       "<table>\n",
       "    <tr>\n",
       "        <th>AVG (langs)</th>\n",
       "    </tr>\n",
       "    <tr>\n",
       "        <td>1.9644230769230768</td>\n",
       "    </tr>\n",
       "</table>"
      ],
      "text/plain": [
       "[(1.9644230769230768,)]"
      ]
     },
     "execution_count": 90,
     "metadata": {},
     "output_type": "execute_result"
    }
   ],
   "source": [
    "%%sql\n",
    "SELECT AVG (langs)\n",
    "FROM\n",
    "    (SELECT COUNT(DISTINCT(person_language.language_id)) as langs\n",
    "    FROM person_language\n",
    "    JOIN person\n",
    "    ON person.person_id = person_language.person_id\n",
    "    WHERE(person.weight/(person.height*person.height))<30\n",
    "    GROUP BY person_language.person_id\n",
    "    ORDER BY COUNT(DISTINCT(person_language.language_id)) desc)"
   ]
  }
 ],
 "metadata": {
  "kernelspec": {
   "display_name": "Python 3",
   "language": "python",
   "name": "python3"
  },
  "language_info": {
   "codemirror_mode": {
    "name": "ipython",
    "version": 3
   },
   "file_extension": ".py",
   "mimetype": "text/x-python",
   "name": "python",
   "nbconvert_exporter": "python",
   "pygments_lexer": "ipython3",
   "version": "3.7.8"
  }
 },
 "nbformat": 4,
 "nbformat_minor": 4
}
