{
 "cells": [
  {
   "cell_type": "markdown",
   "metadata": {},
   "source": [
    "# Pre-requisites quiz\n",
    "\n",
    "The course assumes that you are comfortable in using Python and familiar with basic mathematics, statistics  and the use of `numpy`. \n",
    "\n",
    "For example, you should be able to complete the following quiz."
   ]
  },
  {
   "cell_type": "markdown",
   "metadata": {},
   "source": [
    "## Basic Python"
   ]
  },
  {
   "cell_type": "markdown",
   "metadata": {},
   "source": [
    "1. Generate two collections of 1,000 random 3-character words (ASCII lowercase, only use a-z). "
   ]
  },
  {
   "cell_type": "code",
   "execution_count": 1,
   "metadata": {},
   "outputs": [],
   "source": [
    "#Begin by importing needed packages\n",
    "import string \n",
    "import random\n",
    "\n",
    "#Create lists to hold words\n",
    "word_collection_1 = []\n",
    "word_collection_2 = []\n",
    "\n",
    "#Get list of letters\n",
    "letters = list(string.ascii_lowercase)\n",
    "\n",
    "#Create 1000 words in each list\n",
    "for i in range(1000):\n",
    "    word_collection_1.append(''.join(random.sample(letters, 3)))\n",
    "    word_collection_2.append(''.join(random.sample(letters, 3)))"
   ]
  },
  {
   "cell_type": "markdown",
   "metadata": {},
   "source": [
    "2. Count the number of unique words found in both collections."
   ]
  },
  {
   "cell_type": "code",
   "execution_count": 2,
   "metadata": {},
   "outputs": [],
   "source": [
    "#Sets have unique elements. By creating a set of words the number of words in the set will be equal to the number of unique wo\n",
    "\n",
    "def word_count(list):\n",
    "    count = len(set(list))\n",
    "    print(count)"
   ]
  },
  {
   "cell_type": "code",
   "execution_count": 3,
   "metadata": {},
   "outputs": [
    {
     "name": "stdout",
     "output_type": "stream",
     "text": [
      "964\n",
      "965\n"
     ]
    }
   ],
   "source": [
    "#Display the word counts of each collection.\n",
    "word_count(word_collection_1)\n",
    "word_count(word_collection_2)"
   ]
  },
  {
   "cell_type": "markdown",
   "metadata": {},
   "source": [
    "3. Find the most frequently occurring word(s) in the combined collection."
   ]
  },
  {
   "cell_type": "code",
   "execution_count": 4,
   "metadata": {},
   "outputs": [
    {
     "data": {
      "text/plain": [
       "[('itx', 3), ('yja', 3), ('vol', 3), ('deh', 3), ('jvi', 3)]"
      ]
     },
     "execution_count": 4,
     "metadata": {},
     "output_type": "execute_result"
    }
   ],
   "source": [
    "from collections import Counter\n",
    "\n",
    "#Create combined collection\n",
    "combined = word_collection_1 + word_collection_2\n",
    "\n",
    "#Find the top 5 most frequent words\n",
    "Counter(combined).most_common(5)"
   ]
  },
  {
   "cell_type": "markdown",
   "metadata": {},
   "source": [
    "4. Count the number of words in the first collection that consist of all vowels."
   ]
  },
  {
   "cell_type": "code",
   "execution_count": 5,
   "metadata": {},
   "outputs": [],
   "source": [
    "\n",
    "#Iterate over all of the words and then all of the letters.\n",
    "def vowel_word_count(word_collection):\n",
    "    #Create a set of vowels\n",
    "    vowels = [\n",
    "        'a', 'e', 'i', 'o', 'u'\n",
    "    ]\n",
    "    num_vowel_words = 0\n",
    "    \n",
    "    for word in word_collection:\n",
    "        if all(letter in vowels for letter in word): #Returns true if all of the values are vowels\n",
    "            num_vowel_words += 1\n",
    "        else:\n",
    "            pass\n",
    "        \n",
    "    print(\"The number of vowel words is: \" + str(num_vowel_words) +\".\")"
   ]
  },
  {
   "cell_type": "code",
   "execution_count": 6,
   "metadata": {},
   "outputs": [
    {
     "name": "stdout",
     "output_type": "stream",
     "text": [
      "The number of vowel words is: 4.\n"
     ]
    }
   ],
   "source": [
    "#Display vowel word count\n",
    "vowel_word_count(word_collection_1)"
   ]
  },
  {
   "cell_type": "markdown",
   "metadata": {},
   "source": [
    "5. Write a function that takes as input a list of words, and builds a new string starting from the first word according to the following rule;\n",
    "\n",
    "If the next word begins with the same character as the first word, for a new \"first\" word by concatenating the next word with the first, otherwise discard the next word. Return the final string. Test this on collections 1 and 2.\n",
    "\n",
    "For example, given the input\n",
    "```python\n",
    "['abc', 'def', 'cde', 'def', 'efg']\n",
    "```\n",
    "\n",
    "the function returns `abccdeefg`."
   ]
  },
  {
   "cell_type": "code",
   "execution_count": 7,
   "metadata": {},
   "outputs": [],
   "source": [
    "#Create function to build words accordding to specifications.\n",
    "\n",
    "def word_builder(word_list):\n",
    "    \n",
    "    first_word = word_list[0] #Get initial word\n",
    "    \n",
    "    for i in range(len(word_list)-1): #Iterate over all the words in the list\n",
    "        next_word = word_list[i+1]\n",
    "        if (first_word[0] == next_word[0]): #Compare the first letters of the two words,concatenating if they have the same first letter. \n",
    "            first_word = first_word + next_word\n",
    "        else:\n",
    "            pass\n",
    "    return(first_word)"
   ]
  },
  {
   "cell_type": "code",
   "execution_count": 8,
   "metadata": {},
   "outputs": [],
   "source": [
    "final_word = word_builder(word_collection_1)"
   ]
  },
  {
   "cell_type": "code",
   "execution_count": 9,
   "metadata": {},
   "outputs": [],
   "source": [
    "#Check if every third letter is the same\n",
    "def word_checker(final_word):\n",
    "    for i in range(len(final_word)):\n",
    "        first_letter = final_word[0]\n",
    "        if ((i%3) == 0):\n",
    "            assert(final_word[i] == first_letter)\n",
    "        else: \n",
    "            pass\n",
    "word_checker(final_word)"
   ]
  },
  {
   "cell_type": "markdown",
   "metadata": {},
   "source": [
    "## Using `numpy`"
   ]
  },
  {
   "cell_type": "markdown",
   "metadata": {},
   "source": [
    "Only use `numpy` to complete the following exercise."
   ]
  },
  {
   "cell_type": "markdown",
   "metadata": {},
   "source": [
    "1. Set the random see in `numpy` to 123"
   ]
  },
  {
   "cell_type": "code",
   "execution_count": 10,
   "metadata": {},
   "outputs": [],
   "source": [
    "import numpy as np\n",
    "\n",
    "np.random.seed(123)"
   ]
  },
  {
   "cell_type": "markdown",
   "metadata": {},
   "source": [
    "2. Create $X_1$, a 10 $\\times$ 5 matrix of numbers from a $N(μ=10, σ=5)$ distribution"
   ]
  },
  {
   "cell_type": "code",
   "execution_count": 11,
   "metadata": {},
   "outputs": [
    {
     "name": "stdout",
     "output_type": "stream",
     "text": [
      "[[ 4.57184698 14.98672723 11.41489249  2.46852643  7.10699874]\n",
      " [18.25718269 -2.13339622  7.85543686 16.32968129  5.66629799]\n",
      " [ 6.60556924  9.52645516 17.45694813  6.80549002  7.7800902 ]\n",
      " [ 7.82824362 21.02965041 20.93393044 15.02026949 11.930932  ]\n",
      " [13.68684288 17.45366014  5.32083066 15.87914522  3.73059666]\n",
      " [ 6.81124249 14.53552598  2.8565965   9.2996564   5.69122552]\n",
      " [ 8.72190315 -3.99294553  1.14233448  6.50061383 14.63731216]\n",
      " [ 9.13182159 10.01422958 13.44111356  5.60231828 11.41813662]\n",
      " [ 5.97316741  1.36165253  8.04550103 12.86902931 11.69294525]\n",
      " [ 9.94084753 21.96182633 12.0645608  14.89368003 21.19071669]] 10.066357205418926 5.94811407014073\n"
     ]
    }
   ],
   "source": [
    "X1 = 5 * np.random.randn(10, 5) + 10\n",
    "\n",
    "print(X1, np.mean(X1), np.std(X1))"
   ]
  },
  {
   "cell_type": "markdown",
   "metadata": {},
   "source": [
    "3. Create $X_2$ by scaling the rows of $X_1$ so that they have zero mean and unit standard deviation"
   ]
  },
  {
   "cell_type": "code",
   "execution_count": 12,
   "metadata": {},
   "outputs": [
    {
     "name": "stdout",
     "output_type": "stream",
     "text": [
      "[[-1.0856306   0.99734545  0.2829785  -1.50629471 -0.57860025]\n",
      " [ 1.65143654 -2.42667924 -0.42891263  1.26593626 -0.8667404 ]\n",
      " [-0.67888615 -0.09470897  1.49138963 -0.638902   -0.44398196]\n",
      " [-0.43435128  2.20593008  2.18678609  1.0040539   0.3861864 ]\n",
      " [ 0.73736858  1.49073203 -0.93583387  1.17582904 -1.25388067]\n",
      " [-0.6377515   0.9071052  -1.4286807  -0.14006872 -0.8617549 ]\n",
      " [-0.25561937 -2.79858911 -1.7715331  -0.69987723  0.92746243]\n",
      " [-0.17363568  0.00284592  0.68822271 -0.87953634  0.28362732]\n",
      " [-0.80536652 -1.72766949 -0.39089979  0.57380586  0.33858905]\n",
      " [-0.01183049  2.39236527  0.41291216  0.97873601  2.23814334]] 0.013271441083785076 1.1896228140281462\n"
     ]
    }
   ],
   "source": [
    "X2 = (X1 - 10)/5\n",
    "print(X2, np.mean(X2), np.std(X2))"
   ]
  },
  {
   "cell_type": "markdown",
   "metadata": {},
   "source": [
    "4. Create $X_3$ by extracting the odd rows of $X_1$"
   ]
  },
  {
   "cell_type": "code",
   "execution_count": 13,
   "metadata": {},
   "outputs": [
    {
     "name": "stdout",
     "output_type": "stream",
     "text": [
      "[[ 4.57184698 14.98672723 11.41489249  2.46852643  7.10699874]\n",
      " [ 6.60556924  9.52645516 17.45694813  6.80549002  7.7800902 ]\n",
      " [13.68684288 17.45366014  5.32083066 15.87914522  3.73059666]\n",
      " [ 8.72190315 -3.99294553  1.14233448  6.50061383 14.63731216]\n",
      " [ 5.97316741  1.36165253  8.04550103 12.86902931 11.69294525]]\n"
     ]
    }
   ],
   "source": [
    "#Get odd rows\n",
    "X3 = X1[::2]\n",
    "print(X3)"
   ]
  },
  {
   "cell_type": "markdown",
   "metadata": {},
   "source": [
    "5. Create $X_4$ by scaling the columns of $X_3$ so that each column sums to 1"
   ]
  },
  {
   "cell_type": "code",
   "execution_count": 14,
   "metadata": {},
   "outputs": [
    {
     "name": "stdout",
     "output_type": "stream",
     "text": [
      "[[ 0.11556937  0.38099702  0.26313414  0.05544409  0.15811622]\n",
      " [ 0.1669788   0.24218437  0.40241457  0.15285403  0.17309113]\n",
      " [ 0.34598268  0.44371212  0.12265488  0.35665195  0.08299816]\n",
      " [ 0.22047652 -0.10150984  0.0263329   0.14600639  0.32565032]\n",
      " [ 0.15099263  0.03461633  0.18546351  0.28904354  0.26014417]]\n"
     ]
    }
   ],
   "source": [
    "#Scale columns\n",
    "X4 = X3/X3.sum(axis = 0 , keepdims = True)\n",
    "print(X4)"
   ]
  },
  {
   "cell_type": "markdown",
   "metadata": {},
   "source": [
    "6. What is the eigenvector with eigenvalue 1 of $X_4$?. Hint: be careful when checking equality for floats."
   ]
  },
  {
   "cell_type": "code",
   "execution_count": 15,
   "metadata": {},
   "outputs": [
    {
     "name": "stdout",
     "output_type": "stream",
     "text": [
      "[[-0.47442176+0.j  0.45872578+0.j  0.59208286+0.j  0.59208286-0.j\n",
      "   0.20921644+0.j]]\n"
     ]
    }
   ],
   "source": [
    "#Get eigenvalues and eigenvectors\n",
    "eigenvalues, eigenvectors = np.linalg.eig(X4)\n",
    "\n",
    "#Check if the eigenvalues are close to 1\n",
    "eigen_value_one = np.isclose(eigenvalues, 1)\n",
    "\n",
    "#Find corresponding eigenvector\n",
    "eigenvector_one = eigenvectors[eigen_value_one]\n",
    "\n",
    "print(eigenvector_one)"
   ]
  },
  {
   "cell_type": "markdown",
   "metadata": {},
   "source": [
    "7. Create $X_5$ by replacing all negative values in $X_2$ by 0"
   ]
  },
  {
   "cell_type": "code",
   "execution_count": 16,
   "metadata": {},
   "outputs": [
    {
     "name": "stdout",
     "output_type": "stream",
     "text": [
      "[[-1.0856306   0.          0.         -1.50629471 -0.57860025]\n",
      " [ 0.         -2.42667924 -0.42891263  0.         -0.8667404 ]\n",
      " [-0.67888615 -0.09470897  0.         -0.638902   -0.44398196]\n",
      " [-0.43435128  0.          0.          0.          0.        ]\n",
      " [ 0.          0.         -0.93583387  0.         -1.25388067]\n",
      " [-0.6377515   0.         -1.4286807  -0.14006872 -0.8617549 ]\n",
      " [-0.25561937 -2.79858911 -1.7715331  -0.69987723  0.        ]\n",
      " [-0.17363568  0.          0.         -0.87953634  0.        ]\n",
      " [-0.80536652 -1.72766949 -0.39089979  0.          0.        ]\n",
      " [-0.01183049  0.          0.          0.          0.        ]]\n"
     ]
    }
   ],
   "source": [
    "X5 = np.where(X2<0, X2, 0)\n",
    "print(X5)"
   ]
  },
  {
   "cell_type": "markdown",
   "metadata": {},
   "source": [
    "8. Print the matrix $X_1$ such that each value has only 3 significant digits"
   ]
  },
  {
   "cell_type": "code",
   "execution_count": 17,
   "metadata": {},
   "outputs": [
    {
     "name": "stdout",
     "output_type": "stream",
     "text": [
      "[[ 4.572 14.987 11.415  2.469  7.107]\n",
      " [18.257 -2.133  7.855 16.33   5.666]\n",
      " [ 6.606  9.526 17.457  6.805  7.78 ]\n",
      " [ 7.828 21.03  20.934 15.02  11.931]\n",
      " [13.687 17.454  5.321 15.879  3.731]\n",
      " [ 6.811 14.536  2.857  9.3    5.691]\n",
      " [ 8.722 -3.993  1.142  6.501 14.637]\n",
      " [ 9.132 10.014 13.441  5.602 11.418]\n",
      " [ 5.973  1.362  8.046 12.869 11.693]\n",
      " [ 9.941 21.962 12.065 14.894 21.191]]\n"
     ]
    }
   ],
   "source": [
    "print(np.round(X1, 3))"
   ]
  },
  {
   "cell_type": "markdown",
   "metadata": {},
   "source": [
    "9. Suppose you are given observations $y = \\pmatrix{1,2,3,4,5,6,7,8,9,10}^T$. Find the least squares solution to $X_1 T \\beta = y$."
   ]
  },
  {
   "cell_type": "code",
   "execution_count": 18,
   "metadata": {},
   "outputs": [
    {
     "name": "stdout",
     "output_type": "stream",
     "text": [
      "[[-0.02284738]\n",
      " [ 0.03630393]\n",
      " [-0.15890427]\n",
      " [ 0.1685749 ]\n",
      " [ 0.49194246]]\n"
     ]
    }
   ],
   "source": [
    "XT = np.transpose(X1)\n",
    "y = np.transpose(np.array([[1,2,3,4,5,6,7,8,9,10]]))\n",
    "\n",
    "#Least squares matrix algebra\n",
    "beta = np.matmul(np.matmul(np.linalg.inv(np.matmul(XT, X1)), XT), y)\n",
    "\n",
    "print(beta)"
   ]
  },
  {
   "cell_type": "markdown",
   "metadata": {},
   "source": [
    "10. What is the vector in the column space of $X_1$ closest to $y$?"
   ]
  },
  {
   "cell_type": "code",
   "execution_count": 19,
   "metadata": {},
   "outputs": [
    {
     "name": "stdout",
     "output_type": "stream",
     "text": [
      "[19.8554828  33.16018066 26.78792331 22.75046635 18.45776625]\n",
      "[ 7.10699874  5.66629799  7.7800902  11.930932    3.73059666  5.69122552\n",
      " 14.63731216 11.41813662 11.69294525 21.19071669]\n"
     ]
    }
   ],
   "source": [
    "#Use euclidian norm to calculate distances\n",
    "distances = np.linalg.norm(X1-y, axis=0)\n",
    "\n",
    "#Get index of minimum distance\n",
    "min_index = np.argmin(distances)\n",
    "print(distances)\n",
    "\n",
    "#Get vector using index\n",
    "min_vector = X1[:,min_index]\n",
    "print(min_vector)"
   ]
  }
 ],
 "metadata": {
  "kernelspec": {
   "display_name": "Python 3",
   "language": "python",
   "name": "python3"
  },
  "language_info": {
   "codemirror_mode": {
    "name": "ipython",
    "version": 3
   },
   "file_extension": ".py",
   "mimetype": "text/x-python",
   "name": "python",
   "nbconvert_exporter": "python",
   "pygments_lexer": "ipython3",
   "version": "3.7.8"
  }
 },
 "nbformat": 4,
 "nbformat_minor": 4
}
