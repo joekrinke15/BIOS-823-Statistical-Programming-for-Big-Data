{
 "cells": [
  {
   "cell_type": "markdown",
   "metadata": {},
   "source": [
    "# Sample Euler Project Problems\n",
    "The Euler project is a website that contains computational problems that are intended to be solved by computer programs. In this post I'll be examining a few problems I found interesting and detail my solutions. "
   ]
  },
  {
   "cell_type": "code",
   "execution_count": 168,
   "metadata": {},
   "outputs": [],
   "source": [
    "import math\n",
    "import numpy as np\n",
    "import random\n",
    "import scipy.special as special\n",
    "from scipy.stats import hypergeom\n",
    "import seaborn as sns\n",
    "import pandas as pd\n",
    "from matplotlib.colors import LinearSegmentedColormap\n",
    "import matplotlib.pyplot as plt"
   ]
  },
  {
   "cell_type": "markdown",
   "metadata": {},
   "source": [
    "# Fibonacci Sequence\n",
    "What is the index of the first term in the Fibonacci sequence to contain 1000 digits?"
   ]
  },
  {
   "cell_type": "code",
   "execution_count": 2,
   "metadata": {},
   "outputs": [],
   "source": [
    "#Create a python generator to yield the values of the Fibonacci sequence.\n",
    "def fibonacci():\n",
    "    n_1, n_2 = 0,1\n",
    "    while True:\n",
    "        yield (n_1 + n_2)\n",
    "        n_1, n_2 = n_2, n_1 + n_2 #Update values of n-1 and n-2."
   ]
  },
  {
   "cell_type": "code",
   "execution_count": 3,
   "metadata": {},
   "outputs": [
    {
     "name": "stdout",
     "output_type": "stream",
     "text": [
      "The first index of the Fibonacci sequence to break 1000 digits is 4782. It has a length of 1000 digits.\n"
     ]
    }
   ],
   "source": [
    "#Create fibonacci generator and start counting the indices. \n",
    "f = fibonacci()\n",
    "index = 1\n",
    "\n",
    "#Iterate over the generator to produce values until you get to a value with a length of 1000. \n",
    "for x in f:\n",
    "    index += 1\n",
    "    length = (int(math.log10(x))+1) #Check the length of the number. \n",
    "    if (length == 1000):\n",
    "        print ('The first index of the Fibonacci sequence to break 1000 digits is {}. It has a length of {} digits.'.format(index, length))\n",
    "        break\n",
    "    "
   ]
  },
  {
   "cell_type": "markdown",
   "metadata": {},
   "source": [
    "# Lycrel Numbers\n",
    "If we take 47, reverse and add, 47 + 74 = 121, which is palindromic.\n",
    "\n",
    "Not all numbers produce palindromes so quickly. For example,\n",
    "\n",
    "349 + 943 = 1292\n",
    "\n",
    "1292 + 2921 = 4213\n",
    "\n",
    "4213 + 3124 = 7337\n",
    "\n",
    "That is, 349 took three iterations to arrive at a palindrome.\n",
    "\n",
    "Although no one has proved it yet, it is thought that some numbers, like 196, never produce a palindrome. A number that never forms a palindrome through the reverse and add process is called a Lychrel number. Due to the theoretical nature of these numbers, and for the purpose of this problem, we shall assume that a number is Lychrel until proven otherwise. In addition you are given that for every number below ten-thousand, it will either (i) become a palindrome in less than fifty iterations, or, (ii) no one, with all the computing power that exists, has managed so far to map it to a palindrome. In fact, 10677 is the first number to be shown to require over fifty iterations before producing a palindrome: 4668731596684224866951378664 (53 iterations, 28-digits).\n",
    "\n",
    "Surprisingly, there are palindromic numbers that are themselves Lychrel numbers; the first example is 4994.\n",
    "\n",
    "How many Lychrel numbers are there below ten-thousand?"
   ]
  },
  {
   "cell_type": "code",
   "execution_count": 169,
   "metadata": {},
   "outputs": [],
   "source": [
    "#Define function to reverse a number.\n",
    "def reverse(number):\n",
    "    reversed = int(str(number)[::-1]) \n",
    "    return(reversed)\n",
    "\n",
    "#Define function to sum a number and its reverse. \n",
    "def sum_reverse(number): \n",
    "    return(number + reverse(number))\n",
    "\n",
    "#Define a function to check if a number is a palindrome. \n",
    "def is_palindrome(number):\n",
    "    if (reverse(number) == number):\n",
    "        return True\n",
    "    else:\n",
    "        return False\n",
    "    \n",
    "#Define a function to check if a number is a lychrel value.\n",
    "def is_lychrel(number):\n",
    "    new_num = number\n",
    "    bool_lychrel = True\n",
    "    for i in range (50):\n",
    "        new_num = sum_reverse(new_num)\n",
    "        if is_palindrome(new_num): #Change flag to false if any numbers produced are palindromes. \n",
    "            bool_lychrel = False\n",
    "    return(bool_lychrel)"
   ]
  },
  {
   "cell_type": "code",
   "execution_count": 170,
   "metadata": {},
   "outputs": [],
   "source": [
    "#Iterate over the first 10000 numbers to see how many lychrel numbers there are.\n",
    "lychrel_list = []\n",
    "for i in range(0,10000):\n",
    "    lychrel_list.append(is_lychrel(i))\n",
    "    "
   ]
  },
  {
   "cell_type": "code",
   "execution_count": 171,
   "metadata": {},
   "outputs": [
    {
     "name": "stdout",
     "output_type": "stream",
     "text": [
      "The number of Lychrel numbers from 1 to 10000 is 249.\n"
     ]
    }
   ],
   "source": [
    "#Calculate the number of lychrel numbers by summing all of the True values in the list. \n",
    "print(\"The number of Lychrel numbers from 1 to 10000 is {}.\".format(sum(lychrel_list)))"
   ]
  },
  {
   "cell_type": "markdown",
   "metadata": {},
   "source": [
    "# Dice Game\n",
    "Peter has nine four-sided (pyramidal) dice, each with faces numbered 1, 2, 3, 4.\n",
    "Colin has six six-sided (cubic) dice, each with faces numbered 1, 2, 3, 4, 5, 6.\n",
    "\n",
    "Peter and Colin roll their dice and compare ks: the highest k wins. The result is a draw if the ks are equal.\n",
    "\n",
    "What is the probability that Pyramidal Pete beats Cubic Colin? "
   ]
  },
  {
   "cell_type": "markdown",
   "metadata": {},
   "source": [
    "I began with a Monte-Carlo simulation- I ran the game over and over again to see who would win. The average win probability will eventually converge to the true probability given enough runs of the simulation."
   ]
  },
  {
   "cell_type": "code",
   "execution_count": 38,
   "metadata": {},
   "outputs": [],
   "source": [
    "#Starting with a monte-carlo approach.\n",
    "def play_game():\n",
    "    #Calculate the scores for each player\n",
    "    pete_score = np.sum(np.random.randint(low = 1, high = 5, size = 9))\n",
    "    colin_score = np.sum(np.random.randint(low = 1, high = 7, size = 6))\n",
    "    #Compare scores to see who wins\n",
    "    if pete_score > colin_score:\n",
    "        winner = 1.0\n",
    "    else:\n",
    "        winner = 0.0\n",
    "    return(winner)"
   ]
  },
  {
   "cell_type": "code",
   "execution_count": 172,
   "metadata": {},
   "outputs": [],
   "source": [
    "#Run some simulations of the game \n",
    "winners = []\n",
    "for i in range(1000000):\n",
    "    winner = play_game()\n",
    "    winners.append(winner)"
   ]
  },
  {
   "cell_type": "code",
   "execution_count": 173,
   "metadata": {},
   "outputs": [
    {
     "name": "stdout",
     "output_type": "stream",
     "text": [
      "Pyrimidal Pete's win probability is about 0.573922.\n"
     ]
    }
   ],
   "source": [
    "#Print the result. It's accurate to the first 3 decimal places.\n",
    "print(\"Pyrimidal Pete's win probability is about {}.\".format(np.mean(winners)))"
   ]
  },
  {
   "cell_type": "markdown",
   "metadata": {},
   "source": [
    "However, this solution does not actually work. The question requires 7 decimal places of accuracy which the brute-force simulation is unable to achieve. A more direct mathematical strategy is needed to get a precise answer. Here we use an equation that explicitly calculates the probability of rolling a given sum k given n dice of sides n."
   ]
  },
  {
   "cell_type": "code",
   "execution_count": 162,
   "metadata": {},
   "outputs": [],
   "source": [
    "#Calculate the probability of a sum k occuring given n dice with sides n.\n",
    "def prob_outcome(k, s, n):\n",
    "    prob = 0 \n",
    "    possible_vals = math.pow(s,n)\n",
    "    top_val = math.floor((k - n)/s)\n",
    "    for i in range(0, top_val +1):\n",
    "        prob += math.pow(-1, i) * special.comb(n,i) * special.comb(k-s*i-1,n-1)\n",
    "    return prob/possible_vals\n",
    "\n",
    "#Create a dictionary of sums k with their associated probabilities for n dice with s sides.\n",
    "def find_probs(s, n): \n",
    "    prob_dict = {}\n",
    "    for i in range(n, s * n + 1):\n",
    "        prob_dict[i] = prob_outcome(i, s, n)\n",
    "    return(prob_dict)\n",
    "\n",
    "#Create a matrix of the product of the probabilities of seperate dice rolls. This will compute the probability of all combinations of their sums.\n",
    "def create_matrix(prob1, prob2):\n",
    "    prob_matrix = np.outer(prob1, prob2)\n",
    "    return(prob_matrix)\n",
    "        \n",
    "#Create an array of outcomes and a list of their associated probabilities of occurance.\n",
    "def label_creation(prob_dict):\n",
    "    return np.array(list(prob_dict.keys())), np.array(list(prob_dict.values()))\n",
    "\n",
    "#Compare the possible outcomes to produce a matrix that shows who wins. \n",
    "def win_matrix(outcomes1, outcomes2):\n",
    "    d1 = outcomes1.shape[0]\n",
    "    d2 = outcomes2.shape[0]\n",
    "    win_matrix = np.zeros((d1,d2))\n",
    "    for i in range(d1): #Rows\n",
    "        for j in range(d2): #Columns\n",
    "            if outcomes1[i] > outcomes2[j]: #Compare values\n",
    "                win_matrix[i,j] = True\n",
    "            else:\n",
    "                win_matrix[i,j] = False\n",
    "    return(win_matrix)\n",
    "                \n",
    "#Multiply the wins with the probability of the win occurring and sum them. This produces the overall win rate. \n",
    "def win_prob(win_matrix, prob_matrix):\n",
    "    return (np.sum(win_matrix * prob_matrix))\n",
    "    \n",
    "\n"
   ]
  },
  {
   "cell_type": "code",
   "execution_count": 163,
   "metadata": {},
   "outputs": [],
   "source": [
    "#Save each outcome and its associated probability.\n",
    "outcomes1, probs1 = label_creation(find_probs(4,9))\n",
    "outcomes2, probs2 = label_creation(find_probs(6,6))"
   ]
  },
  {
   "cell_type": "code",
   "execution_count": 164,
   "metadata": {},
   "outputs": [
    {
     "data": {
      "image/png": "[encoded data removed]",
      "text/plain": [
       "<Figure size 432x288 with 2 Axes>"
      ]
     },
     "metadata": {
      "needs_background": "light"
     },
     "output_type": "display_data"
    }
   ],
   "source": [
    "#Create a matrix of the product of the probabilities to find the chance of them occurring jointly.\n",
    "prob_matrix = np.outer(probs1, probs2)\n",
    "\n",
    "#Plot a heatmap of the outcomes.\n",
    "df = pd.DataFrame(matrix, index = outcomes1, columns = outcomes2)\n",
    "sns.heatmap(df, cmap = 'Blues', linewidths=.00001).set_title('Heatmap of Dice Outcomes')\n",
    "plt.xlabel(\"Pete's roll\")\n",
    "plt.ylabel(\"Colin's Roll\")\n",
    "pass"
   ]
  },
  {
   "cell_type": "code",
   "execution_count": 165,
   "metadata": {},
   "outputs": [],
   "source": [
    "#Calculate a matrix of Pete's wins.\n",
    "wins = win_matrix(outcomes1, outcomes2)"
   ]
  },
  {
   "cell_type": "code",
   "execution_count": 166,
   "metadata": {},
   "outputs": [
    {
     "data": {
      "text/plain": [
       "Text(51.0, 0.5, \"Colin's Roll\")"
      ]
     },
     "execution_count": 166,
     "metadata": {},
     "output_type": "execute_result"
    },
    {
     "data": {
      "image/png": "[encoded data removed]",
      "text/plain": [
       "<Figure size 576x576 with 2 Axes>"
      ]
     },
     "metadata": {
      "needs_background": "light"
     },
     "output_type": "display_data"
    }
   ],
   "source": [
    "#Create pretty binary colormap to display the data.\n",
    "colors = [\"mediumblue\", \"aliceblue\"] \n",
    "cmap = LinearSegmentedColormap.from_list('Custom', colors, len(colors))\n",
    "\n",
    "#Heatmap of winning values.\n",
    "f, ax = plt.subplots(figsize=(8, 8))\n",
    "sns.heatmap(wins, cmap = cmap, yticklabels = outcomes1 , xticklabels = outcomes2, linewidths=.00001).set_title('Winning and Losing Outcomes for Pete')\n",
    "colorbar = ax.collections[0].colorbar\n",
    "colorbar.set_ticks([0.25,0.75])\n",
    "colorbar.set_ticklabels(['Win', 'Lose'])\n",
    "plt.xlabel(\"Pete's Roll\")\n",
    "plt.ylabel(\"Colin's Roll\")"
   ]
  },
  {
   "cell_type": "code",
   "execution_count": 167,
   "metadata": {},
   "outputs": [
    {
     "name": "stdout",
     "output_type": "stream",
     "text": [
      "The probability Pete will win is 0.5731440767829801.\n"
     ]
    }
   ],
   "source": [
    "#Calculate the mean of the product of the two matrices to get the average win probability.\n",
    "print(\"The probability Pete will win is {}.\".format(win_prob(wins, prob_matrix)))"
   ]
  },
  {
   "cell_type": "markdown",
   "metadata": {},
   "source": [
    "Dice Mathematics: https://mathworld.wolfram.com/Dice.html\n",
    "\n",
    "Coloring Binary Heatmap: https://stackoverflow.com/questions/52364815/any-way-to-change-color-bar-cbar-in-seaborn-to-a-legend-for-a-binary-heatmap"
   ]
  }
 ],
 "metadata": {
  "kernelspec": {
   "display_name": "Python 3",
   "language": "python",
   "name": "python3"
  },
  "language_info": {
   "codemirror_mode": {
    "name": "ipython",
    "version": 3
   },
   "file_extension": ".py",
   "mimetype": "text/x-python",
   "name": "python",
   "nbconvert_exporter": "python",
   "pygments_lexer": "ipython3",
   "version": "3.7.3"
  }
 },
 "nbformat": 4,
 "nbformat_minor": 4
}
