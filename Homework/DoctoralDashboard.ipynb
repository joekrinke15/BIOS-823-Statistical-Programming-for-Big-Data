{
 "cells": [
  {
   "cell_type": "code",
   "execution_count": 14,
   "metadata": {},
   "outputs": [],
   "source": [
    "import dash\n",
    "import dash_core_components as dcc\n",
    "import dash_html_components as html\n",
    "import plotly.express as px\n",
    "import pandas as pd\n",
    "import numpy as np\n",
    "import os\n",
    "import chart_studio"
   ]
  },
  {
   "cell_type": "markdown",
   "metadata": {},
   "source": [
    "# Questions to answer\n",
    "\n",
    "* Which fields have the least debt?\n",
    "* Which fields get the most financial support?\n",
    "* Which fields get jobs?\n",
    "* Which fields have the highest starting salaries?\n",
    "\n",
    "Needed Tables: 31,38,39,46,55"
   ]
  },
  {
   "cell_type": "code",
   "execution_count": 15,
   "metadata": {},
   "outputs": [],
   "source": [
    "# Configure chart studio\n",
    "username = 'joekrinke15'\n",
    "api_key = '3UIxCNqgl1qv5F4pPY7E'\n",
    "\n",
    "chart_studio.tools.set_credentials_file(username = username, api_key = api_key)\n",
    "import chart_studio.plotly as py\n",
    "import chart_studio.tools as tls\n"
   ]
  },
  {
   "cell_type": "code",
   "execution_count": 16,
   "metadata": {},
   "outputs": [],
   "source": [
    "# Load in needed tables\n",
    "path = r'C:\\Users\\Joe Krinke\\Desktop\\Doctoral Data'\n",
    "\n",
    "table = pd.read_csv(path + '\\Doctoral Degree Data.csv')\n",
    "\n",
    "sankey = pd.read_csv(path + '\\Doctoral Sankey.csv')\n",
    "\n",
    "# Set our colors!\n",
    "\n",
    "colors = ['rgba(220,249,150,1)', 'rgba(204,235,197, 1)',\n",
    "          'rgba(168,221,181, 1)', 'rgba(123,204,196, 1)',\n",
    "          'rgba(67,162,202, 1)','rgba(8,104,172, 1)']\n"
   ]
  },
  {
   "cell_type": "code",
   "execution_count": 17,
   "metadata": {},
   "outputs": [
    {
     "data": {
      "application/vnd.plotly.v1+json": {
       "config": {
        "plotlyServerURL": "https://plotly.com"
       },
       "data": [
        {
         "alignmentgroup": "True",
         "hovertemplate": "Field=%{x}<br>Percent Without Definite Commitment =%{y}<extra></extra>",
         "legendgroup": "",
         "marker": {
          "color": "rgba(67,162,202, 1)"
         },
         "name": "",
         "offsetgroup": "",
         "orientation": "v",
         "showlegend": false,
         "textposition": "auto",
         "type": "bar",
         "x": [
          "Humanities and arts",
          "Engineering",
          "Life sciences",
          "Physical sciences and earth sciences",
          "All fields",
          "Education",
          "Psychology and social sciences",
          "Mathematics and computer sciences",
          "Other"
         ],
         "xaxis": "x",
         "y": [
          42.9,
          36,
          35.5,
          34.4,
          33.4,
          30.6,
          27.8,
          27.4,
          26
         ],
         "yaxis": "y"
        }
       ],
       "layout": {
        "autosize": true,
        "barmode": "relative",
        "legend": {
         "tracegroupgap": 0
        },
        "template": {
         "data": {
          "bar": [
           {
            "error_x": {
             "color": "#2a3f5f"
            },
            "error_y": {
             "color": "#2a3f5f"
            },
            "marker": {
             "line": {
              "color": "#E5ECF6",
              "width": 0.5
             }
            },
            "type": "bar"
           }
          ],
          "barpolar": [
           {
            "marker": {
             "line": {
              "color": "#E5ECF6",
              "width": 0.5
             }
            },
            "type": "barpolar"
           }
          ],
          "carpet": [
           {
            "aaxis": {
             "endlinecolor": "#2a3f5f",
             "gridcolor": "white",
             "linecolor": "white",
             "minorgridcolor": "white",
             "startlinecolor": "#2a3f5f"
            },
            "baxis": {
             "endlinecolor": "#2a3f5f",
             "gridcolor": "white",
             "linecolor": "white",
             "minorgridcolor": "white",
             "startlinecolor": "#2a3f5f"
            },
            "type": "carpet"
           }
          ],
          "choropleth": [
           {
            "colorbar": {
             "outlinewidth": 0,
             "ticks": ""
            },
            "type": "choropleth"
           }
          ],
          "contour": [
           {
            "colorbar": {
             "outlinewidth": 0,
             "ticks": ""
            },
            "colorscale": [
             [
              0,
              "#0d0887"
             ],
             [
              0.1111111111111111,
              "#46039f"
             ],
             [
              0.2222222222222222,
              "#7201a8"
             ],
             [
              0.3333333333333333,
              "#9c179e"
             ],
             [
              0.4444444444444444,
              "#bd3786"
             ],
             [
              0.5555555555555556,
              "#d8576b"
             ],
             [
              0.6666666666666666,
              "#ed7953"
             ],
             [
              0.7777777777777778,
              "#fb9f3a"
             ],
             [
              0.8888888888888888,
              "#fdca26"
             ],
             [
              1,
              "#f0f921"
             ]
            ],
            "type": "contour"
           }
          ],
          "contourcarpet": [
           {
            "colorbar": {
             "outlinewidth": 0,
             "ticks": ""
            },
            "type": "contourcarpet"
           }
          ],
          "heatmap": [
           {
            "colorbar": {
             "outlinewidth": 0,
             "ticks": ""
            },
            "colorscale": [
             [
              0,
              "#0d0887"
             ],
             [
              0.1111111111111111,
              "#46039f"
             ],
             [
              0.2222222222222222,
              "#7201a8"
             ],
             [
              0.3333333333333333,
              "#9c179e"
             ],
             [
              0.4444444444444444,
              "#bd3786"
             ],
             [
              0.5555555555555556,
              "#d8576b"
             ],
             [
              0.6666666666666666,
              "#ed7953"
             ],
             [
              0.7777777777777778,
              "#fb9f3a"
             ],
             [
              0.8888888888888888,
              "#fdca26"
             ],
             [
              1,
              "#f0f921"
             ]
            ],
            "type": "heatmap"
           }
          ],
          "heatmapgl": [
           {
            "colorbar": {
             "outlinewidth": 0,
             "ticks": ""
            },
            "colorscale": [
             [
              0,
              "#0d0887"
             ],
             [
              0.1111111111111111,
              "#46039f"
             ],
             [
              0.2222222222222222,
              "#7201a8"
             ],
             [
              0.3333333333333333,
              "#9c179e"
             ],
             [
              0.4444444444444444,
              "#bd3786"
             ],
             [
              0.5555555555555556,
              "#d8576b"
             ],
             [
              0.6666666666666666,
              "#ed7953"
             ],
             [
              0.7777777777777778,
              "#fb9f3a"
             ],
             [
              0.8888888888888888,
              "#fdca26"
             ],
             [
              1,
              "#f0f921"
             ]
            ],
            "type": "heatmapgl"
           }
          ],
          "histogram": [
           {
            "marker": {
             "colorbar": {
              "outlinewidth": 0,
              "ticks": ""
             }
            },
            "type": "histogram"
           }
          ],
          "histogram2d": [
           {
            "colorbar": {
             "outlinewidth": 0,
             "ticks": ""
            },
            "colorscale": [
             [
              0,
              "#0d0887"
             ],
             [
              0.1111111111111111,
              "#46039f"
             ],
             [
              0.2222222222222222,
              "#7201a8"
             ],
             [
              0.3333333333333333,
              "#9c179e"
             ],
             [
              0.4444444444444444,
              "#bd3786"
             ],
             [
              0.5555555555555556,
              "#d8576b"
             ],
             [
              0.6666666666666666,
              "#ed7953"
             ],
             [
              0.7777777777777778,
              "#fb9f3a"
             ],
             [
              0.8888888888888888,
              "#fdca26"
             ],
             [
              1,
              "#f0f921"
             ]
            ],
            "type": "histogram2d"
           }
          ],
          "histogram2dcontour": [
           {
            "colorbar": {
             "outlinewidth": 0,
             "ticks": ""
            },
            "colorscale": [
             [
              0,
              "#0d0887"
             ],
             [
              0.1111111111111111,
              "#46039f"
             ],
             [
              0.2222222222222222,
              "#7201a8"
             ],
             [
              0.3333333333333333,
              "#9c179e"
             ],
             [
              0.4444444444444444,
              "#bd3786"
             ],
             [
              0.5555555555555556,
              "#d8576b"
             ],
             [
              0.6666666666666666,
              "#ed7953"
             ],
             [
              0.7777777777777778,
              "#fb9f3a"
             ],
             [
              0.8888888888888888,
              "#fdca26"
             ],
             [
              1,
              "#f0f921"
             ]
            ],
            "type": "histogram2dcontour"
           }
          ],
          "mesh3d": [
           {
            "colorbar": {
             "outlinewidth": 0,
             "ticks": ""
            },
            "type": "mesh3d"
           }
          ],
          "parcoords": [
           {
            "line": {
             "colorbar": {
              "outlinewidth": 0,
              "ticks": ""
             }
            },
            "type": "parcoords"
           }
          ],
          "pie": [
           {
            "automargin": true,
            "type": "pie"
           }
          ],
          "scatter": [
           {
            "marker": {
             "colorbar": {
              "outlinewidth": 0,
              "ticks": ""
             }
            },
            "type": "scatter"
           }
          ],
          "scatter3d": [
           {
            "line": {
             "colorbar": {
              "outlinewidth": 0,
              "ticks": ""
             }
            },
            "marker": {
             "colorbar": {
              "outlinewidth": 0,
              "ticks": ""
             }
            },
            "type": "scatter3d"
           }
          ],
          "scattercarpet": [
           {
            "marker": {
             "colorbar": {
              "outlinewidth": 0,
              "ticks": ""
             }
            },
            "type": "scattercarpet"
           }
          ],
          "scattergeo": [
           {
            "marker": {
             "colorbar": {
              "outlinewidth": 0,
              "ticks": ""
             }
            },
            "type": "scattergeo"
           }
          ],
          "scattergl": [
           {
            "marker": {
             "colorbar": {
              "outlinewidth": 0,
              "ticks": ""
             }
            },
            "type": "scattergl"
           }
          ],
          "scattermapbox": [
           {
            "marker": {
             "colorbar": {
              "outlinewidth": 0,
              "ticks": ""
             }
            },
            "type": "scattermapbox"
           }
          ],
          "scatterpolar": [
           {
            "marker": {
             "colorbar": {
              "outlinewidth": 0,
              "ticks": ""
             }
            },
            "type": "scatterpolar"
           }
          ],
          "scatterpolargl": [
           {
            "marker": {
             "colorbar": {
              "outlinewidth": 0,
              "ticks": ""
             }
            },
            "type": "scatterpolargl"
           }
          ],
          "scatterternary": [
           {
            "marker": {
             "colorbar": {
              "outlinewidth": 0,
              "ticks": ""
             }
            },
            "type": "scatterternary"
           }
          ],
          "surface": [
           {
            "colorbar": {
             "outlinewidth": 0,
             "ticks": ""
            },
            "colorscale": [
             [
              0,
              "#0d0887"
             ],
             [
              0.1111111111111111,
              "#46039f"
             ],
             [
              0.2222222222222222,
              "#7201a8"
             ],
             [
              0.3333333333333333,
              "#9c179e"
             ],
             [
              0.4444444444444444,
              "#bd3786"
             ],
             [
              0.5555555555555556,
              "#d8576b"
             ],
             [
              0.6666666666666666,
              "#ed7953"
             ],
             [
              0.7777777777777778,
              "#fb9f3a"
             ],
             [
              0.8888888888888888,
              "#fdca26"
             ],
             [
              1,
              "#f0f921"
             ]
            ],
            "type": "surface"
           }
          ],
          "table": [
           {
            "cells": {
             "fill": {
              "color": "#EBF0F8"
             },
             "line": {
              "color": "white"
             }
            },
            "header": {
             "fill": {
              "color": "#C8D4E3"
             },
             "line": {
              "color": "white"
             }
            },
            "type": "table"
           }
          ]
         },
         "layout": {
          "annotationdefaults": {
           "arrowcolor": "#2a3f5f",
           "arrowhead": 0,
           "arrowwidth": 1
          },
          "coloraxis": {
           "colorbar": {
            "outlinewidth": 0,
            "ticks": ""
           }
          },
          "colorscale": {
           "diverging": [
            [
             0,
             "#8e0152"
            ],
            [
             0.1,
             "#c51b7d"
            ],
            [
             0.2,
             "#de77ae"
            ],
            [
             0.3,
             "#f1b6da"
            ],
            [
             0.4,
             "#fde0ef"
            ],
            [
             0.5,
             "#f7f7f7"
            ],
            [
             0.6,
             "#e6f5d0"
            ],
            [
             0.7,
             "#b8e186"
            ],
            [
             0.8,
             "#7fbc41"
            ],
            [
             0.9,
             "#4d9221"
            ],
            [
             1,
             "#276419"
            ]
           ],
           "sequential": [
            [
             0,
             "#0d0887"
            ],
            [
             0.1111111111111111,
             "#46039f"
            ],
            [
             0.2222222222222222,
             "#7201a8"
            ],
            [
             0.3333333333333333,
             "#9c179e"
            ],
            [
             0.4444444444444444,
             "#bd3786"
            ],
            [
             0.5555555555555556,
             "#d8576b"
            ],
            [
             0.6666666666666666,
             "#ed7953"
            ],
            [
             0.7777777777777778,
             "#fb9f3a"
            ],
            [
             0.8888888888888888,
             "#fdca26"
            ],
            [
             1,
             "#f0f921"
            ]
           ],
           "sequentialminus": [
            [
             0,
             "#0d0887"
            ],
            [
             0.1111111111111111,
             "#46039f"
            ],
            [
             0.2222222222222222,
             "#7201a8"
            ],
            [
             0.3333333333333333,
             "#9c179e"
            ],
            [
             0.4444444444444444,
             "#bd3786"
            ],
            [
             0.5555555555555556,
             "#d8576b"
            ],
            [
             0.6666666666666666,
             "#ed7953"
            ],
            [
             0.7777777777777778,
             "#fb9f3a"
            ],
            [
             0.8888888888888888,
             "#fdca26"
            ],
            [
             1,
             "#f0f921"
            ]
           ]
          },
          "colorway": [
           "#636efa",
           "#EF553B",
           "#00cc96",
           "#ab63fa",
           "#FFA15A",
           "#19d3f3",
           "#FF6692",
           "#B6E880",
           "#FF97FF",
           "#FECB52"
          ],
          "font": {
           "color": "#2a3f5f"
          },
          "geo": {
           "bgcolor": "white",
           "lakecolor": "white",
           "landcolor": "#E5ECF6",
           "showlakes": true,
           "showland": true,
           "subunitcolor": "white"
          },
          "hoverlabel": {
           "align": "left"
          },
          "hovermode": "closest",
          "mapbox": {
           "style": "light"
          },
          "paper_bgcolor": "white",
          "plot_bgcolor": "#E5ECF6",
          "polar": {
           "angularaxis": {
            "gridcolor": "white",
            "linecolor": "white",
            "ticks": ""
           },
           "bgcolor": "#E5ECF6",
           "radialaxis": {
            "gridcolor": "white",
            "linecolor": "white",
            "ticks": ""
           }
          },
          "scene": {
           "xaxis": {
            "backgroundcolor": "#E5ECF6",
            "gridcolor": "white",
            "gridwidth": 2,
            "linecolor": "white",
            "showbackground": true,
            "ticks": "",
            "zerolinecolor": "white"
           },
           "yaxis": {
            "backgroundcolor": "#E5ECF6",
            "gridcolor": "white",
            "gridwidth": 2,
            "linecolor": "white",
            "showbackground": true,
            "ticks": "",
            "zerolinecolor": "white"
           },
           "zaxis": {
            "backgroundcolor": "#E5ECF6",
            "gridcolor": "white",
            "gridwidth": 2,
            "linecolor": "white",
            "showbackground": true,
            "ticks": "",
            "zerolinecolor": "white"
           }
          },
          "shapedefaults": {
           "line": {
            "color": "#2a3f5f"
           }
          },
          "ternary": {
           "aaxis": {
            "gridcolor": "white",
            "linecolor": "white",
            "ticks": ""
           },
           "baxis": {
            "gridcolor": "white",
            "linecolor": "white",
            "ticks": ""
           },
           "bgcolor": "#E5ECF6",
           "caxis": {
            "gridcolor": "white",
            "linecolor": "white",
            "ticks": ""
           }
          },
          "title": {
           "x": 0.05
          },
          "xaxis": {
           "automargin": true,
           "gridcolor": "white",
           "linecolor": "white",
           "ticks": "",
           "title": {
            "standoff": 15
           },
           "zerolinecolor": "white",
           "zerolinewidth": 2
          },
          "yaxis": {
           "automargin": true,
           "gridcolor": "white",
           "linecolor": "white",
           "ticks": "",
           "title": {
            "standoff": 15
           },
           "zerolinecolor": "white",
           "zerolinewidth": 2
          }
         }
        },
        "title": {
         "text": "Percent of Graduating Students Without Post-Graduation Commitments",
         "x": 0.5
        },
        "xaxis": {
         "anchor": "y",
         "autorange": true,
         "domain": [
          0,
          1
         ],
         "range": [
          -0.5,
          8.5
         ],
         "title": {
          "text": "Field"
         },
         "type": "category"
        },
        "yaxis": {
         "anchor": "x",
         "autorange": true,
         "domain": [
          0,
          1
         ],
         "range": [
          0,
          45.1578947368421
         ],
         "title": {
          "text": "Percent Without Definite Commitment "
         },
         "type": "linear"
        }
       }
      },
      "image/png": "[encoded data removed]",
      "text/html": [
       "<div>                            <div id=\"2f6354c3-8e6f-47f3-8307-6b48ba2a6a35\" class=\"plotly-graph-div\" style=\"height:525px; width:100%;\"></div>            <script type=\"text/javascript\">                require([\"plotly\"], function(Plotly) {                    window.PLOTLYENV=window.PLOTLYENV || {};                                    if (document.getElementById(\"2f6354c3-8e6f-47f3-8307-6b48ba2a6a35\")) {                    Plotly.newPlot(                        \"2f6354c3-8e6f-47f3-8307-6b48ba2a6a35\",                        [{\"alignmentgroup\": \"True\", \"hovertemplate\": \"Field=%{x}<br>Percent Without Definite Commitment =%{y}<extra></extra>\", \"legendgroup\": \"\", \"marker\": {\"color\": \"rgba(67,162,202, 1)\"}, \"name\": \"\", \"offsetgroup\": \"\", \"orientation\": \"v\", \"showlegend\": false, \"textposition\": \"auto\", \"type\": \"bar\", \"x\": [\"Humanities and arts\", \"Engineering\", \"Life sciences\", \"Physical sciences and earth sciences\", \"All fields\", \"Education\", \"Psychology and social sciences\", \"Mathematics and computer sciences\", \"Other\"], \"xaxis\": \"x\", \"y\": [42.9, 36.0, 35.5, 34.4, 33.4, 30.6, 27.8, 27.4, 26.0], \"yaxis\": \"y\"}],                        {\"barmode\": \"relative\", \"legend\": {\"tracegroupgap\": 0}, \"template\": {\"data\": {\"bar\": [{\"error_x\": {\"color\": \"#2a3f5f\"}, \"error_y\": {\"color\": \"#2a3f5f\"}, \"marker\": {\"line\": {\"color\": \"#E5ECF6\", \"width\": 0.5}}, \"type\": \"bar\"}], \"barpolar\": [{\"marker\": {\"line\": {\"color\": \"#E5ECF6\", \"width\": 0.5}}, \"type\": \"barpolar\"}], \"carpet\": [{\"aaxis\": {\"endlinecolor\": \"#2a3f5f\", \"gridcolor\": \"white\", \"linecolor\": \"white\", \"minorgridcolor\": \"white\", \"startlinecolor\": \"#2a3f5f\"}, \"baxis\": {\"endlinecolor\": \"#2a3f5f\", \"gridcolor\": \"white\", \"linecolor\": \"white\", \"minorgridcolor\": \"white\", \"startlinecolor\": \"#2a3f5f\"}, \"type\": \"carpet\"}], \"choropleth\": [{\"colorbar\": {\"outlinewidth\": 0, \"ticks\": \"\"}, \"type\": \"choropleth\"}], \"contour\": [{\"colorbar\": {\"outlinewidth\": 0, \"ticks\": \"\"}, \"colorscale\": [[0.0, \"#0d0887\"], [0.1111111111111111, \"#46039f\"], [0.2222222222222222, \"#7201a8\"], [0.3333333333333333, \"#9c179e\"], [0.4444444444444444, \"#bd3786\"], [0.5555555555555556, \"#d8576b\"], [0.6666666666666666, \"#ed7953\"], [0.7777777777777778, \"#fb9f3a\"], [0.8888888888888888, \"#fdca26\"], [1.0, \"#f0f921\"]], \"type\": \"contour\"}], \"contourcarpet\": [{\"colorbar\": {\"outlinewidth\": 0, \"ticks\": \"\"}, \"type\": \"contourcarpet\"}], \"heatmap\": [{\"colorbar\": {\"outlinewidth\": 0, \"ticks\": \"\"}, \"colorscale\": [[0.0, \"#0d0887\"], [0.1111111111111111, \"#46039f\"], [0.2222222222222222, \"#7201a8\"], [0.3333333333333333, \"#9c179e\"], [0.4444444444444444, \"#bd3786\"], [0.5555555555555556, \"#d8576b\"], [0.6666666666666666, \"#ed7953\"], [0.7777777777777778, \"#fb9f3a\"], [0.8888888888888888, \"#fdca26\"], [1.0, \"#f0f921\"]], \"type\": \"heatmap\"}], \"heatmapgl\": [{\"colorbar\": {\"outlinewidth\": 0, \"ticks\": \"\"}, \"colorscale\": [[0.0, \"#0d0887\"], [0.1111111111111111, \"#46039f\"], [0.2222222222222222, \"#7201a8\"], [0.3333333333333333, \"#9c179e\"], [0.4444444444444444, \"#bd3786\"], [0.5555555555555556, \"#d8576b\"], [0.6666666666666666, \"#ed7953\"], [0.7777777777777778, \"#fb9f3a\"], [0.8888888888888888, \"#fdca26\"], [1.0, \"#f0f921\"]], \"type\": \"heatmapgl\"}], \"histogram\": [{\"marker\": {\"colorbar\": {\"outlinewidth\": 0, \"ticks\": \"\"}}, \"type\": \"histogram\"}], \"histogram2d\": [{\"colorbar\": {\"outlinewidth\": 0, \"ticks\": \"\"}, \"colorscale\": [[0.0, \"#0d0887\"], [0.1111111111111111, \"#46039f\"], [0.2222222222222222, \"#7201a8\"], [0.3333333333333333, \"#9c179e\"], [0.4444444444444444, \"#bd3786\"], [0.5555555555555556, \"#d8576b\"], [0.6666666666666666, \"#ed7953\"], [0.7777777777777778, \"#fb9f3a\"], [0.8888888888888888, \"#fdca26\"], [1.0, \"#f0f921\"]], \"type\": \"histogram2d\"}], \"histogram2dcontour\": [{\"colorbar\": {\"outlinewidth\": 0, \"ticks\": \"\"}, \"colorscale\": [[0.0, \"#0d0887\"], [0.1111111111111111, \"#46039f\"], [0.2222222222222222, \"#7201a8\"], [0.3333333333333333, \"#9c179e\"], [0.4444444444444444, \"#bd3786\"], [0.5555555555555556, \"#d8576b\"], [0.6666666666666666, \"#ed7953\"], [0.7777777777777778, \"#fb9f3a\"], [0.8888888888888888, \"#fdca26\"], [1.0, \"#f0f921\"]], \"type\": \"histogram2dcontour\"}], \"mesh3d\": [{\"colorbar\": {\"outlinewidth\": 0, \"ticks\": \"\"}, \"type\": \"mesh3d\"}], \"parcoords\": [{\"line\": {\"colorbar\": {\"outlinewidth\": 0, \"ticks\": \"\"}}, \"type\": \"parcoords\"}], \"pie\": [{\"automargin\": true, \"type\": \"pie\"}], \"scatter\": [{\"marker\": {\"colorbar\": {\"outlinewidth\": 0, \"ticks\": \"\"}}, \"type\": \"scatter\"}], \"scatter3d\": [{\"line\": {\"colorbar\": {\"outlinewidth\": 0, \"ticks\": \"\"}}, \"marker\": {\"colorbar\": {\"outlinewidth\": 0, \"ticks\": \"\"}}, \"type\": \"scatter3d\"}], \"scattercarpet\": [{\"marker\": {\"colorbar\": {\"outlinewidth\": 0, \"ticks\": \"\"}}, \"type\": \"scattercarpet\"}], \"scattergeo\": [{\"marker\": {\"colorbar\": {\"outlinewidth\": 0, \"ticks\": \"\"}}, \"type\": \"scattergeo\"}], \"scattergl\": [{\"marker\": {\"colorbar\": {\"outlinewidth\": 0, \"ticks\": \"\"}}, \"type\": \"scattergl\"}], \"scattermapbox\": [{\"marker\": {\"colorbar\": {\"outlinewidth\": 0, \"ticks\": \"\"}}, \"type\": \"scattermapbox\"}], \"scatterpolar\": [{\"marker\": {\"colorbar\": {\"outlinewidth\": 0, \"ticks\": \"\"}}, \"type\": \"scatterpolar\"}], \"scatterpolargl\": [{\"marker\": {\"colorbar\": {\"outlinewidth\": 0, \"ticks\": \"\"}}, \"type\": \"scatterpolargl\"}], \"scatterternary\": [{\"marker\": {\"colorbar\": {\"outlinewidth\": 0, \"ticks\": \"\"}}, \"type\": \"scatterternary\"}], \"surface\": [{\"colorbar\": {\"outlinewidth\": 0, \"ticks\": \"\"}, \"colorscale\": [[0.0, \"#0d0887\"], [0.1111111111111111, \"#46039f\"], [0.2222222222222222, \"#7201a8\"], [0.3333333333333333, \"#9c179e\"], [0.4444444444444444, \"#bd3786\"], [0.5555555555555556, \"#d8576b\"], [0.6666666666666666, \"#ed7953\"], [0.7777777777777778, \"#fb9f3a\"], [0.8888888888888888, \"#fdca26\"], [1.0, \"#f0f921\"]], \"type\": \"surface\"}], \"table\": [{\"cells\": {\"fill\": {\"color\": \"#EBF0F8\"}, \"line\": {\"color\": \"white\"}}, \"header\": {\"fill\": {\"color\": \"#C8D4E3\"}, \"line\": {\"color\": \"white\"}}, \"type\": \"table\"}]}, \"layout\": {\"annotationdefaults\": {\"arrowcolor\": \"#2a3f5f\", \"arrowhead\": 0, \"arrowwidth\": 1}, \"coloraxis\": {\"colorbar\": {\"outlinewidth\": 0, \"ticks\": \"\"}}, \"colorscale\": {\"diverging\": [[0, \"#8e0152\"], [0.1, \"#c51b7d\"], [0.2, \"#de77ae\"], [0.3, \"#f1b6da\"], [0.4, \"#fde0ef\"], [0.5, \"#f7f7f7\"], [0.6, \"#e6f5d0\"], [0.7, \"#b8e186\"], [0.8, \"#7fbc41\"], [0.9, \"#4d9221\"], [1, \"#276419\"]], \"sequential\": [[0.0, \"#0d0887\"], [0.1111111111111111, \"#46039f\"], [0.2222222222222222, \"#7201a8\"], [0.3333333333333333, \"#9c179e\"], [0.4444444444444444, \"#bd3786\"], [0.5555555555555556, \"#d8576b\"], [0.6666666666666666, \"#ed7953\"], [0.7777777777777778, \"#fb9f3a\"], [0.8888888888888888, \"#fdca26\"], [1.0, \"#f0f921\"]], \"sequentialminus\": [[0.0, \"#0d0887\"], [0.1111111111111111, \"#46039f\"], [0.2222222222222222, \"#7201a8\"], [0.3333333333333333, \"#9c179e\"], [0.4444444444444444, \"#bd3786\"], [0.5555555555555556, \"#d8576b\"], [0.6666666666666666, \"#ed7953\"], [0.7777777777777778, \"#fb9f3a\"], [0.8888888888888888, \"#fdca26\"], [1.0, \"#f0f921\"]]}, \"colorway\": [\"#636efa\", \"#EF553B\", \"#00cc96\", \"#ab63fa\", \"#FFA15A\", \"#19d3f3\", \"#FF6692\", \"#B6E880\", \"#FF97FF\", \"#FECB52\"], \"font\": {\"color\": \"#2a3f5f\"}, \"geo\": {\"bgcolor\": \"white\", \"lakecolor\": \"white\", \"landcolor\": \"#E5ECF6\", \"showlakes\": true, \"showland\": true, \"subunitcolor\": \"white\"}, \"hoverlabel\": {\"align\": \"left\"}, \"hovermode\": \"closest\", \"mapbox\": {\"style\": \"light\"}, \"paper_bgcolor\": \"white\", \"plot_bgcolor\": \"#E5ECF6\", \"polar\": {\"angularaxis\": {\"gridcolor\": \"white\", \"linecolor\": \"white\", \"ticks\": \"\"}, \"bgcolor\": \"#E5ECF6\", \"radialaxis\": {\"gridcolor\": \"white\", \"linecolor\": \"white\", \"ticks\": \"\"}}, \"scene\": {\"xaxis\": {\"backgroundcolor\": \"#E5ECF6\", \"gridcolor\": \"white\", \"gridwidth\": 2, \"linecolor\": \"white\", \"showbackground\": true, \"ticks\": \"\", \"zerolinecolor\": \"white\"}, \"yaxis\": {\"backgroundcolor\": \"#E5ECF6\", \"gridcolor\": \"white\", \"gridwidth\": 2, \"linecolor\": \"white\", \"showbackground\": true, \"ticks\": \"\", \"zerolinecolor\": \"white\"}, \"zaxis\": {\"backgroundcolor\": \"#E5ECF6\", \"gridcolor\": \"white\", \"gridwidth\": 2, \"linecolor\": \"white\", \"showbackground\": true, \"ticks\": \"\", \"zerolinecolor\": \"white\"}}, \"shapedefaults\": {\"line\": {\"color\": \"#2a3f5f\"}}, \"ternary\": {\"aaxis\": {\"gridcolor\": \"white\", \"linecolor\": \"white\", \"ticks\": \"\"}, \"baxis\": {\"gridcolor\": \"white\", \"linecolor\": \"white\", \"ticks\": \"\"}, \"bgcolor\": \"#E5ECF6\", \"caxis\": {\"gridcolor\": \"white\", \"linecolor\": \"white\", \"ticks\": \"\"}}, \"title\": {\"x\": 0.05}, \"xaxis\": {\"automargin\": true, \"gridcolor\": \"white\", \"linecolor\": \"white\", \"ticks\": \"\", \"title\": {\"standoff\": 15}, \"zerolinecolor\": \"white\", \"zerolinewidth\": 2}, \"yaxis\": {\"automargin\": true, \"gridcolor\": \"white\", \"linecolor\": \"white\", \"ticks\": \"\", \"title\": {\"standoff\": 15}, \"zerolinecolor\": \"white\", \"zerolinewidth\": 2}}}, \"title\": {\"text\": \"Percent of Graduating Students Without Post-Graduation Commitments\", \"x\": 0.5}, \"xaxis\": {\"anchor\": \"y\", \"domain\": [0.0, 1.0], \"title\": {\"text\": \"Field\"}}, \"yaxis\": {\"anchor\": \"x\", \"domain\": [0.0, 1.0], \"title\": {\"text\": \"Percent Without Definite Commitment \"}}},                        {\"responsive\": true}                    ).then(function(){\n",
       "                            \n",
       "var gd = document.getElementById('2f6354c3-8e6f-47f3-8307-6b48ba2a6a35');\n",
       "var x = new MutationObserver(function (mutations, observer) {{\n",
       "        var display = window.getComputedStyle(gd).display;\n",
       "        if (!display || display === 'none') {{\n",
       "            console.log([gd, 'removed!']);\n",
       "            Plotly.purge(gd);\n",
       "            observer.disconnect();\n",
       "        }}\n",
       "}});\n",
       "\n",
       "// Listen for the removal of the full notebook cells\n",
       "var notebookContainer = gd.closest('#notebook-container');\n",
       "if (notebookContainer) {{\n",
       "    x.observe(notebookContainer, {childList: true});\n",
       "}}\n",
       "\n",
       "// Listen for the clearing of the current output cell\n",
       "var outputEl = gd.closest('.output');\n",
       "if (outputEl) {{\n",
       "    x.observe(outputEl, {childList: true});\n",
       "}}\n",
       "\n",
       "                        })                };                });            </script>        </div>"
      ]
     },
     "metadata": {},
     "output_type": "display_data"
    }
   ],
   "source": [
    "import plotly.graph_objects as go\n",
    "# Sort data\n",
    "sort = table.sort_values(by = 'Percent Without Definite Commitment ', ascending = False)\n",
    "grad_bar = px.bar(sort, 'Field', 'Percent Without Definite Commitment ', title = 'Percent of Graduating Students Without Post-Graduation Commitments')\n",
    "grad_bar.update_layout(title_x = .5)\n",
    "grad_bar.update_traces(marker_color=colors[4])\n",
    "grad_bar.show()"
   ]
  },
  {
   "cell_type": "code",
   "execution_count": 18,
   "metadata": {},
   "outputs": [
    {
     "data": {
      "text/plain": [
       "'https://plotly.com/~joekrinke15/1/'"
      ]
     },
     "execution_count": 18,
     "metadata": {},
     "output_type": "execute_result"
    }
   ],
   "source": [
    "py.plot(grad_bar, title = 'Percent of Graduating Students Without Post-Graduation Commitments')"
   ]
  },
  {
   "cell_type": "code",
   "execution_count": 25,
   "metadata": {},
   "outputs": [],
   "source": [
    "filter_col = [col for col in table if col.startswith('Primary')]\n",
    "replace_col = [col.replace('Primary Funding: ', '') for col in filter_col]\n",
    "funding_data = table[filter_col]"
   ]
  },
  {
   "cell_type": "code",
   "execution_count": 26,
   "metadata": {},
   "outputs": [],
   "source": [
    "replace_col[1] = replace_col[4]\n",
    "replace_col[4] = 'Research'"
   ]
  },
  {
   "cell_type": "code",
   "execution_count": 27,
   "metadata": {},
   "outputs": [
    {
     "data": {
      "application/vnd.plotly.v1+json": {
       "config": {
        "plotlyServerURL": "https://plotly.com"
       },
       "data": [
        {
         "marker": {
          "color": "rgba(220,249,150,1)",
          "line": {
           "color": "rgb(248, 248, 249)",
           "width": 0
          }
         },
         "orientation": "h",
         "type": "bar",
         "x": [
          12.8
         ],
         "y": [
          "Life sciences"
         ]
        },
        {
         "marker": {
          "color": "rgba(220,249,150,1)",
          "line": {
           "color": "rgb(248, 248, 249)",
           "width": 0
          }
         },
         "orientation": "h",
         "type": "bar",
         "x": [
          25.5
         ],
         "y": [
          "Physical sciences and earth sciences"
         ]
        },
        {
         "marker": {
          "color": "rgba(220,249,150,1)",
          "line": {
           "color": "rgb(248, 248, 249)",
           "width": 0
          }
         },
         "orientation": "h",
         "type": "bar",
         "x": [
          36.6
         ],
         "y": [
          "Mathematics and computer sciences"
         ]
        },
        {
         "marker": {
          "color": "rgba(220,249,150,1)",
          "line": {
           "color": "rgb(248, 248, 249)",
           "width": 0
          }
         },
         "orientation": "h",
         "type": "bar",
         "x": [
          28.3
         ],
         "y": [
          "Psychology and social sciences"
         ]
        },
        {
         "marker": {
          "color": "rgba(220,249,150,1)",
          "line": {
           "color": "rgb(248, 248, 249)",
           "width": 0
          }
         },
         "orientation": "h",
         "type": "bar",
         "x": [
          9.7
         ],
         "y": [
          "Engineering"
         ]
        },
        {
         "marker": {
          "color": "rgba(220,249,150,1)",
          "line": {
           "color": "rgb(248, 248, 249)",
           "width": 0
          }
         },
         "orientation": "h",
         "type": "bar",
         "x": [
          10.6
         ],
         "y": [
          "Education"
         ]
        },
        {
         "marker": {
          "color": "rgba(220,249,150,1)",
          "line": {
           "color": "rgb(248, 248, 249)",
           "width": 0
          }
         },
         "orientation": "h",
         "type": "bar",
         "x": [
          37.4
         ],
         "y": [
          "Humanities and arts"
         ]
        },
        {
         "marker": {
          "color": "rgba(220,249,150,1)",
          "line": {
           "color": "rgb(248, 248, 249)",
           "width": 0
          }
         },
         "orientation": "h",
         "type": "bar",
         "x": [
          22.8
         ],
         "y": [
          "Other"
         ]
        },
        {
         "marker": {
          "color": "rgba(204,235,197, 1)",
          "line": {
           "color": "rgb(248, 248, 249)",
           "width": 0
          }
         },
         "orientation": "h",
         "type": "bar",
         "x": [
          3
         ],
         "y": [
          "Life sciences"
         ]
        },
        {
         "marker": {
          "color": "rgba(204,235,197, 1)",
          "line": {
           "color": "rgb(248, 248, 249)",
           "width": 0
          }
         },
         "orientation": "h",
         "type": "bar",
         "x": [
          0.9
         ],
         "y": [
          "Physical sciences and earth sciences"
         ]
        },
        {
         "marker": {
          "color": "rgba(204,235,197, 1)",
          "line": {
           "color": "rgb(248, 248, 249)",
           "width": 0
          }
         },
         "orientation": "h",
         "type": "bar",
         "x": [
          2.1
         ],
         "y": [
          "Mathematics and computer sciences"
         ]
        },
        {
         "marker": {
          "color": "rgba(204,235,197, 1)",
          "line": {
           "color": "rgb(248, 248, 249)",
           "width": 0
          }
         },
         "orientation": "h",
         "type": "bar",
         "x": [
          2.1
         ],
         "y": [
          "Psychology and social sciences"
         ]
        },
        {
         "marker": {
          "color": "rgba(204,235,197, 1)",
          "line": {
           "color": "rgb(248, 248, 249)",
           "width": 0
          }
         },
         "orientation": "h",
         "type": "bar",
         "x": [
          3
         ],
         "y": [
          "Engineering"
         ]
        },
        {
         "marker": {
          "color": "rgba(204,235,197, 1)",
          "line": {
           "color": "rgb(248, 248, 249)",
           "width": 0
          }
         },
         "orientation": "h",
         "type": "bar",
         "x": [
          10.9
         ],
         "y": [
          "Education"
         ]
        },
        {
         "marker": {
          "color": "rgba(204,235,197, 1)",
          "line": {
           "color": "rgb(248, 248, 249)",
           "width": 0
          }
         },
         "orientation": "h",
         "type": "bar",
         "x": [
          1.9
         ],
         "y": [
          "Humanities and arts"
         ]
        },
        {
         "marker": {
          "color": "rgba(204,235,197, 1)",
          "line": {
           "color": "rgb(248, 248, 249)",
           "width": 0
          }
         },
         "orientation": "h",
         "type": "bar",
         "x": [
          4.4
         ],
         "y": [
          "Other"
         ]
        },
        {
         "marker": {
          "color": "rgba(168,221,181, 1)",
          "line": {
           "color": "rgb(248, 248, 249)",
           "width": 0
          }
         },
         "orientation": "h",
         "type": "bar",
         "x": [
          33.5
         ],
         "y": [
          "Life sciences"
         ]
        },
        {
         "marker": {
          "color": "rgba(168,221,181, 1)",
          "line": {
           "color": "rgb(248, 248, 249)",
           "width": 0
          }
         },
         "orientation": "h",
         "type": "bar",
         "x": [
          19.5
         ],
         "y": [
          "Physical sciences and earth sciences"
         ]
        },
        {
         "marker": {
          "color": "rgba(168,221,181, 1)",
          "line": {
           "color": "rgb(248, 248, 249)",
           "width": 0
          }
         },
         "orientation": "h",
         "type": "bar",
         "x": [
          16.1
         ],
         "y": [
          "Mathematics and computer sciences"
         ]
        },
        {
         "marker": {
          "color": "rgba(168,221,181, 1)",
          "line": {
           "color": "rgb(248, 248, 249)",
           "width": 0
          }
         },
         "orientation": "h",
         "type": "bar",
         "x": [
          25.7
         ],
         "y": [
          "Psychology and social sciences"
         ]
        },
        {
         "marker": {
          "color": "rgba(168,221,181, 1)",
          "line": {
           "color": "rgb(248, 248, 249)",
           "width": 0
          }
         },
         "orientation": "h",
         "type": "bar",
         "x": [
          20.3
         ],
         "y": [
          "Engineering"
         ]
        },
        {
         "marker": {
          "color": "rgba(168,221,181, 1)",
          "line": {
           "color": "rgb(248, 248, 249)",
           "width": 0
          }
         },
         "orientation": "h",
         "type": "bar",
         "x": [
          12.7
         ],
         "y": [
          "Education"
         ]
        },
        {
         "marker": {
          "color": "rgba(168,221,181, 1)",
          "line": {
           "color": "rgb(248, 248, 249)",
           "width": 0
          }
         },
         "orientation": "h",
         "type": "bar",
         "x": [
          36.5
         ],
         "y": [
          "Humanities and arts"
         ]
        },
        {
         "marker": {
          "color": "rgba(168,221,181, 1)",
          "line": {
           "color": "rgb(248, 248, 249)",
           "width": 0
          }
         },
         "orientation": "h",
         "type": "bar",
         "x": [
          24.5
         ],
         "y": [
          "Other"
         ]
        },
        {
         "marker": {
          "color": "rgba(123,204,196, 1)",
          "line": {
           "color": "rgb(248, 248, 249)",
           "width": 0
          }
         },
         "orientation": "h",
         "type": "bar",
         "x": [
          11.2
         ],
         "y": [
          "Life sciences"
         ]
        },
        {
         "marker": {
          "color": "rgba(123,204,196, 1)",
          "line": {
           "color": "rgb(248, 248, 249)",
           "width": 0
          }
         },
         "orientation": "h",
         "type": "bar",
         "x": [
          2.8
         ],
         "y": [
          "Physical sciences and earth sciences"
         ]
        },
        {
         "marker": {
          "color": "rgba(123,204,196, 1)",
          "line": {
           "color": "rgb(248, 248, 249)",
           "width": 0
          }
         },
         "orientation": "h",
         "type": "bar",
         "x": [
          6.1
         ],
         "y": [
          "Mathematics and computer sciences"
         ]
        },
        {
         "marker": {
          "color": "rgba(123,204,196, 1)",
          "line": {
           "color": "rgb(248, 248, 249)",
           "width": 0
          }
         },
         "orientation": "h",
         "type": "bar",
         "x": [
          25
         ],
         "y": [
          "Psychology and social sciences"
         ]
        },
        {
         "marker": {
          "color": "rgba(123,204,196, 1)",
          "line": {
           "color": "rgb(248, 248, 249)",
           "width": 0
          }
         },
         "orientation": "h",
         "type": "bar",
         "x": [
          4.7
         ],
         "y": [
          "Engineering"
         ]
        },
        {
         "marker": {
          "color": "rgba(123,204,196, 1)",
          "line": {
           "color": "rgb(248, 248, 249)",
           "width": 0
          }
         },
         "orientation": "h",
         "type": "bar",
         "x": [
          47.5
         ],
         "y": [
          "Education"
         ]
        },
        {
         "marker": {
          "color": "rgba(123,204,196, 1)",
          "line": {
           "color": "rgb(248, 248, 249)",
           "width": 0
          }
         },
         "orientation": "h",
         "type": "bar",
         "x": [
          20.9
         ],
         "y": [
          "Humanities and arts"
         ]
        },
        {
         "marker": {
          "color": "rgba(123,204,196, 1)",
          "line": {
           "color": "rgb(248, 248, 249)",
           "width": 0
          }
         },
         "orientation": "h",
         "type": "bar",
         "x": [
          28.8
         ],
         "y": [
          "Other"
         ]
        },
        {
         "marker": {
          "color": "rgba(67,162,202, 1)",
          "line": {
           "color": "rgb(248, 248, 249)",
           "width": 0
          }
         },
         "orientation": "h",
         "type": "bar",
         "x": [
          37.1
         ],
         "y": [
          "Life sciences"
         ]
        },
        {
         "marker": {
          "color": "rgba(67,162,202, 1)",
          "line": {
           "color": "rgb(248, 248, 249)",
           "width": 0
          }
         },
         "orientation": "h",
         "type": "bar",
         "x": [
          50.2
         ],
         "y": [
          "Physical sciences and earth sciences"
         ]
        },
        {
         "marker": {
          "color": "rgba(67,162,202, 1)",
          "line": {
           "color": "rgb(248, 248, 249)",
           "width": 0
          }
         },
         "orientation": "h",
         "type": "bar",
         "x": [
          37.1
         ],
         "y": [
          "Mathematics and computer sciences"
         ]
        },
        {
         "marker": {
          "color": "rgba(67,162,202, 1)",
          "line": {
           "color": "rgb(248, 248, 249)",
           "width": 0
          }
         },
         "orientation": "h",
         "type": "bar",
         "x": [
          17.7
         ],
         "y": [
          "Psychology and social sciences"
         ]
        },
        {
         "marker": {
          "color": "rgba(67,162,202, 1)",
          "line": {
           "color": "rgb(248, 248, 249)",
           "width": 0
          }
         },
         "orientation": "h",
         "type": "bar",
         "x": [
          59.5
         ],
         "y": [
          "Engineering"
         ]
        },
        {
         "marker": {
          "color": "rgba(67,162,202, 1)",
          "line": {
           "color": "rgb(248, 248, 249)",
           "width": 0
          }
         },
         "orientation": "h",
         "type": "bar",
         "x": [
          16.2
         ],
         "y": [
          "Education"
         ]
        },
        {
         "marker": {
          "color": "rgba(67,162,202, 1)",
          "line": {
           "color": "rgb(248, 248, 249)",
           "width": 0
          }
         },
         "orientation": "h",
         "type": "bar",
         "x": [
          2.5
         ],
         "y": [
          "Humanities and arts"
         ]
        },
        {
         "marker": {
          "color": "rgba(67,162,202, 1)",
          "line": {
           "color": "rgb(248, 248, 249)",
           "width": 0
          }
         },
         "orientation": "h",
         "type": "bar",
         "x": [
          17.2
         ],
         "y": [
          "Other"
         ]
        },
        {
         "marker": {
          "color": "rgba(8,104,172, 1)",
          "line": {
           "color": "rgb(248, 248, 249)",
           "width": 0
          }
         },
         "orientation": "h",
         "type": "bar",
         "x": [
          2.3
         ],
         "y": [
          "Life sciences"
         ]
        },
        {
         "marker": {
          "color": "rgba(8,104,172, 1)",
          "line": {
           "color": "rgb(248, 248, 249)",
           "width": 0
          }
         },
         "orientation": "h",
         "type": "bar",
         "x": [
          1.1
         ],
         "y": [
          "Physical sciences and earth sciences"
         ]
        },
        {
         "marker": {
          "color": "rgba(8,104,172, 1)",
          "line": {
           "color": "rgb(248, 248, 249)",
           "width": 0
          }
         },
         "orientation": "h",
         "type": "bar",
         "x": [
          2
         ],
         "y": [
          "Mathematics and computer sciences"
         ]
        },
        {
         "marker": {
          "color": "rgba(8,104,172, 1)",
          "line": {
           "color": "rgb(248, 248, 249)",
           "width": 0
          }
         },
         "orientation": "h",
         "type": "bar",
         "x": [
          1.3
         ],
         "y": [
          "Psychology and social sciences"
         ]
        },
        {
         "marker": {
          "color": "rgba(8,104,172, 1)",
          "line": {
           "color": "rgb(248, 248, 249)",
           "width": 0
          }
         },
         "orientation": "h",
         "type": "bar",
         "x": [
          2.7
         ],
         "y": [
          "Engineering"
         ]
        },
        {
         "marker": {
          "color": "rgba(8,104,172, 1)",
          "line": {
           "color": "rgb(248, 248, 249)",
           "width": 0
          }
         },
         "orientation": "h",
         "type": "bar",
         "x": [
          2.2
         ],
         "y": [
          "Education"
         ]
        },
        {
         "marker": {
          "color": "rgba(8,104,172, 1)",
          "line": {
           "color": "rgb(248, 248, 249)",
           "width": 0
          }
         },
         "orientation": "h",
         "type": "bar",
         "x": [
          0.9
         ],
         "y": [
          "Humanities and arts"
         ]
        },
        {
         "marker": {
          "color": "rgba(8,104,172, 1)",
          "line": {
           "color": "rgb(248, 248, 249)",
           "width": 0
          }
         },
         "orientation": "h",
         "type": "bar",
         "x": [
          2.3
         ],
         "y": [
          "Other"
         ]
        }
       ],
       "layout": {
        "annotations": [
         {
          "align": "right",
          "font": {
           "color": "rgb(67, 67, 67)",
           "family": "Arial",
           "size": 14
          },
          "showarrow": false,
          "text": "Life sciences",
          "x": 0.14,
          "xanchor": "right",
          "xref": "paper",
          "y": "Life sciences",
          "yref": "y"
         },
         {
          "align": "right",
          "font": {
           "color": "rgb(67, 67, 67)",
           "family": "Arial",
           "size": 14
          },
          "showarrow": false,
          "text": "Physical sciences and earth sciences",
          "x": 0.14,
          "xanchor": "right",
          "xref": "paper",
          "y": "Physical sciences and earth sciences",
          "yref": "y"
         },
         {
          "align": "right",
          "font": {
           "color": "rgb(67, 67, 67)",
           "family": "Arial",
           "size": 14
          },
          "showarrow": false,
          "text": "Mathematics and computer sciences",
          "x": 0.14,
          "xanchor": "right",
          "xref": "paper",
          "y": "Mathematics and computer sciences",
          "yref": "y"
         },
         {
          "align": "right",
          "font": {
           "color": "rgb(67, 67, 67)",
           "family": "Arial",
           "size": 14
          },
          "showarrow": false,
          "text": "Psychology and social sciences",
          "x": 0.14,
          "xanchor": "right",
          "xref": "paper",
          "y": "Psychology and social sciences",
          "yref": "y"
         },
         {
          "align": "right",
          "font": {
           "color": "rgb(67, 67, 67)",
           "family": "Arial",
           "size": 14
          },
          "showarrow": false,
          "text": "Engineering",
          "x": 0.14,
          "xanchor": "right",
          "xref": "paper",
          "y": "Engineering",
          "yref": "y"
         },
         {
          "align": "right",
          "font": {
           "color": "rgb(67, 67, 67)",
           "family": "Arial",
           "size": 14
          },
          "showarrow": false,
          "text": "Education",
          "x": 0.14,
          "xanchor": "right",
          "xref": "paper",
          "y": "Education",
          "yref": "y"
         },
         {
          "align": "right",
          "font": {
           "color": "rgb(67, 67, 67)",
           "family": "Arial",
           "size": 14
          },
          "showarrow": false,
          "text": "Humanities and arts",
          "x": 0.14,
          "xanchor": "right",
          "xref": "paper",
          "y": "Humanities and arts",
          "yref": "y"
         },
         {
          "align": "right",
          "font": {
           "color": "rgb(67, 67, 67)",
           "family": "Arial",
           "size": 14
          },
          "showarrow": false,
          "text": "Other",
          "x": 0.14,
          "xanchor": "right",
          "xref": "paper",
          "y": "Other",
          "yref": "y"
         },
         {
          "font": {
           "color": "rgb(67, 67, 67)",
           "family": "Arial",
           "size": 14
          },
          "showarrow": false,
          "text": "Teaching",
          "x": 11.4,
          "xref": "x",
          "y": 1.05,
          "yref": "paper"
         },
         {
          "font": {
           "color": "rgb(67, 67, 67)",
           "family": "Arial",
           "size": 14
          },
          "showarrow": false,
          "text": "Employer",
          "x": 25,
          "xref": "x",
          "y": 1.05,
          "yref": "paper"
         },
         {
          "font": {
           "color": "rgb(67, 67, 67)",
           "family": "Arial",
           "size": 14
          },
          "showarrow": false,
          "text": "Fellowships & Scholarships",
          "x": 39.45,
          "xref": "x",
          "y": 1.05,
          "yref": "paper"
         },
         {
          "font": {
           "color": "rgb(67, 67, 67)",
           "family": "Arial",
           "size": 14
          },
          "showarrow": false,
          "text": "Own resources",
          "x": 66.10000000000001,
          "xref": "x",
          "y": 1.05,
          "yref": "paper"
         },
         {
          "font": {
           "color": "rgb(67, 67, 67)",
           "family": "Arial",
           "size": 14
          },
          "showarrow": false,
          "text": "Research",
          "x": 89.1,
          "xref": "x",
          "y": 1.05,
          "yref": "paper"
         },
         {
          "font": {
           "color": "rgb(67, 67, 67)",
           "family": "Arial",
           "size": 14
          },
          "showarrow": false,
          "text": "Other",
          "x": 98.85000000000001,
          "xref": "x",
          "y": 1.05,
          "yref": "paper"
         }
        ],
        "autosize": true,
        "barmode": "stack",
        "margin": {
         "b": 0,
         "l": 85,
         "r": 0,
         "t": 45
        },
        "paper_bgcolor": "rgb(248, 248, 255)",
        "plot_bgcolor": "rgb(248, 248, 255)",
        "showlegend": false,
        "template": {
         "data": {
          "bar": [
           {
            "error_x": {
             "color": "#2a3f5f"
            },
            "error_y": {
             "color": "#2a3f5f"
            },
            "marker": {
             "line": {
              "color": "#E5ECF6",
              "width": 0.5
             }
            },
            "type": "bar"
           }
          ],
          "barpolar": [
           {
            "marker": {
             "line": {
              "color": "#E5ECF6",
              "width": 0.5
             }
            },
            "type": "barpolar"
           }
          ],
          "carpet": [
           {
            "aaxis": {
             "endlinecolor": "#2a3f5f",
             "gridcolor": "white",
             "linecolor": "white",
             "minorgridcolor": "white",
             "startlinecolor": "#2a3f5f"
            },
            "baxis": {
             "endlinecolor": "#2a3f5f",
             "gridcolor": "white",
             "linecolor": "white",
             "minorgridcolor": "white",
             "startlinecolor": "#2a3f5f"
            },
            "type": "carpet"
           }
          ],
          "choropleth": [
           {
            "colorbar": {
             "outlinewidth": 0,
             "ticks": ""
            },
            "type": "choropleth"
           }
          ],
          "contour": [
           {
            "colorbar": {
             "outlinewidth": 0,
             "ticks": ""
            },
            "colorscale": [
             [
              0,
              "#0d0887"
             ],
             [
              0.1111111111111111,
              "#46039f"
             ],
             [
              0.2222222222222222,
              "#7201a8"
             ],
             [
              0.3333333333333333,
              "#9c179e"
             ],
             [
              0.4444444444444444,
              "#bd3786"
             ],
             [
              0.5555555555555556,
              "#d8576b"
             ],
             [
              0.6666666666666666,
              "#ed7953"
             ],
             [
              0.7777777777777778,
              "#fb9f3a"
             ],
             [
              0.8888888888888888,
              "#fdca26"
             ],
             [
              1,
              "#f0f921"
             ]
            ],
            "type": "contour"
           }
          ],
          "contourcarpet": [
           {
            "colorbar": {
             "outlinewidth": 0,
             "ticks": ""
            },
            "type": "contourcarpet"
           }
          ],
          "heatmap": [
           {
            "colorbar": {
             "outlinewidth": 0,
             "ticks": ""
            },
            "colorscale": [
             [
              0,
              "#0d0887"
             ],
             [
              0.1111111111111111,
              "#46039f"
             ],
             [
              0.2222222222222222,
              "#7201a8"
             ],
             [
              0.3333333333333333,
              "#9c179e"
             ],
             [
              0.4444444444444444,
              "#bd3786"
             ],
             [
              0.5555555555555556,
              "#d8576b"
             ],
             [
              0.6666666666666666,
              "#ed7953"
             ],
             [
              0.7777777777777778,
              "#fb9f3a"
             ],
             [
              0.8888888888888888,
              "#fdca26"
             ],
             [
              1,
              "#f0f921"
             ]
            ],
            "type": "heatmap"
           }
          ],
          "heatmapgl": [
           {
            "colorbar": {
             "outlinewidth": 0,
             "ticks": ""
            },
            "colorscale": [
             [
              0,
              "#0d0887"
             ],
             [
              0.1111111111111111,
              "#46039f"
             ],
             [
              0.2222222222222222,
              "#7201a8"
             ],
             [
              0.3333333333333333,
              "#9c179e"
             ],
             [
              0.4444444444444444,
              "#bd3786"
             ],
             [
              0.5555555555555556,
              "#d8576b"
             ],
             [
              0.6666666666666666,
              "#ed7953"
             ],
             [
              0.7777777777777778,
              "#fb9f3a"
             ],
             [
              0.8888888888888888,
              "#fdca26"
             ],
             [
              1,
              "#f0f921"
             ]
            ],
            "type": "heatmapgl"
           }
          ],
          "histogram": [
           {
            "marker": {
             "colorbar": {
              "outlinewidth": 0,
              "ticks": ""
             }
            },
            "type": "histogram"
           }
          ],
          "histogram2d": [
           {
            "colorbar": {
             "outlinewidth": 0,
             "ticks": ""
            },
            "colorscale": [
             [
              0,
              "#0d0887"
             ],
             [
              0.1111111111111111,
              "#46039f"
             ],
             [
              0.2222222222222222,
              "#7201a8"
             ],
             [
              0.3333333333333333,
              "#9c179e"
             ],
             [
              0.4444444444444444,
              "#bd3786"
             ],
             [
              0.5555555555555556,
              "#d8576b"
             ],
             [
              0.6666666666666666,
              "#ed7953"
             ],
             [
              0.7777777777777778,
              "#fb9f3a"
             ],
             [
              0.8888888888888888,
              "#fdca26"
             ],
             [
              1,
              "#f0f921"
             ]
            ],
            "type": "histogram2d"
           }
          ],
          "histogram2dcontour": [
           {
            "colorbar": {
             "outlinewidth": 0,
             "ticks": ""
            },
            "colorscale": [
             [
              0,
              "#0d0887"
             ],
             [
              0.1111111111111111,
              "#46039f"
             ],
             [
              0.2222222222222222,
              "#7201a8"
             ],
             [
              0.3333333333333333,
              "#9c179e"
             ],
             [
              0.4444444444444444,
              "#bd3786"
             ],
             [
              0.5555555555555556,
              "#d8576b"
             ],
             [
              0.6666666666666666,
              "#ed7953"
             ],
             [
              0.7777777777777778,
              "#fb9f3a"
             ],
             [
              0.8888888888888888,
              "#fdca26"
             ],
             [
              1,
              "#f0f921"
             ]
            ],
            "type": "histogram2dcontour"
           }
          ],
          "mesh3d": [
           {
            "colorbar": {
             "outlinewidth": 0,
             "ticks": ""
            },
            "type": "mesh3d"
           }
          ],
          "parcoords": [
           {
            "line": {
             "colorbar": {
              "outlinewidth": 0,
              "ticks": ""
             }
            },
            "type": "parcoords"
           }
          ],
          "pie": [
           {
            "automargin": true,
            "type": "pie"
           }
          ],
          "scatter": [
           {
            "marker": {
             "colorbar": {
              "outlinewidth": 0,
              "ticks": ""
             }
            },
            "type": "scatter"
           }
          ],
          "scatter3d": [
           {
            "line": {
             "colorbar": {
              "outlinewidth": 0,
              "ticks": ""
             }
            },
            "marker": {
             "colorbar": {
              "outlinewidth": 0,
              "ticks": ""
             }
            },
            "type": "scatter3d"
           }
          ],
          "scattercarpet": [
           {
            "marker": {
             "colorbar": {
              "outlinewidth": 0,
              "ticks": ""
             }
            },
            "type": "scattercarpet"
           }
          ],
          "scattergeo": [
           {
            "marker": {
             "colorbar": {
              "outlinewidth": 0,
              "ticks": ""
             }
            },
            "type": "scattergeo"
           }
          ],
          "scattergl": [
           {
            "marker": {
             "colorbar": {
              "outlinewidth": 0,
              "ticks": ""
             }
            },
            "type": "scattergl"
           }
          ],
          "scattermapbox": [
           {
            "marker": {
             "colorbar": {
              "outlinewidth": 0,
              "ticks": ""
             }
            },
            "type": "scattermapbox"
           }
          ],
          "scatterpolar": [
           {
            "marker": {
             "colorbar": {
              "outlinewidth": 0,
              "ticks": ""
             }
            },
            "type": "scatterpolar"
           }
          ],
          "scatterpolargl": [
           {
            "marker": {
             "colorbar": {
              "outlinewidth": 0,
              "ticks": ""
             }
            },
            "type": "scatterpolargl"
           }
          ],
          "scatterternary": [
           {
            "marker": {
             "colorbar": {
              "outlinewidth": 0,
              "ticks": ""
             }
            },
            "type": "scatterternary"
           }
          ],
          "surface": [
           {
            "colorbar": {
             "outlinewidth": 0,
             "ticks": ""
            },
            "colorscale": [
             [
              0,
              "#0d0887"
             ],
             [
              0.1111111111111111,
              "#46039f"
             ],
             [
              0.2222222222222222,
              "#7201a8"
             ],
             [
              0.3333333333333333,
              "#9c179e"
             ],
             [
              0.4444444444444444,
              "#bd3786"
             ],
             [
              0.5555555555555556,
              "#d8576b"
             ],
             [
              0.6666666666666666,
              "#ed7953"
             ],
             [
              0.7777777777777778,
              "#fb9f3a"
             ],
             [
              0.8888888888888888,
              "#fdca26"
             ],
             [
              1,
              "#f0f921"
             ]
            ],
            "type": "surface"
           }
          ],
          "table": [
           {
            "cells": {
             "fill": {
              "color": "#EBF0F8"
             },
             "line": {
              "color": "white"
             }
            },
            "header": {
             "fill": {
              "color": "#C8D4E3"
             },
             "line": {
              "color": "white"
             }
            },
            "type": "table"
           }
          ]
         },
         "layout": {
          "annotationdefaults": {
           "arrowcolor": "#2a3f5f",
           "arrowhead": 0,
           "arrowwidth": 1
          },
          "coloraxis": {
           "colorbar": {
            "outlinewidth": 0,
            "ticks": ""
           }
          },
          "colorscale": {
           "diverging": [
            [
             0,
             "#8e0152"
            ],
            [
             0.1,
             "#c51b7d"
            ],
            [
             0.2,
             "#de77ae"
            ],
            [
             0.3,
             "#f1b6da"
            ],
            [
             0.4,
             "#fde0ef"
            ],
            [
             0.5,
             "#f7f7f7"
            ],
            [
             0.6,
             "#e6f5d0"
            ],
            [
             0.7,
             "#b8e186"
            ],
            [
             0.8,
             "#7fbc41"
            ],
            [
             0.9,
             "#4d9221"
            ],
            [
             1,
             "#276419"
            ]
           ],
           "sequential": [
            [
             0,
             "#0d0887"
            ],
            [
             0.1111111111111111,
             "#46039f"
            ],
            [
             0.2222222222222222,
             "#7201a8"
            ],
            [
             0.3333333333333333,
             "#9c179e"
            ],
            [
             0.4444444444444444,
             "#bd3786"
            ],
            [
             0.5555555555555556,
             "#d8576b"
            ],
            [
             0.6666666666666666,
             "#ed7953"
            ],
            [
             0.7777777777777778,
             "#fb9f3a"
            ],
            [
             0.8888888888888888,
             "#fdca26"
            ],
            [
             1,
             "#f0f921"
            ]
           ],
           "sequentialminus": [
            [
             0,
             "#0d0887"
            ],
            [
             0.1111111111111111,
             "#46039f"
            ],
            [
             0.2222222222222222,
             "#7201a8"
            ],
            [
             0.3333333333333333,
             "#9c179e"
            ],
            [
             0.4444444444444444,
             "#bd3786"
            ],
            [
             0.5555555555555556,
             "#d8576b"
            ],
            [
             0.6666666666666666,
             "#ed7953"
            ],
            [
             0.7777777777777778,
             "#fb9f3a"
            ],
            [
             0.8888888888888888,
             "#fdca26"
            ],
            [
             1,
             "#f0f921"
            ]
           ]
          },
          "colorway": [
           "#636efa",
           "#EF553B",
           "#00cc96",
           "#ab63fa",
           "#FFA15A",
           "#19d3f3",
           "#FF6692",
           "#B6E880",
           "#FF97FF",
           "#FECB52"
          ],
          "font": {
           "color": "#2a3f5f"
          },
          "geo": {
           "bgcolor": "white",
           "lakecolor": "white",
           "landcolor": "#E5ECF6",
           "showlakes": true,
           "showland": true,
           "subunitcolor": "white"
          },
          "hoverlabel": {
           "align": "left"
          },
          "hovermode": "closest",
          "mapbox": {
           "style": "light"
          },
          "paper_bgcolor": "white",
          "plot_bgcolor": "#E5ECF6",
          "polar": {
           "angularaxis": {
            "gridcolor": "white",
            "linecolor": "white",
            "ticks": ""
           },
           "bgcolor": "#E5ECF6",
           "radialaxis": {
            "gridcolor": "white",
            "linecolor": "white",
            "ticks": ""
           }
          },
          "scene": {
           "xaxis": {
            "backgroundcolor": "#E5ECF6",
            "gridcolor": "white",
            "gridwidth": 2,
            "linecolor": "white",
            "showbackground": true,
            "ticks": "",
            "zerolinecolor": "white"
           },
           "yaxis": {
            "backgroundcolor": "#E5ECF6",
            "gridcolor": "white",
            "gridwidth": 2,
            "linecolor": "white",
            "showbackground": true,
            "ticks": "",
            "zerolinecolor": "white"
           },
           "zaxis": {
            "backgroundcolor": "#E5ECF6",
            "gridcolor": "white",
            "gridwidth": 2,
            "linecolor": "white",
            "showbackground": true,
            "ticks": "",
            "zerolinecolor": "white"
           }
          },
          "shapedefaults": {
           "line": {
            "color": "#2a3f5f"
           }
          },
          "ternary": {
           "aaxis": {
            "gridcolor": "white",
            "linecolor": "white",
            "ticks": ""
           },
           "baxis": {
            "gridcolor": "white",
            "linecolor": "white",
            "ticks": ""
           },
           "bgcolor": "#E5ECF6",
           "caxis": {
            "gridcolor": "white",
            "linecolor": "white",
            "ticks": ""
           }
          },
          "title": {
           "x": 0.05
          },
          "xaxis": {
           "automargin": true,
           "gridcolor": "white",
           "linecolor": "white",
           "ticks": "",
           "title": {
            "standoff": 15
           },
           "zerolinecolor": "white",
           "zerolinewidth": 2
          },
          "yaxis": {
           "automargin": true,
           "gridcolor": "white",
           "linecolor": "white",
           "ticks": "",
           "title": {
            "standoff": 15
           },
           "zerolinecolor": "white",
           "zerolinewidth": 2
          }
         }
        },
        "title": {
         "text": "Sources of Funding by Discipline",
         "x": 0.55
        },
        "xaxis": {
         "autorange": true,
         "domain": [
          0.15,
          1
         ],
         "range": [
          0,
          105.36842105263159
         ],
         "showgrid": false,
         "showline": false,
         "showticklabels": false,
         "type": "linear",
         "zeroline": false
        },
        "yaxis": {
         "autorange": true,
         "range": [
          -0.5,
          7.5
         ],
         "showgrid": false,
         "showline": false,
         "showticklabels": false,
         "type": "category",
         "zeroline": false
        }
       }
      },
      "image/png": "[encoded data removed]",
      "text/html": [
       "<div>                            <div id=\"0e873438-ad97-4fb3-996c-aa855bf91d2d\" class=\"plotly-graph-div\" style=\"height:525px; width:1000px;\"></div>            <script type=\"text/javascript\">                require([\"plotly\"], function(Plotly) {                    window.PLOTLYENV=window.PLOTLYENV || {};                                    if (document.getElementById(\"0e873438-ad97-4fb3-996c-aa855bf91d2d\")) {                    Plotly.newPlot(                        \"0e873438-ad97-4fb3-996c-aa855bf91d2d\",                        [{\"marker\": {\"color\": \"rgba(220,249,150,1)\", \"line\": {\"color\": \"rgb(248, 248, 249)\", \"width\": 0}}, \"orientation\": \"h\", \"type\": \"bar\", \"x\": [12.8], \"y\": [\"Life sciences\"]}, {\"marker\": {\"color\": \"rgba(220,249,150,1)\", \"line\": {\"color\": \"rgb(248, 248, 249)\", \"width\": 0}}, \"orientation\": \"h\", \"type\": \"bar\", \"x\": [25.5], \"y\": [\"Physical sciences and earth sciences\"]}, {\"marker\": {\"color\": \"rgba(220,249,150,1)\", \"line\": {\"color\": \"rgb(248, 248, 249)\", \"width\": 0}}, \"orientation\": \"h\", \"type\": \"bar\", \"x\": [36.6], \"y\": [\"Mathematics and computer sciences\"]}, {\"marker\": {\"color\": \"rgba(220,249,150,1)\", \"line\": {\"color\": \"rgb(248, 248, 249)\", \"width\": 0}}, \"orientation\": \"h\", \"type\": \"bar\", \"x\": [28.3], \"y\": [\"Psychology and social sciences\"]}, {\"marker\": {\"color\": \"rgba(220,249,150,1)\", \"line\": {\"color\": \"rgb(248, 248, 249)\", \"width\": 0}}, \"orientation\": \"h\", \"type\": \"bar\", \"x\": [9.7], \"y\": [\"Engineering\"]}, {\"marker\": {\"color\": \"rgba(220,249,150,1)\", \"line\": {\"color\": \"rgb(248, 248, 249)\", \"width\": 0}}, \"orientation\": \"h\", \"type\": \"bar\", \"x\": [10.6], \"y\": [\"Education\"]}, {\"marker\": {\"color\": \"rgba(220,249,150,1)\", \"line\": {\"color\": \"rgb(248, 248, 249)\", \"width\": 0}}, \"orientation\": \"h\", \"type\": \"bar\", \"x\": [37.4], \"y\": [\"Humanities and arts\"]}, {\"marker\": {\"color\": \"rgba(220,249,150,1)\", \"line\": {\"color\": \"rgb(248, 248, 249)\", \"width\": 0}}, \"orientation\": \"h\", \"type\": \"bar\", \"x\": [22.8], \"y\": [\"Other\"]}, {\"marker\": {\"color\": \"rgba(204,235,197, 1)\", \"line\": {\"color\": \"rgb(248, 248, 249)\", \"width\": 0}}, \"orientation\": \"h\", \"type\": \"bar\", \"x\": [3.0], \"y\": [\"Life sciences\"]}, {\"marker\": {\"color\": \"rgba(204,235,197, 1)\", \"line\": {\"color\": \"rgb(248, 248, 249)\", \"width\": 0}}, \"orientation\": \"h\", \"type\": \"bar\", \"x\": [0.9], \"y\": [\"Physical sciences and earth sciences\"]}, {\"marker\": {\"color\": \"rgba(204,235,197, 1)\", \"line\": {\"color\": \"rgb(248, 248, 249)\", \"width\": 0}}, \"orientation\": \"h\", \"type\": \"bar\", \"x\": [2.1], \"y\": [\"Mathematics and computer sciences\"]}, {\"marker\": {\"color\": \"rgba(204,235,197, 1)\", \"line\": {\"color\": \"rgb(248, 248, 249)\", \"width\": 0}}, \"orientation\": \"h\", \"type\": \"bar\", \"x\": [2.1], \"y\": [\"Psychology and social sciences\"]}, {\"marker\": {\"color\": \"rgba(204,235,197, 1)\", \"line\": {\"color\": \"rgb(248, 248, 249)\", \"width\": 0}}, \"orientation\": \"h\", \"type\": \"bar\", \"x\": [3.0], \"y\": [\"Engineering\"]}, {\"marker\": {\"color\": \"rgba(204,235,197, 1)\", \"line\": {\"color\": \"rgb(248, 248, 249)\", \"width\": 0}}, \"orientation\": \"h\", \"type\": \"bar\", \"x\": [10.9], \"y\": [\"Education\"]}, {\"marker\": {\"color\": \"rgba(204,235,197, 1)\", \"line\": {\"color\": \"rgb(248, 248, 249)\", \"width\": 0}}, \"orientation\": \"h\", \"type\": \"bar\", \"x\": [1.9], \"y\": [\"Humanities and arts\"]}, {\"marker\": {\"color\": \"rgba(204,235,197, 1)\", \"line\": {\"color\": \"rgb(248, 248, 249)\", \"width\": 0}}, \"orientation\": \"h\", \"type\": \"bar\", \"x\": [4.4], \"y\": [\"Other\"]}, {\"marker\": {\"color\": \"rgba(168,221,181, 1)\", \"line\": {\"color\": \"rgb(248, 248, 249)\", \"width\": 0}}, \"orientation\": \"h\", \"type\": \"bar\", \"x\": [33.5], \"y\": [\"Life sciences\"]}, {\"marker\": {\"color\": \"rgba(168,221,181, 1)\", \"line\": {\"color\": \"rgb(248, 248, 249)\", \"width\": 0}}, \"orientation\": \"h\", \"type\": \"bar\", \"x\": [19.5], \"y\": [\"Physical sciences and earth sciences\"]}, {\"marker\": {\"color\": \"rgba(168,221,181, 1)\", \"line\": {\"color\": \"rgb(248, 248, 249)\", \"width\": 0}}, \"orientation\": \"h\", \"type\": \"bar\", \"x\": [16.1], \"y\": [\"Mathematics and computer sciences\"]}, {\"marker\": {\"color\": \"rgba(168,221,181, 1)\", \"line\": {\"color\": \"rgb(248, 248, 249)\", \"width\": 0}}, \"orientation\": \"h\", \"type\": \"bar\", \"x\": [25.7], \"y\": [\"Psychology and social sciences\"]}, {\"marker\": {\"color\": \"rgba(168,221,181, 1)\", \"line\": {\"color\": \"rgb(248, 248, 249)\", \"width\": 0}}, \"orientation\": \"h\", \"type\": \"bar\", \"x\": [20.3], \"y\": [\"Engineering\"]}, {\"marker\": {\"color\": \"rgba(168,221,181, 1)\", \"line\": {\"color\": \"rgb(248, 248, 249)\", \"width\": 0}}, \"orientation\": \"h\", \"type\": \"bar\", \"x\": [12.7], \"y\": [\"Education\"]}, {\"marker\": {\"color\": \"rgba(168,221,181, 1)\", \"line\": {\"color\": \"rgb(248, 248, 249)\", \"width\": 0}}, \"orientation\": \"h\", \"type\": \"bar\", \"x\": [36.5], \"y\": [\"Humanities and arts\"]}, {\"marker\": {\"color\": \"rgba(168,221,181, 1)\", \"line\": {\"color\": \"rgb(248, 248, 249)\", \"width\": 0}}, \"orientation\": \"h\", \"type\": \"bar\", \"x\": [24.5], \"y\": [\"Other\"]}, {\"marker\": {\"color\": \"rgba(123,204,196, 1)\", \"line\": {\"color\": \"rgb(248, 248, 249)\", \"width\": 0}}, \"orientation\": \"h\", \"type\": \"bar\", \"x\": [11.2], \"y\": [\"Life sciences\"]}, {\"marker\": {\"color\": \"rgba(123,204,196, 1)\", \"line\": {\"color\": \"rgb(248, 248, 249)\", \"width\": 0}}, \"orientation\": \"h\", \"type\": \"bar\", \"x\": [2.8], \"y\": [\"Physical sciences and earth sciences\"]}, {\"marker\": {\"color\": \"rgba(123,204,196, 1)\", \"line\": {\"color\": \"rgb(248, 248, 249)\", \"width\": 0}}, \"orientation\": \"h\", \"type\": \"bar\", \"x\": [6.1], \"y\": [\"Mathematics and computer sciences\"]}, {\"marker\": {\"color\": \"rgba(123,204,196, 1)\", \"line\": {\"color\": \"rgb(248, 248, 249)\", \"width\": 0}}, \"orientation\": \"h\", \"type\": \"bar\", \"x\": [25.0], \"y\": [\"Psychology and social sciences\"]}, {\"marker\": {\"color\": \"rgba(123,204,196, 1)\", \"line\": {\"color\": \"rgb(248, 248, 249)\", \"width\": 0}}, \"orientation\": \"h\", \"type\": \"bar\", \"x\": [4.7], \"y\": [\"Engineering\"]}, {\"marker\": {\"color\": \"rgba(123,204,196, 1)\", \"line\": {\"color\": \"rgb(248, 248, 249)\", \"width\": 0}}, \"orientation\": \"h\", \"type\": \"bar\", \"x\": [47.5], \"y\": [\"Education\"]}, {\"marker\": {\"color\": \"rgba(123,204,196, 1)\", \"line\": {\"color\": \"rgb(248, 248, 249)\", \"width\": 0}}, \"orientation\": \"h\", \"type\": \"bar\", \"x\": [20.9], \"y\": [\"Humanities and arts\"]}, {\"marker\": {\"color\": \"rgba(123,204,196, 1)\", \"line\": {\"color\": \"rgb(248, 248, 249)\", \"width\": 0}}, \"orientation\": \"h\", \"type\": \"bar\", \"x\": [28.8], \"y\": [\"Other\"]}, {\"marker\": {\"color\": \"rgba(67,162,202, 1)\", \"line\": {\"color\": \"rgb(248, 248, 249)\", \"width\": 0}}, \"orientation\": \"h\", \"type\": \"bar\", \"x\": [37.1], \"y\": [\"Life sciences\"]}, {\"marker\": {\"color\": \"rgba(67,162,202, 1)\", \"line\": {\"color\": \"rgb(248, 248, 249)\", \"width\": 0}}, \"orientation\": \"h\", \"type\": \"bar\", \"x\": [50.2], \"y\": [\"Physical sciences and earth sciences\"]}, {\"marker\": {\"color\": \"rgba(67,162,202, 1)\", \"line\": {\"color\": \"rgb(248, 248, 249)\", \"width\": 0}}, \"orientation\": \"h\", \"type\": \"bar\", \"x\": [37.1], \"y\": [\"Mathematics and computer sciences\"]}, {\"marker\": {\"color\": \"rgba(67,162,202, 1)\", \"line\": {\"color\": \"rgb(248, 248, 249)\", \"width\": 0}}, \"orientation\": \"h\", \"type\": \"bar\", \"x\": [17.7], \"y\": [\"Psychology and social sciences\"]}, {\"marker\": {\"color\": \"rgba(67,162,202, 1)\", \"line\": {\"color\": \"rgb(248, 248, 249)\", \"width\": 0}}, \"orientation\": \"h\", \"type\": \"bar\", \"x\": [59.5], \"y\": [\"Engineering\"]}, {\"marker\": {\"color\": \"rgba(67,162,202, 1)\", \"line\": {\"color\": \"rgb(248, 248, 249)\", \"width\": 0}}, \"orientation\": \"h\", \"type\": \"bar\", \"x\": [16.2], \"y\": [\"Education\"]}, {\"marker\": {\"color\": \"rgba(67,162,202, 1)\", \"line\": {\"color\": \"rgb(248, 248, 249)\", \"width\": 0}}, \"orientation\": \"h\", \"type\": \"bar\", \"x\": [2.5], \"y\": [\"Humanities and arts\"]}, {\"marker\": {\"color\": \"rgba(67,162,202, 1)\", \"line\": {\"color\": \"rgb(248, 248, 249)\", \"width\": 0}}, \"orientation\": \"h\", \"type\": \"bar\", \"x\": [17.2], \"y\": [\"Other\"]}, {\"marker\": {\"color\": \"rgba(8,104,172, 1)\", \"line\": {\"color\": \"rgb(248, 248, 249)\", \"width\": 0}}, \"orientation\": \"h\", \"type\": \"bar\", \"x\": [2.3], \"y\": [\"Life sciences\"]}, {\"marker\": {\"color\": \"rgba(8,104,172, 1)\", \"line\": {\"color\": \"rgb(248, 248, 249)\", \"width\": 0}}, \"orientation\": \"h\", \"type\": \"bar\", \"x\": [1.1], \"y\": [\"Physical sciences and earth sciences\"]}, {\"marker\": {\"color\": \"rgba(8,104,172, 1)\", \"line\": {\"color\": \"rgb(248, 248, 249)\", \"width\": 0}}, \"orientation\": \"h\", \"type\": \"bar\", \"x\": [2.0], \"y\": [\"Mathematics and computer sciences\"]}, {\"marker\": {\"color\": \"rgba(8,104,172, 1)\", \"line\": {\"color\": \"rgb(248, 248, 249)\", \"width\": 0}}, \"orientation\": \"h\", \"type\": \"bar\", \"x\": [1.3], \"y\": [\"Psychology and social sciences\"]}, {\"marker\": {\"color\": \"rgba(8,104,172, 1)\", \"line\": {\"color\": \"rgb(248, 248, 249)\", \"width\": 0}}, \"orientation\": \"h\", \"type\": \"bar\", \"x\": [2.7], \"y\": [\"Engineering\"]}, {\"marker\": {\"color\": \"rgba(8,104,172, 1)\", \"line\": {\"color\": \"rgb(248, 248, 249)\", \"width\": 0}}, \"orientation\": \"h\", \"type\": \"bar\", \"x\": [2.2], \"y\": [\"Education\"]}, {\"marker\": {\"color\": \"rgba(8,104,172, 1)\", \"line\": {\"color\": \"rgb(248, 248, 249)\", \"width\": 0}}, \"orientation\": \"h\", \"type\": \"bar\", \"x\": [0.9], \"y\": [\"Humanities and arts\"]}, {\"marker\": {\"color\": \"rgba(8,104,172, 1)\", \"line\": {\"color\": \"rgb(248, 248, 249)\", \"width\": 0}}, \"orientation\": \"h\", \"type\": \"bar\", \"x\": [2.3], \"y\": [\"Other\"]}],                        {\"annotations\": [{\"align\": \"right\", \"font\": {\"color\": \"rgb(67, 67, 67)\", \"family\": \"Arial\", \"size\": 14}, \"showarrow\": false, \"text\": \"Life sciences\", \"x\": 0.14, \"xanchor\": \"right\", \"xref\": \"paper\", \"y\": \"Life sciences\", \"yref\": \"y\"}, {\"align\": \"right\", \"font\": {\"color\": \"rgb(67, 67, 67)\", \"family\": \"Arial\", \"size\": 14}, \"showarrow\": false, \"text\": \"Physical sciences and earth sciences\", \"x\": 0.14, \"xanchor\": \"right\", \"xref\": \"paper\", \"y\": \"Physical sciences and earth sciences\", \"yref\": \"y\"}, {\"align\": \"right\", \"font\": {\"color\": \"rgb(67, 67, 67)\", \"family\": \"Arial\", \"size\": 14}, \"showarrow\": false, \"text\": \"Mathematics and computer sciences\", \"x\": 0.14, \"xanchor\": \"right\", \"xref\": \"paper\", \"y\": \"Mathematics and computer sciences\", \"yref\": \"y\"}, {\"align\": \"right\", \"font\": {\"color\": \"rgb(67, 67, 67)\", \"family\": \"Arial\", \"size\": 14}, \"showarrow\": false, \"text\": \"Psychology and social sciences\", \"x\": 0.14, \"xanchor\": \"right\", \"xref\": \"paper\", \"y\": \"Psychology and social sciences\", \"yref\": \"y\"}, {\"align\": \"right\", \"font\": {\"color\": \"rgb(67, 67, 67)\", \"family\": \"Arial\", \"size\": 14}, \"showarrow\": false, \"text\": \"Engineering\", \"x\": 0.14, \"xanchor\": \"right\", \"xref\": \"paper\", \"y\": \"Engineering\", \"yref\": \"y\"}, {\"align\": \"right\", \"font\": {\"color\": \"rgb(67, 67, 67)\", \"family\": \"Arial\", \"size\": 14}, \"showarrow\": false, \"text\": \"Education\", \"x\": 0.14, \"xanchor\": \"right\", \"xref\": \"paper\", \"y\": \"Education\", \"yref\": \"y\"}, {\"align\": \"right\", \"font\": {\"color\": \"rgb(67, 67, 67)\", \"family\": \"Arial\", \"size\": 14}, \"showarrow\": false, \"text\": \"Humanities and arts\", \"x\": 0.14, \"xanchor\": \"right\", \"xref\": \"paper\", \"y\": \"Humanities and arts\", \"yref\": \"y\"}, {\"align\": \"right\", \"font\": {\"color\": \"rgb(67, 67, 67)\", \"family\": \"Arial\", \"size\": 14}, \"showarrow\": false, \"text\": \"Other\", \"x\": 0.14, \"xanchor\": \"right\", \"xref\": \"paper\", \"y\": \"Other\", \"yref\": \"y\"}, {\"font\": {\"color\": \"rgb(67, 67, 67)\", \"family\": \"Arial\", \"size\": 14}, \"showarrow\": false, \"text\": \"Teaching\", \"x\": 11.4, \"xref\": \"x\", \"y\": 1.05, \"yref\": \"paper\"}, {\"font\": {\"color\": \"rgb(67, 67, 67)\", \"family\": \"Arial\", \"size\": 14}, \"showarrow\": false, \"text\": \"Employer\", \"x\": 25.0, \"xref\": \"x\", \"y\": 1.05, \"yref\": \"paper\"}, {\"font\": {\"color\": \"rgb(67, 67, 67)\", \"family\": \"Arial\", \"size\": 14}, \"showarrow\": false, \"text\": \"Fellowships & Scholarships\", \"x\": 39.45, \"xref\": \"x\", \"y\": 1.05, \"yref\": \"paper\"}, {\"font\": {\"color\": \"rgb(67, 67, 67)\", \"family\": \"Arial\", \"size\": 14}, \"showarrow\": false, \"text\": \"Own resources\", \"x\": 66.10000000000001, \"xref\": \"x\", \"y\": 1.05, \"yref\": \"paper\"}, {\"font\": {\"color\": \"rgb(67, 67, 67)\", \"family\": \"Arial\", \"size\": 14}, \"showarrow\": false, \"text\": \"Research\", \"x\": 89.1, \"xref\": \"x\", \"y\": 1.05, \"yref\": \"paper\"}, {\"font\": {\"color\": \"rgb(67, 67, 67)\", \"family\": \"Arial\", \"size\": 14}, \"showarrow\": false, \"text\": \"Other\", \"x\": 98.85000000000001, \"xref\": \"x\", \"y\": 1.05, \"yref\": \"paper\"}], \"barmode\": \"stack\", \"margin\": {\"b\": 0, \"l\": 85, \"r\": 0, \"t\": 45}, \"paper_bgcolor\": \"rgb(248, 248, 255)\", \"plot_bgcolor\": \"rgb(248, 248, 255)\", \"showlegend\": false, \"template\": {\"data\": {\"bar\": [{\"error_x\": {\"color\": \"#2a3f5f\"}, \"error_y\": {\"color\": \"#2a3f5f\"}, \"marker\": {\"line\": {\"color\": \"#E5ECF6\", \"width\": 0.5}}, \"type\": \"bar\"}], \"barpolar\": [{\"marker\": {\"line\": {\"color\": \"#E5ECF6\", \"width\": 0.5}}, \"type\": \"barpolar\"}], \"carpet\": [{\"aaxis\": {\"endlinecolor\": \"#2a3f5f\", \"gridcolor\": \"white\", \"linecolor\": \"white\", \"minorgridcolor\": \"white\", \"startlinecolor\": \"#2a3f5f\"}, \"baxis\": {\"endlinecolor\": \"#2a3f5f\", \"gridcolor\": \"white\", \"linecolor\": \"white\", \"minorgridcolor\": \"white\", \"startlinecolor\": \"#2a3f5f\"}, \"type\": \"carpet\"}], \"choropleth\": [{\"colorbar\": {\"outlinewidth\": 0, \"ticks\": \"\"}, \"type\": \"choropleth\"}], \"contour\": [{\"colorbar\": {\"outlinewidth\": 0, \"ticks\": \"\"}, \"colorscale\": [[0.0, \"#0d0887\"], [0.1111111111111111, \"#46039f\"], [0.2222222222222222, \"#7201a8\"], [0.3333333333333333, \"#9c179e\"], [0.4444444444444444, \"#bd3786\"], [0.5555555555555556, \"#d8576b\"], [0.6666666666666666, \"#ed7953\"], [0.7777777777777778, \"#fb9f3a\"], [0.8888888888888888, \"#fdca26\"], [1.0, \"#f0f921\"]], \"type\": \"contour\"}], \"contourcarpet\": [{\"colorbar\": {\"outlinewidth\": 0, \"ticks\": \"\"}, \"type\": \"contourcarpet\"}], \"heatmap\": [{\"colorbar\": {\"outlinewidth\": 0, \"ticks\": \"\"}, \"colorscale\": [[0.0, \"#0d0887\"], [0.1111111111111111, \"#46039f\"], [0.2222222222222222, \"#7201a8\"], [0.3333333333333333, \"#9c179e\"], [0.4444444444444444, \"#bd3786\"], [0.5555555555555556, \"#d8576b\"], [0.6666666666666666, \"#ed7953\"], [0.7777777777777778, \"#fb9f3a\"], [0.8888888888888888, \"#fdca26\"], [1.0, \"#f0f921\"]], \"type\": \"heatmap\"}], \"heatmapgl\": [{\"colorbar\": {\"outlinewidth\": 0, \"ticks\": \"\"}, \"colorscale\": [[0.0, \"#0d0887\"], [0.1111111111111111, \"#46039f\"], [0.2222222222222222, \"#7201a8\"], [0.3333333333333333, \"#9c179e\"], [0.4444444444444444, \"#bd3786\"], [0.5555555555555556, \"#d8576b\"], [0.6666666666666666, \"#ed7953\"], [0.7777777777777778, \"#fb9f3a\"], [0.8888888888888888, \"#fdca26\"], [1.0, \"#f0f921\"]], \"type\": \"heatmapgl\"}], \"histogram\": [{\"marker\": {\"colorbar\": {\"outlinewidth\": 0, \"ticks\": \"\"}}, \"type\": \"histogram\"}], \"histogram2d\": [{\"colorbar\": {\"outlinewidth\": 0, \"ticks\": \"\"}, \"colorscale\": [[0.0, \"#0d0887\"], [0.1111111111111111, \"#46039f\"], [0.2222222222222222, \"#7201a8\"], [0.3333333333333333, \"#9c179e\"], [0.4444444444444444, \"#bd3786\"], [0.5555555555555556, \"#d8576b\"], [0.6666666666666666, \"#ed7953\"], [0.7777777777777778, \"#fb9f3a\"], [0.8888888888888888, \"#fdca26\"], [1.0, \"#f0f921\"]], \"type\": \"histogram2d\"}], \"histogram2dcontour\": [{\"colorbar\": {\"outlinewidth\": 0, \"ticks\": \"\"}, \"colorscale\": [[0.0, \"#0d0887\"], [0.1111111111111111, \"#46039f\"], [0.2222222222222222, \"#7201a8\"], [0.3333333333333333, \"#9c179e\"], [0.4444444444444444, \"#bd3786\"], [0.5555555555555556, \"#d8576b\"], [0.6666666666666666, \"#ed7953\"], [0.7777777777777778, \"#fb9f3a\"], [0.8888888888888888, \"#fdca26\"], [1.0, \"#f0f921\"]], \"type\": \"histogram2dcontour\"}], \"mesh3d\": [{\"colorbar\": {\"outlinewidth\": 0, \"ticks\": \"\"}, \"type\": \"mesh3d\"}], \"parcoords\": [{\"line\": {\"colorbar\": {\"outlinewidth\": 0, \"ticks\": \"\"}}, \"type\": \"parcoords\"}], \"pie\": [{\"automargin\": true, \"type\": \"pie\"}], \"scatter\": [{\"marker\": {\"colorbar\": {\"outlinewidth\": 0, \"ticks\": \"\"}}, \"type\": \"scatter\"}], \"scatter3d\": [{\"line\": {\"colorbar\": {\"outlinewidth\": 0, \"ticks\": \"\"}}, \"marker\": {\"colorbar\": {\"outlinewidth\": 0, \"ticks\": \"\"}}, \"type\": \"scatter3d\"}], \"scattercarpet\": [{\"marker\": {\"colorbar\": {\"outlinewidth\": 0, \"ticks\": \"\"}}, \"type\": \"scattercarpet\"}], \"scattergeo\": [{\"marker\": {\"colorbar\": {\"outlinewidth\": 0, \"ticks\": \"\"}}, \"type\": \"scattergeo\"}], \"scattergl\": [{\"marker\": {\"colorbar\": {\"outlinewidth\": 0, \"ticks\": \"\"}}, \"type\": \"scattergl\"}], \"scattermapbox\": [{\"marker\": {\"colorbar\": {\"outlinewidth\": 0, \"ticks\": \"\"}}, \"type\": \"scattermapbox\"}], \"scatterpolar\": [{\"marker\": {\"colorbar\": {\"outlinewidth\": 0, \"ticks\": \"\"}}, \"type\": \"scatterpolar\"}], \"scatterpolargl\": [{\"marker\": {\"colorbar\": {\"outlinewidth\": 0, \"ticks\": \"\"}}, \"type\": \"scatterpolargl\"}], \"scatterternary\": [{\"marker\": {\"colorbar\": {\"outlinewidth\": 0, \"ticks\": \"\"}}, \"type\": \"scatterternary\"}], \"surface\": [{\"colorbar\": {\"outlinewidth\": 0, \"ticks\": \"\"}, \"colorscale\": [[0.0, \"#0d0887\"], [0.1111111111111111, \"#46039f\"], [0.2222222222222222, \"#7201a8\"], [0.3333333333333333, \"#9c179e\"], [0.4444444444444444, \"#bd3786\"], [0.5555555555555556, \"#d8576b\"], [0.6666666666666666, \"#ed7953\"], [0.7777777777777778, \"#fb9f3a\"], [0.8888888888888888, \"#fdca26\"], [1.0, \"#f0f921\"]], \"type\": \"surface\"}], \"table\": [{\"cells\": {\"fill\": {\"color\": \"#EBF0F8\"}, \"line\": {\"color\": \"white\"}}, \"header\": {\"fill\": {\"color\": \"#C8D4E3\"}, \"line\": {\"color\": \"white\"}}, \"type\": \"table\"}]}, \"layout\": {\"annotationdefaults\": {\"arrowcolor\": \"#2a3f5f\", \"arrowhead\": 0, \"arrowwidth\": 1}, \"coloraxis\": {\"colorbar\": {\"outlinewidth\": 0, \"ticks\": \"\"}}, \"colorscale\": {\"diverging\": [[0, \"#8e0152\"], [0.1, \"#c51b7d\"], [0.2, \"#de77ae\"], [0.3, \"#f1b6da\"], [0.4, \"#fde0ef\"], [0.5, \"#f7f7f7\"], [0.6, \"#e6f5d0\"], [0.7, \"#b8e186\"], [0.8, \"#7fbc41\"], [0.9, \"#4d9221\"], [1, \"#276419\"]], \"sequential\": [[0.0, \"#0d0887\"], [0.1111111111111111, \"#46039f\"], [0.2222222222222222, \"#7201a8\"], [0.3333333333333333, \"#9c179e\"], [0.4444444444444444, \"#bd3786\"], [0.5555555555555556, \"#d8576b\"], [0.6666666666666666, \"#ed7953\"], [0.7777777777777778, \"#fb9f3a\"], [0.8888888888888888, \"#fdca26\"], [1.0, \"#f0f921\"]], \"sequentialminus\": [[0.0, \"#0d0887\"], [0.1111111111111111, \"#46039f\"], [0.2222222222222222, \"#7201a8\"], [0.3333333333333333, \"#9c179e\"], [0.4444444444444444, \"#bd3786\"], [0.5555555555555556, \"#d8576b\"], [0.6666666666666666, \"#ed7953\"], [0.7777777777777778, \"#fb9f3a\"], [0.8888888888888888, \"#fdca26\"], [1.0, \"#f0f921\"]]}, \"colorway\": [\"#636efa\", \"#EF553B\", \"#00cc96\", \"#ab63fa\", \"#FFA15A\", \"#19d3f3\", \"#FF6692\", \"#B6E880\", \"#FF97FF\", \"#FECB52\"], \"font\": {\"color\": \"#2a3f5f\"}, \"geo\": {\"bgcolor\": \"white\", \"lakecolor\": \"white\", \"landcolor\": \"#E5ECF6\", \"showlakes\": true, \"showland\": true, \"subunitcolor\": \"white\"}, \"hoverlabel\": {\"align\": \"left\"}, \"hovermode\": \"closest\", \"mapbox\": {\"style\": \"light\"}, \"paper_bgcolor\": \"white\", \"plot_bgcolor\": \"#E5ECF6\", \"polar\": {\"angularaxis\": {\"gridcolor\": \"white\", \"linecolor\": \"white\", \"ticks\": \"\"}, \"bgcolor\": \"#E5ECF6\", \"radialaxis\": {\"gridcolor\": \"white\", \"linecolor\": \"white\", \"ticks\": \"\"}}, \"scene\": {\"xaxis\": {\"backgroundcolor\": \"#E5ECF6\", \"gridcolor\": \"white\", \"gridwidth\": 2, \"linecolor\": \"white\", \"showbackground\": true, \"ticks\": \"\", \"zerolinecolor\": \"white\"}, \"yaxis\": {\"backgroundcolor\": \"#E5ECF6\", \"gridcolor\": \"white\", \"gridwidth\": 2, \"linecolor\": \"white\", \"showbackground\": true, \"ticks\": \"\", \"zerolinecolor\": \"white\"}, \"zaxis\": {\"backgroundcolor\": \"#E5ECF6\", \"gridcolor\": \"white\", \"gridwidth\": 2, \"linecolor\": \"white\", \"showbackground\": true, \"ticks\": \"\", \"zerolinecolor\": \"white\"}}, \"shapedefaults\": {\"line\": {\"color\": \"#2a3f5f\"}}, \"ternary\": {\"aaxis\": {\"gridcolor\": \"white\", \"linecolor\": \"white\", \"ticks\": \"\"}, \"baxis\": {\"gridcolor\": \"white\", \"linecolor\": \"white\", \"ticks\": \"\"}, \"bgcolor\": \"#E5ECF6\", \"caxis\": {\"gridcolor\": \"white\", \"linecolor\": \"white\", \"ticks\": \"\"}}, \"title\": {\"x\": 0.05}, \"xaxis\": {\"automargin\": true, \"gridcolor\": \"white\", \"linecolor\": \"white\", \"ticks\": \"\", \"title\": {\"standoff\": 15}, \"zerolinecolor\": \"white\", \"zerolinewidth\": 2}, \"yaxis\": {\"automargin\": true, \"gridcolor\": \"white\", \"linecolor\": \"white\", \"ticks\": \"\", \"title\": {\"standoff\": 15}, \"zerolinecolor\": \"white\", \"zerolinewidth\": 2}}}, \"title\": {\"text\": \"Sources of Funding by Discipline\", \"x\": 0.55}, \"width\": 1000, \"xaxis\": {\"domain\": [0.15, 1], \"showgrid\": false, \"showline\": false, \"showticklabels\": false, \"zeroline\": false}, \"yaxis\": {\"showgrid\": false, \"showline\": false, \"showticklabels\": false, \"zeroline\": false}},                        {\"responsive\": true}                    ).then(function(){\n",
       "                            \n",
       "var gd = document.getElementById('0e873438-ad97-4fb3-996c-aa855bf91d2d');\n",
       "var x = new MutationObserver(function (mutations, observer) {{\n",
       "        var display = window.getComputedStyle(gd).display;\n",
       "        if (!display || display === 'none') {{\n",
       "            console.log([gd, 'removed!']);\n",
       "            Plotly.purge(gd);\n",
       "            observer.disconnect();\n",
       "        }}\n",
       "}});\n",
       "\n",
       "// Listen for the removal of the full notebook cells\n",
       "var notebookContainer = gd.closest('#notebook-container');\n",
       "if (notebookContainer) {{\n",
       "    x.observe(notebookContainer, {childList: true});\n",
       "}}\n",
       "\n",
       "// Listen for the clearing of the current output cell\n",
       "var outputEl = gd.closest('.output');\n",
       "if (outputEl) {{\n",
       "    x.observe(outputEl, {childList: true});\n",
       "}}\n",
       "\n",
       "                        })                };                });            </script>        </div>"
      ]
     },
     "metadata": {},
     "output_type": "display_data"
    }
   ],
   "source": [
    "import plotly.graph_objects as go\n",
    "\n",
    "top_labels = replace_col\n",
    "\n",
    "\n",
    "x_data = funding_data.to_numpy()[1:,:]\n",
    "x_data [:,[1, 4]] = x_data[:,[4, 1]]\n",
    "fields = list(table['Field'])[1:]\n",
    "y_data = fields\n",
    "\n",
    "horz_bar = go.Figure()\n",
    "\n",
    "for i in range(0, len(x_data[0])):\n",
    "    for xd, yd in zip(x_data, y_data):\n",
    "        horz_bar.add_trace(go.Bar(\n",
    "            x=[xd[i]], y=[yd],\n",
    "            orientation='h',\n",
    "            marker=dict(\n",
    "                color=colors[i],\n",
    "                line=dict(color='rgb(248, 248, 249)', width=0)\n",
    "            )\n",
    "        ))\n",
    "\n",
    "horz_bar.update_layout(\n",
    "    xaxis=dict(\n",
    "        showgrid=False,\n",
    "        showline=False,\n",
    "        showticklabels=False,\n",
    "        zeroline=False,\n",
    "        domain=[0.15, 1]\n",
    "    ),\n",
    "    yaxis=dict(\n",
    "        showgrid=False,\n",
    "        showline=False,\n",
    "        showticklabels=False,\n",
    "        zeroline=False,\n",
    "    ),\n",
    "    barmode='stack',\n",
    "    paper_bgcolor='rgb(248, 248, 255)',\n",
    "    plot_bgcolor='rgb(248, 248, 255)',\n",
    "    margin=dict(l=85, r=0, t=45, b=0),\n",
    "    showlegend=False,\n",
    ")\n",
    "\n",
    "annotations = []\n",
    "\n",
    "for yd, xd in zip(y_data, x_data):\n",
    "    # labeling the y-axis\n",
    "    annotations.append(dict(xref='paper', yref='y',\n",
    "                            x=0.14, y=yd,\n",
    "                            xanchor='right',\n",
    "                            text=str(yd),\n",
    "                            font=dict(family='Arial', size=14,\n",
    "                                      color='rgb(67, 67, 67)'),\n",
    "                            showarrow=False, align='right'))\n",
    "    # labeling the first Likert scale (on the top)\n",
    "    if yd == y_data[-1]:\n",
    "        annotations.append(dict(xref='x', yref='paper',\n",
    "                                x=xd[0] / 2, y=1.05,\n",
    "                                text=top_labels[0],\n",
    "                                font=dict(family='Arial', size=14,\n",
    "                                          color='rgb(67, 67, 67)'),\n",
    "                                showarrow=False))\n",
    "    space = xd[0]\n",
    "    for i in range(1, len(xd)):\n",
    "            # labeling the Likert scale\n",
    "            if yd == y_data[-1]:\n",
    "                annotations.append(dict(xref='x', yref='paper',\n",
    "                                        x=space + (xd[i]/2), y=1.05,\n",
    "                                        text=top_labels[i],\n",
    "                                        font=dict(family='Arial', size=14,\n",
    "                                                  color='rgb(67, 67, 67)'),\n",
    "                                        showarrow=False))\n",
    "            space += xd[i]\n",
    "horz_bar.update_layout(annotations=annotations, width = 1000, title = 'Sources of Funding by Discipline', title_x =.55)\n",
    "horz_bar.show()\n",
    "\n",
    "             "
   ]
  },
  {
   "cell_type": "code",
   "execution_count": 28,
   "metadata": {},
   "outputs": [
    {
     "data": {
      "text/plain": [
       "'https://plotly.com/~joekrinke15/5/'"
      ]
     },
     "execution_count": 28,
     "metadata": {},
     "output_type": "execute_result"
    }
   ],
   "source": [
    "py.plot(horz_bar, title = 'Sources of Funding by Discipline')"
   ]
  },
  {
   "cell_type": "code",
   "execution_count": 8,
   "metadata": {},
   "outputs": [],
   "source": [
    "salary_col = [col for col in table if  ('Salary' in col) or col =='Field']\n",
    "salary_data = table[salary_col]"
   ]
  },
  {
   "cell_type": "code",
   "execution_count": 9,
   "metadata": {},
   "outputs": [
    {
     "data": {
      "text/html": [
       "<div>\n",
       "<style scoped>\n",
       "    .dataframe tbody tr th:only-of-type {\n",
       "        vertical-align: middle;\n",
       "    }\n",
       "\n",
       "    .dataframe tbody tr th {\n",
       "        vertical-align: top;\n",
       "    }\n",
       "\n",
       "    .dataframe thead th {\n",
       "        text-align: right;\n",
       "    }\n",
       "</style>\n",
       "<table border=\"1\" class=\"dataframe\">\n",
       "  <thead>\n",
       "    <tr style=\"text-align: right;\">\n",
       "      <th></th>\n",
       "      <th>Field</th>\n",
       "      <th>Academic Salary</th>\n",
       "      <th>Industry Salary</th>\n",
       "      <th>Government Salary</th>\n",
       "      <th>Nonprofit Salary</th>\n",
       "      <th>Other Salary</th>\n",
       "    </tr>\n",
       "  </thead>\n",
       "  <tbody>\n",
       "    <tr>\n",
       "      <th>0</th>\n",
       "      <td>All fields</td>\n",
       "      <td>63,000</td>\n",
       "      <td>100,000</td>\n",
       "      <td>80,800</td>\n",
       "      <td>79,000</td>\n",
       "      <td>70,000</td>\n",
       "    </tr>\n",
       "    <tr>\n",
       "      <th>1</th>\n",
       "      <td>Life sciences</td>\n",
       "      <td>65,000</td>\n",
       "      <td>90,000</td>\n",
       "      <td>72,000</td>\n",
       "      <td>83,000</td>\n",
       "      <td>60,000</td>\n",
       "    </tr>\n",
       "    <tr>\n",
       "      <th>2</th>\n",
       "      <td>Physical sciences and earth sciences</td>\n",
       "      <td>52,000</td>\n",
       "      <td>100,000</td>\n",
       "      <td>71,600</td>\n",
       "      <td>85,000</td>\n",
       "      <td>48,025</td>\n",
       "    </tr>\n",
       "    <tr>\n",
       "      <th>3</th>\n",
       "      <td>Mathematics and computer sciences</td>\n",
       "      <td>70,000</td>\n",
       "      <td>125,000</td>\n",
       "      <td>101,000</td>\n",
       "      <td>120,000</td>\n",
       "      <td>65,500</td>\n",
       "    </tr>\n",
       "    <tr>\n",
       "      <th>4</th>\n",
       "      <td>Psychology and social sciences</td>\n",
       "      <td>63,000</td>\n",
       "      <td>97,000</td>\n",
       "      <td>77,500</td>\n",
       "      <td>75,000</td>\n",
       "      <td>65,000</td>\n",
       "    </tr>\n",
       "    <tr>\n",
       "      <th>5</th>\n",
       "      <td>Engineering</td>\n",
       "      <td>79,000</td>\n",
       "      <td>102,000</td>\n",
       "      <td>94,500</td>\n",
       "      <td>100,000</td>\n",
       "      <td>85,000</td>\n",
       "    </tr>\n",
       "    <tr>\n",
       "      <th>6</th>\n",
       "      <td>Education</td>\n",
       "      <td>64,000</td>\n",
       "      <td>80,000</td>\n",
       "      <td>79,000</td>\n",
       "      <td>75,000</td>\n",
       "      <td>75,000</td>\n",
       "    </tr>\n",
       "    <tr>\n",
       "      <th>7</th>\n",
       "      <td>Humanities and arts</td>\n",
       "      <td>50,000</td>\n",
       "      <td>65,000</td>\n",
       "      <td>67,000</td>\n",
       "      <td>50,000</td>\n",
       "      <td>53,750</td>\n",
       "    </tr>\n",
       "    <tr>\n",
       "      <th>8</th>\n",
       "      <td>Other</td>\n",
       "      <td>62,000</td>\n",
       "      <td>85,000</td>\n",
       "      <td>88,000</td>\n",
       "      <td>78,500</td>\n",
       "      <td>81,000</td>\n",
       "    </tr>\n",
       "  </tbody>\n",
       "</table>\n",
       "</div>"
      ],
      "text/plain": [
       "                                  Field Academic Salary Industry Salary  \\\n",
       "0                            All fields          63,000         100,000   \n",
       "1                         Life sciences          65,000          90,000   \n",
       "2  Physical sciences and earth sciences          52,000         100,000   \n",
       "3     Mathematics and computer sciences          70,000         125,000   \n",
       "4        Psychology and social sciences          63,000          97,000   \n",
       "5                           Engineering          79,000         102,000   \n",
       "6                             Education          64,000          80,000   \n",
       "7                   Humanities and arts          50,000          65,000   \n",
       "8                                 Other          62,000          85,000   \n",
       "\n",
       "  Government Salary Nonprofit Salary Other Salary  \n",
       "0            80,800           79,000       70,000  \n",
       "1            72,000           83,000       60,000  \n",
       "2            71,600           85,000       48,025  \n",
       "3           101,000          120,000       65,500  \n",
       "4            77,500           75,000       65,000  \n",
       "5            94,500          100,000       85,000  \n",
       "6            79,000           75,000       75,000  \n",
       "7            67,000           50,000       53,750  \n",
       "8            88,000           78,500       81,000  "
      ]
     },
     "execution_count": 9,
     "metadata": {},
     "output_type": "execute_result"
    }
   ],
   "source": [
    "salary_data"
   ]
  },
  {
   "cell_type": "code",
   "execution_count": 33,
   "metadata": {},
   "outputs": [
    {
     "data": {
      "application/vnd.plotly.v1+json": {
       "config": {
        "plotlyServerURL": "https://plotly.com"
       },
       "data": [
        {
         "cells": {
          "align": "left",
          "fill": {
           "color": "white"
          },
          "values": [
           [
            "All fields",
            "Life sciences",
            "Physical sciences and earth sciences",
            "Mathematics and computer sciences",
            "Psychology and social sciences",
            "Engineering",
            "Education",
            "Humanities and arts",
            "Other"
           ],
           [
            "63,000",
            "65,000",
            "52,000",
            "70,000",
            "63,000",
            "79,000",
            "64,000",
            "50,000",
            "62,000"
           ],
           [
            "100,000",
            "90,000",
            "100,000",
            "125,000",
            "97,000",
            "102,000",
            "80,000",
            "65,000",
            "85,000"
           ],
           [
            "80,800",
            "72,000",
            "71,600",
            "101,000",
            "77,500",
            "94,500",
            "79,000",
            "67,000",
            "88,000"
           ],
           [
            "79,000",
            "83,000",
            "85,000",
            "120,000",
            "75,000",
            "100,000",
            "75,000",
            "50,000",
            "78,500"
           ],
           [
            "70,000",
            "60,000",
            "48,025",
            "65,500",
            "65,000",
            "85,000",
            "75,000",
            "53,750",
            "81,000"
           ]
          ]
         },
         "header": {
          "align": "left",
          "fill": {
           "color": "rgba(8,104,172, .1)"
          },
          "values": [
           "<b>Field",
           "<b>Academic Salary",
           "<b>Industry Salary",
           "<b>Government Salary",
           "<b>Nonprofit Salary",
           "<b>Other Salary"
          ]
         },
         "type": "table"
        }
       ],
       "layout": {
        "autosize": true,
        "template": {
         "data": {
          "bar": [
           {
            "error_x": {
             "color": "#2a3f5f"
            },
            "error_y": {
             "color": "#2a3f5f"
            },
            "marker": {
             "line": {
              "color": "#E5ECF6",
              "width": 0.5
             }
            },
            "type": "bar"
           }
          ],
          "barpolar": [
           {
            "marker": {
             "line": {
              "color": "#E5ECF6",
              "width": 0.5
             }
            },
            "type": "barpolar"
           }
          ],
          "carpet": [
           {
            "aaxis": {
             "endlinecolor": "#2a3f5f",
             "gridcolor": "white",
             "linecolor": "white",
             "minorgridcolor": "white",
             "startlinecolor": "#2a3f5f"
            },
            "baxis": {
             "endlinecolor": "#2a3f5f",
             "gridcolor": "white",
             "linecolor": "white",
             "minorgridcolor": "white",
             "startlinecolor": "#2a3f5f"
            },
            "type": "carpet"
           }
          ],
          "choropleth": [
           {
            "colorbar": {
             "outlinewidth": 0,
             "ticks": ""
            },
            "type": "choropleth"
           }
          ],
          "contour": [
           {
            "colorbar": {
             "outlinewidth": 0,
             "ticks": ""
            },
            "colorscale": [
             [
              0,
              "#0d0887"
             ],
             [
              0.1111111111111111,
              "#46039f"
             ],
             [
              0.2222222222222222,
              "#7201a8"
             ],
             [
              0.3333333333333333,
              "#9c179e"
             ],
             [
              0.4444444444444444,
              "#bd3786"
             ],
             [
              0.5555555555555556,
              "#d8576b"
             ],
             [
              0.6666666666666666,
              "#ed7953"
             ],
             [
              0.7777777777777778,
              "#fb9f3a"
             ],
             [
              0.8888888888888888,
              "#fdca26"
             ],
             [
              1,
              "#f0f921"
             ]
            ],
            "type": "contour"
           }
          ],
          "contourcarpet": [
           {
            "colorbar": {
             "outlinewidth": 0,
             "ticks": ""
            },
            "type": "contourcarpet"
           }
          ],
          "heatmap": [
           {
            "colorbar": {
             "outlinewidth": 0,
             "ticks": ""
            },
            "colorscale": [
             [
              0,
              "#0d0887"
             ],
             [
              0.1111111111111111,
              "#46039f"
             ],
             [
              0.2222222222222222,
              "#7201a8"
             ],
             [
              0.3333333333333333,
              "#9c179e"
             ],
             [
              0.4444444444444444,
              "#bd3786"
             ],
             [
              0.5555555555555556,
              "#d8576b"
             ],
             [
              0.6666666666666666,
              "#ed7953"
             ],
             [
              0.7777777777777778,
              "#fb9f3a"
             ],
             [
              0.8888888888888888,
              "#fdca26"
             ],
             [
              1,
              "#f0f921"
             ]
            ],
            "type": "heatmap"
           }
          ],
          "heatmapgl": [
           {
            "colorbar": {
             "outlinewidth": 0,
             "ticks": ""
            },
            "colorscale": [
             [
              0,
              "#0d0887"
             ],
             [
              0.1111111111111111,
              "#46039f"
             ],
             [
              0.2222222222222222,
              "#7201a8"
             ],
             [
              0.3333333333333333,
              "#9c179e"
             ],
             [
              0.4444444444444444,
              "#bd3786"
             ],
             [
              0.5555555555555556,
              "#d8576b"
             ],
             [
              0.6666666666666666,
              "#ed7953"
             ],
             [
              0.7777777777777778,
              "#fb9f3a"
             ],
             [
              0.8888888888888888,
              "#fdca26"
             ],
             [
              1,
              "#f0f921"
             ]
            ],
            "type": "heatmapgl"
           }
          ],
          "histogram": [
           {
            "marker": {
             "colorbar": {
              "outlinewidth": 0,
              "ticks": ""
             }
            },
            "type": "histogram"
           }
          ],
          "histogram2d": [
           {
            "colorbar": {
             "outlinewidth": 0,
             "ticks": ""
            },
            "colorscale": [
             [
              0,
              "#0d0887"
             ],
             [
              0.1111111111111111,
              "#46039f"
             ],
             [
              0.2222222222222222,
              "#7201a8"
             ],
             [
              0.3333333333333333,
              "#9c179e"
             ],
             [
              0.4444444444444444,
              "#bd3786"
             ],
             [
              0.5555555555555556,
              "#d8576b"
             ],
             [
              0.6666666666666666,
              "#ed7953"
             ],
             [
              0.7777777777777778,
              "#fb9f3a"
             ],
             [
              0.8888888888888888,
              "#fdca26"
             ],
             [
              1,
              "#f0f921"
             ]
            ],
            "type": "histogram2d"
           }
          ],
          "histogram2dcontour": [
           {
            "colorbar": {
             "outlinewidth": 0,
             "ticks": ""
            },
            "colorscale": [
             [
              0,
              "#0d0887"
             ],
             [
              0.1111111111111111,
              "#46039f"
             ],
             [
              0.2222222222222222,
              "#7201a8"
             ],
             [
              0.3333333333333333,
              "#9c179e"
             ],
             [
              0.4444444444444444,
              "#bd3786"
             ],
             [
              0.5555555555555556,
              "#d8576b"
             ],
             [
              0.6666666666666666,
              "#ed7953"
             ],
             [
              0.7777777777777778,
              "#fb9f3a"
             ],
             [
              0.8888888888888888,
              "#fdca26"
             ],
             [
              1,
              "#f0f921"
             ]
            ],
            "type": "histogram2dcontour"
           }
          ],
          "mesh3d": [
           {
            "colorbar": {
             "outlinewidth": 0,
             "ticks": ""
            },
            "type": "mesh3d"
           }
          ],
          "parcoords": [
           {
            "line": {
             "colorbar": {
              "outlinewidth": 0,
              "ticks": ""
             }
            },
            "type": "parcoords"
           }
          ],
          "pie": [
           {
            "automargin": true,
            "type": "pie"
           }
          ],
          "scatter": [
           {
            "marker": {
             "colorbar": {
              "outlinewidth": 0,
              "ticks": ""
             }
            },
            "type": "scatter"
           }
          ],
          "scatter3d": [
           {
            "line": {
             "colorbar": {
              "outlinewidth": 0,
              "ticks": ""
             }
            },
            "marker": {
             "colorbar": {
              "outlinewidth": 0,
              "ticks": ""
             }
            },
            "type": "scatter3d"
           }
          ],
          "scattercarpet": [
           {
            "marker": {
             "colorbar": {
              "outlinewidth": 0,
              "ticks": ""
             }
            },
            "type": "scattercarpet"
           }
          ],
          "scattergeo": [
           {
            "marker": {
             "colorbar": {
              "outlinewidth": 0,
              "ticks": ""
             }
            },
            "type": "scattergeo"
           }
          ],
          "scattergl": [
           {
            "marker": {
             "colorbar": {
              "outlinewidth": 0,
              "ticks": ""
             }
            },
            "type": "scattergl"
           }
          ],
          "scattermapbox": [
           {
            "marker": {
             "colorbar": {
              "outlinewidth": 0,
              "ticks": ""
             }
            },
            "type": "scattermapbox"
           }
          ],
          "scatterpolar": [
           {
            "marker": {
             "colorbar": {
              "outlinewidth": 0,
              "ticks": ""
             }
            },
            "type": "scatterpolar"
           }
          ],
          "scatterpolargl": [
           {
            "marker": {
             "colorbar": {
              "outlinewidth": 0,
              "ticks": ""
             }
            },
            "type": "scatterpolargl"
           }
          ],
          "scatterternary": [
           {
            "marker": {
             "colorbar": {
              "outlinewidth": 0,
              "ticks": ""
             }
            },
            "type": "scatterternary"
           }
          ],
          "surface": [
           {
            "colorbar": {
             "outlinewidth": 0,
             "ticks": ""
            },
            "colorscale": [
             [
              0,
              "#0d0887"
             ],
             [
              0.1111111111111111,
              "#46039f"
             ],
             [
              0.2222222222222222,
              "#7201a8"
             ],
             [
              0.3333333333333333,
              "#9c179e"
             ],
             [
              0.4444444444444444,
              "#bd3786"
             ],
             [
              0.5555555555555556,
              "#d8576b"
             ],
             [
              0.6666666666666666,
              "#ed7953"
             ],
             [
              0.7777777777777778,
              "#fb9f3a"
             ],
             [
              0.8888888888888888,
              "#fdca26"
             ],
             [
              1,
              "#f0f921"
             ]
            ],
            "type": "surface"
           }
          ],
          "table": [
           {
            "cells": {
             "fill": {
              "color": "#EBF0F8"
             },
             "line": {
              "color": "white"
             }
            },
            "header": {
             "fill": {
              "color": "#C8D4E3"
             },
             "line": {
              "color": "white"
             }
            },
            "type": "table"
           }
          ]
         },
         "layout": {
          "annotationdefaults": {
           "arrowcolor": "#2a3f5f",
           "arrowhead": 0,
           "arrowwidth": 1
          },
          "coloraxis": {
           "colorbar": {
            "outlinewidth": 0,
            "ticks": ""
           }
          },
          "colorscale": {
           "diverging": [
            [
             0,
             "#8e0152"
            ],
            [
             0.1,
             "#c51b7d"
            ],
            [
             0.2,
             "#de77ae"
            ],
            [
             0.3,
             "#f1b6da"
            ],
            [
             0.4,
             "#fde0ef"
            ],
            [
             0.5,
             "#f7f7f7"
            ],
            [
             0.6,
             "#e6f5d0"
            ],
            [
             0.7,
             "#b8e186"
            ],
            [
             0.8,
             "#7fbc41"
            ],
            [
             0.9,
             "#4d9221"
            ],
            [
             1,
             "#276419"
            ]
           ],
           "sequential": [
            [
             0,
             "#0d0887"
            ],
            [
             0.1111111111111111,
             "#46039f"
            ],
            [
             0.2222222222222222,
             "#7201a8"
            ],
            [
             0.3333333333333333,
             "#9c179e"
            ],
            [
             0.4444444444444444,
             "#bd3786"
            ],
            [
             0.5555555555555556,
             "#d8576b"
            ],
            [
             0.6666666666666666,
             "#ed7953"
            ],
            [
             0.7777777777777778,
             "#fb9f3a"
            ],
            [
             0.8888888888888888,
             "#fdca26"
            ],
            [
             1,
             "#f0f921"
            ]
           ],
           "sequentialminus": [
            [
             0,
             "#0d0887"
            ],
            [
             0.1111111111111111,
             "#46039f"
            ],
            [
             0.2222222222222222,
             "#7201a8"
            ],
            [
             0.3333333333333333,
             "#9c179e"
            ],
            [
             0.4444444444444444,
             "#bd3786"
            ],
            [
             0.5555555555555556,
             "#d8576b"
            ],
            [
             0.6666666666666666,
             "#ed7953"
            ],
            [
             0.7777777777777778,
             "#fb9f3a"
            ],
            [
             0.8888888888888888,
             "#fdca26"
            ],
            [
             1,
             "#f0f921"
            ]
           ]
          },
          "colorway": [
           "#636efa",
           "#EF553B",
           "#00cc96",
           "#ab63fa",
           "#FFA15A",
           "#19d3f3",
           "#FF6692",
           "#B6E880",
           "#FF97FF",
           "#FECB52"
          ],
          "font": {
           "color": "#2a3f5f"
          },
          "geo": {
           "bgcolor": "white",
           "lakecolor": "white",
           "landcolor": "#E5ECF6",
           "showlakes": true,
           "showland": true,
           "subunitcolor": "white"
          },
          "hoverlabel": {
           "align": "left"
          },
          "hovermode": "closest",
          "mapbox": {
           "style": "light"
          },
          "paper_bgcolor": "white",
          "plot_bgcolor": "#E5ECF6",
          "polar": {
           "angularaxis": {
            "gridcolor": "white",
            "linecolor": "white",
            "ticks": ""
           },
           "bgcolor": "#E5ECF6",
           "radialaxis": {
            "gridcolor": "white",
            "linecolor": "white",
            "ticks": ""
           }
          },
          "scene": {
           "xaxis": {
            "backgroundcolor": "#E5ECF6",
            "gridcolor": "white",
            "gridwidth": 2,
            "linecolor": "white",
            "showbackground": true,
            "ticks": "",
            "zerolinecolor": "white"
           },
           "yaxis": {
            "backgroundcolor": "#E5ECF6",
            "gridcolor": "white",
            "gridwidth": 2,
            "linecolor": "white",
            "showbackground": true,
            "ticks": "",
            "zerolinecolor": "white"
           },
           "zaxis": {
            "backgroundcolor": "#E5ECF6",
            "gridcolor": "white",
            "gridwidth": 2,
            "linecolor": "white",
            "showbackground": true,
            "ticks": "",
            "zerolinecolor": "white"
           }
          },
          "shapedefaults": {
           "line": {
            "color": "#2a3f5f"
           }
          },
          "ternary": {
           "aaxis": {
            "gridcolor": "white",
            "linecolor": "white",
            "ticks": ""
           },
           "baxis": {
            "gridcolor": "white",
            "linecolor": "white",
            "ticks": ""
           },
           "bgcolor": "#E5ECF6",
           "caxis": {
            "gridcolor": "white",
            "linecolor": "white",
            "ticks": ""
           }
          },
          "title": {
           "x": 0.05
          },
          "xaxis": {
           "automargin": true,
           "gridcolor": "white",
           "linecolor": "white",
           "ticks": "",
           "title": {
            "standoff": 15
           },
           "zerolinecolor": "white",
           "zerolinewidth": 2
          },
          "yaxis": {
           "automargin": true,
           "gridcolor": "white",
           "linecolor": "white",
           "ticks": "",
           "title": {
            "standoff": 15
           },
           "zerolinecolor": "white",
           "zerolinewidth": 2
          }
         }
        }
       }
      },
      "image/png": "[encoded data removed]",
      "text/html": [
       "<div>                            <div id=\"81acf621-23f2-4a14-a214-f7717807432e\" class=\"plotly-graph-div\" style=\"height:525px; width:100%;\"></div>            <script type=\"text/javascript\">                require([\"plotly\"], function(Plotly) {                    window.PLOTLYENV=window.PLOTLYENV || {};                                    if (document.getElementById(\"81acf621-23f2-4a14-a214-f7717807432e\")) {                    Plotly.newPlot(                        \"81acf621-23f2-4a14-a214-f7717807432e\",                        [{\"cells\": {\"align\": \"left\", \"fill\": {\"color\": \"white\"}, \"values\": [[\"All fields\", \"Life sciences\", \"Physical sciences and earth sciences\", \"Mathematics and computer sciences\", \"Psychology and social sciences\", \"Engineering\", \"Education\", \"Humanities and arts\", \"Other\"], [\"63,000\", \"65,000\", \"52,000\", \"70,000\", \"63,000\", \"79,000\", \"64,000\", \"50,000\", \"62,000\"], [\"100,000\", \"90,000\", \"100,000\", \"125,000\", \"97,000\", \"102,000\", \"80,000\", \"65,000\", \"85,000\"], [\"80,800\", \"72,000\", \"71,600\", \"101,000\", \"77,500\", \"94,500\", \"79,000\", \"67,000\", \"88,000\"], [\"79,000\", \"83,000\", \"85,000\", \"120,000\", \"75,000\", \"100,000\", \"75,000\", \"50,000\", \"78,500\"], [\"70,000\", \"60,000\", \"48,025\", \"65,500\", \"65,000\", \"85,000\", \"75,000\", \"53,750\", \"81,000\"]]}, \"header\": {\"align\": \"left\", \"fill\": {\"color\": \"rgba(8,104,172, .1)\"}, \"values\": [\"<b>Field\", \"<b>Academic Salary\", \"<b>Industry Salary\", \"<b>Government Salary\", \"<b>Nonprofit Salary\", \"<b>Other Salary\"]}, \"type\": \"table\"}],                        {\"template\": {\"data\": {\"bar\": [{\"error_x\": {\"color\": \"#2a3f5f\"}, \"error_y\": {\"color\": \"#2a3f5f\"}, \"marker\": {\"line\": {\"color\": \"#E5ECF6\", \"width\": 0.5}}, \"type\": \"bar\"}], \"barpolar\": [{\"marker\": {\"line\": {\"color\": \"#E5ECF6\", \"width\": 0.5}}, \"type\": \"barpolar\"}], \"carpet\": [{\"aaxis\": {\"endlinecolor\": \"#2a3f5f\", \"gridcolor\": \"white\", \"linecolor\": \"white\", \"minorgridcolor\": \"white\", \"startlinecolor\": \"#2a3f5f\"}, \"baxis\": {\"endlinecolor\": \"#2a3f5f\", \"gridcolor\": \"white\", \"linecolor\": \"white\", \"minorgridcolor\": \"white\", \"startlinecolor\": \"#2a3f5f\"}, \"type\": \"carpet\"}], \"choropleth\": [{\"colorbar\": {\"outlinewidth\": 0, \"ticks\": \"\"}, \"type\": \"choropleth\"}], \"contour\": [{\"colorbar\": {\"outlinewidth\": 0, \"ticks\": \"\"}, \"colorscale\": [[0.0, \"#0d0887\"], [0.1111111111111111, \"#46039f\"], [0.2222222222222222, \"#7201a8\"], [0.3333333333333333, \"#9c179e\"], [0.4444444444444444, \"#bd3786\"], [0.5555555555555556, \"#d8576b\"], [0.6666666666666666, \"#ed7953\"], [0.7777777777777778, \"#fb9f3a\"], [0.8888888888888888, \"#fdca26\"], [1.0, \"#f0f921\"]], \"type\": \"contour\"}], \"contourcarpet\": [{\"colorbar\": {\"outlinewidth\": 0, \"ticks\": \"\"}, \"type\": \"contourcarpet\"}], \"heatmap\": [{\"colorbar\": {\"outlinewidth\": 0, \"ticks\": \"\"}, \"colorscale\": [[0.0, \"#0d0887\"], [0.1111111111111111, \"#46039f\"], [0.2222222222222222, \"#7201a8\"], [0.3333333333333333, \"#9c179e\"], [0.4444444444444444, \"#bd3786\"], [0.5555555555555556, \"#d8576b\"], [0.6666666666666666, \"#ed7953\"], [0.7777777777777778, \"#fb9f3a\"], [0.8888888888888888, \"#fdca26\"], [1.0, \"#f0f921\"]], \"type\": \"heatmap\"}], \"heatmapgl\": [{\"colorbar\": {\"outlinewidth\": 0, \"ticks\": \"\"}, \"colorscale\": [[0.0, \"#0d0887\"], [0.1111111111111111, \"#46039f\"], [0.2222222222222222, \"#7201a8\"], [0.3333333333333333, \"#9c179e\"], [0.4444444444444444, \"#bd3786\"], [0.5555555555555556, \"#d8576b\"], [0.6666666666666666, \"#ed7953\"], [0.7777777777777778, \"#fb9f3a\"], [0.8888888888888888, \"#fdca26\"], [1.0, \"#f0f921\"]], \"type\": \"heatmapgl\"}], \"histogram\": [{\"marker\": {\"colorbar\": {\"outlinewidth\": 0, \"ticks\": \"\"}}, \"type\": \"histogram\"}], \"histogram2d\": [{\"colorbar\": {\"outlinewidth\": 0, \"ticks\": \"\"}, \"colorscale\": [[0.0, \"#0d0887\"], [0.1111111111111111, \"#46039f\"], [0.2222222222222222, \"#7201a8\"], [0.3333333333333333, \"#9c179e\"], [0.4444444444444444, \"#bd3786\"], [0.5555555555555556, \"#d8576b\"], [0.6666666666666666, \"#ed7953\"], [0.7777777777777778, \"#fb9f3a\"], [0.8888888888888888, \"#fdca26\"], [1.0, \"#f0f921\"]], \"type\": \"histogram2d\"}], \"histogram2dcontour\": [{\"colorbar\": {\"outlinewidth\": 0, \"ticks\": \"\"}, \"colorscale\": [[0.0, \"#0d0887\"], [0.1111111111111111, \"#46039f\"], [0.2222222222222222, \"#7201a8\"], [0.3333333333333333, \"#9c179e\"], [0.4444444444444444, \"#bd3786\"], [0.5555555555555556, \"#d8576b\"], [0.6666666666666666, \"#ed7953\"], [0.7777777777777778, \"#fb9f3a\"], [0.8888888888888888, \"#fdca26\"], [1.0, \"#f0f921\"]], \"type\": \"histogram2dcontour\"}], \"mesh3d\": [{\"colorbar\": {\"outlinewidth\": 0, \"ticks\": \"\"}, \"type\": \"mesh3d\"}], \"parcoords\": [{\"line\": {\"colorbar\": {\"outlinewidth\": 0, \"ticks\": \"\"}}, \"type\": \"parcoords\"}], \"pie\": [{\"automargin\": true, \"type\": \"pie\"}], \"scatter\": [{\"marker\": {\"colorbar\": {\"outlinewidth\": 0, \"ticks\": \"\"}}, \"type\": \"scatter\"}], \"scatter3d\": [{\"line\": {\"colorbar\": {\"outlinewidth\": 0, \"ticks\": \"\"}}, \"marker\": {\"colorbar\": {\"outlinewidth\": 0, \"ticks\": \"\"}}, \"type\": \"scatter3d\"}], \"scattercarpet\": [{\"marker\": {\"colorbar\": {\"outlinewidth\": 0, \"ticks\": \"\"}}, \"type\": \"scattercarpet\"}], \"scattergeo\": [{\"marker\": {\"colorbar\": {\"outlinewidth\": 0, \"ticks\": \"\"}}, \"type\": \"scattergeo\"}], \"scattergl\": [{\"marker\": {\"colorbar\": {\"outlinewidth\": 0, \"ticks\": \"\"}}, \"type\": \"scattergl\"}], \"scattermapbox\": [{\"marker\": {\"colorbar\": {\"outlinewidth\": 0, \"ticks\": \"\"}}, \"type\": \"scattermapbox\"}], \"scatterpolar\": [{\"marker\": {\"colorbar\": {\"outlinewidth\": 0, \"ticks\": \"\"}}, \"type\": \"scatterpolar\"}], \"scatterpolargl\": [{\"marker\": {\"colorbar\": {\"outlinewidth\": 0, \"ticks\": \"\"}}, \"type\": \"scatterpolargl\"}], \"scatterternary\": [{\"marker\": {\"colorbar\": {\"outlinewidth\": 0, \"ticks\": \"\"}}, \"type\": \"scatterternary\"}], \"surface\": [{\"colorbar\": {\"outlinewidth\": 0, \"ticks\": \"\"}, \"colorscale\": [[0.0, \"#0d0887\"], [0.1111111111111111, \"#46039f\"], [0.2222222222222222, \"#7201a8\"], [0.3333333333333333, \"#9c179e\"], [0.4444444444444444, \"#bd3786\"], [0.5555555555555556, \"#d8576b\"], [0.6666666666666666, \"#ed7953\"], [0.7777777777777778, \"#fb9f3a\"], [0.8888888888888888, \"#fdca26\"], [1.0, \"#f0f921\"]], \"type\": \"surface\"}], \"table\": [{\"cells\": {\"fill\": {\"color\": \"#EBF0F8\"}, \"line\": {\"color\": \"white\"}}, \"header\": {\"fill\": {\"color\": \"#C8D4E3\"}, \"line\": {\"color\": \"white\"}}, \"type\": \"table\"}]}, \"layout\": {\"annotationdefaults\": {\"arrowcolor\": \"#2a3f5f\", \"arrowhead\": 0, \"arrowwidth\": 1}, \"coloraxis\": {\"colorbar\": {\"outlinewidth\": 0, \"ticks\": \"\"}}, \"colorscale\": {\"diverging\": [[0, \"#8e0152\"], [0.1, \"#c51b7d\"], [0.2, \"#de77ae\"], [0.3, \"#f1b6da\"], [0.4, \"#fde0ef\"], [0.5, \"#f7f7f7\"], [0.6, \"#e6f5d0\"], [0.7, \"#b8e186\"], [0.8, \"#7fbc41\"], [0.9, \"#4d9221\"], [1, \"#276419\"]], \"sequential\": [[0.0, \"#0d0887\"], [0.1111111111111111, \"#46039f\"], [0.2222222222222222, \"#7201a8\"], [0.3333333333333333, \"#9c179e\"], [0.4444444444444444, \"#bd3786\"], [0.5555555555555556, \"#d8576b\"], [0.6666666666666666, \"#ed7953\"], [0.7777777777777778, \"#fb9f3a\"], [0.8888888888888888, \"#fdca26\"], [1.0, \"#f0f921\"]], \"sequentialminus\": [[0.0, \"#0d0887\"], [0.1111111111111111, \"#46039f\"], [0.2222222222222222, \"#7201a8\"], [0.3333333333333333, \"#9c179e\"], [0.4444444444444444, \"#bd3786\"], [0.5555555555555556, \"#d8576b\"], [0.6666666666666666, \"#ed7953\"], [0.7777777777777778, \"#fb9f3a\"], [0.8888888888888888, \"#fdca26\"], [1.0, \"#f0f921\"]]}, \"colorway\": [\"#636efa\", \"#EF553B\", \"#00cc96\", \"#ab63fa\", \"#FFA15A\", \"#19d3f3\", \"#FF6692\", \"#B6E880\", \"#FF97FF\", \"#FECB52\"], \"font\": {\"color\": \"#2a3f5f\"}, \"geo\": {\"bgcolor\": \"white\", \"lakecolor\": \"white\", \"landcolor\": \"#E5ECF6\", \"showlakes\": true, \"showland\": true, \"subunitcolor\": \"white\"}, \"hoverlabel\": {\"align\": \"left\"}, \"hovermode\": \"closest\", \"mapbox\": {\"style\": \"light\"}, \"paper_bgcolor\": \"white\", \"plot_bgcolor\": \"#E5ECF6\", \"polar\": {\"angularaxis\": {\"gridcolor\": \"white\", \"linecolor\": \"white\", \"ticks\": \"\"}, \"bgcolor\": \"#E5ECF6\", \"radialaxis\": {\"gridcolor\": \"white\", \"linecolor\": \"white\", \"ticks\": \"\"}}, \"scene\": {\"xaxis\": {\"backgroundcolor\": \"#E5ECF6\", \"gridcolor\": \"white\", \"gridwidth\": 2, \"linecolor\": \"white\", \"showbackground\": true, \"ticks\": \"\", \"zerolinecolor\": \"white\"}, \"yaxis\": {\"backgroundcolor\": \"#E5ECF6\", \"gridcolor\": \"white\", \"gridwidth\": 2, \"linecolor\": \"white\", \"showbackground\": true, \"ticks\": \"\", \"zerolinecolor\": \"white\"}, \"zaxis\": {\"backgroundcolor\": \"#E5ECF6\", \"gridcolor\": \"white\", \"gridwidth\": 2, \"linecolor\": \"white\", \"showbackground\": true, \"ticks\": \"\", \"zerolinecolor\": \"white\"}}, \"shapedefaults\": {\"line\": {\"color\": \"#2a3f5f\"}}, \"ternary\": {\"aaxis\": {\"gridcolor\": \"white\", \"linecolor\": \"white\", \"ticks\": \"\"}, \"baxis\": {\"gridcolor\": \"white\", \"linecolor\": \"white\", \"ticks\": \"\"}, \"bgcolor\": \"#E5ECF6\", \"caxis\": {\"gridcolor\": \"white\", \"linecolor\": \"white\", \"ticks\": \"\"}}, \"title\": {\"x\": 0.05}, \"xaxis\": {\"automargin\": true, \"gridcolor\": \"white\", \"linecolor\": \"white\", \"ticks\": \"\", \"title\": {\"standoff\": 15}, \"zerolinecolor\": \"white\", \"zerolinewidth\": 2}, \"yaxis\": {\"automargin\": true, \"gridcolor\": \"white\", \"linecolor\": \"white\", \"ticks\": \"\", \"title\": {\"standoff\": 15}, \"zerolinecolor\": \"white\", \"zerolinewidth\": 2}}}},                        {\"responsive\": true}                    ).then(function(){\n",
       "                            \n",
       "var gd = document.getElementById('81acf621-23f2-4a14-a214-f7717807432e');\n",
       "var x = new MutationObserver(function (mutations, observer) {{\n",
       "        var display = window.getComputedStyle(gd).display;\n",
       "        if (!display || display === 'none') {{\n",
       "            console.log([gd, 'removed!']);\n",
       "            Plotly.purge(gd);\n",
       "            observer.disconnect();\n",
       "        }}\n",
       "}});\n",
       "\n",
       "// Listen for the removal of the full notebook cells\n",
       "var notebookContainer = gd.closest('#notebook-container');\n",
       "if (notebookContainer) {{\n",
       "    x.observe(notebookContainer, {childList: true});\n",
       "}}\n",
       "\n",
       "// Listen for the clearing of the current output cell\n",
       "var outputEl = gd.closest('.output');\n",
       "if (outputEl) {{\n",
       "    x.observe(outputEl, {childList: true});\n",
       "}}\n",
       "\n",
       "                        })                };                });            </script>        </div>"
      ]
     },
     "metadata": {},
     "output_type": "display_data"
    }
   ],
   "source": [
    "fig = go.Figure(data=[go.Table(\n",
    "    header=dict(values=list('<b>'+salary_data.columns),\n",
    "                fill_color= 'rgba(8,104,172, .1)',\n",
    "                align='left'),\n",
    "    cells=dict(values=[salary_data['Field'],salary_data['Academic Salary'],salary_data['Industry Salary'],salary_data['Government Salary'],salary_data['Nonprofit Salary'],salary_data['Other Salary']],\n",
    "               fill_color='white',\n",
    "               align='left')),\n",
    "])\n",
    "\n",
    "fig.show()"
   ]
  },
  {
   "cell_type": "code",
   "execution_count": 34,
   "metadata": {},
   "outputs": [
    {
     "data": {
      "text/plain": [
       "'https://plotly.com/~joekrinke15/14/'"
      ]
     },
     "execution_count": 34,
     "metadata": {},
     "output_type": "execute_result"
    }
   ],
   "source": [
    "py.plot(fig, title = 'Salary Data')"
   ]
  },
  {
   "cell_type": "code",
   "execution_count": 29,
   "metadata": {},
   "outputs": [
    {
     "data": {
      "application/vnd.plotly.v1+json": {
       "config": {
        "plotlyServerURL": "https://plotly.com"
       },
       "data": [
        {
         "marker": {
          "color": "rgba(220,249,150,1)"
         },
         "name": "Academic Salary",
         "type": "bar",
         "x": [
          "All fields",
          "Life sciences",
          "Physical sciences and earth sciences",
          "Mathematics and computer sciences",
          "Psychology and social sciences",
          "Engineering",
          "Education",
          "Humanities and arts",
          "Other"
         ],
         "y": [
          "63,000",
          "65,000",
          "52,000",
          "70,000",
          "63,000",
          "79,000",
          "64,000",
          "50,000",
          "62,000"
         ]
        },
        {
         "marker": {
          "color": "rgba(204,235,197, 1)"
         },
         "name": "Industry Salary",
         "type": "bar",
         "x": [
          "All fields",
          "Life sciences",
          "Physical sciences and earth sciences",
          "Mathematics and computer sciences",
          "Psychology and social sciences",
          "Engineering",
          "Education",
          "Humanities and arts",
          "Other"
         ],
         "y": [
          "100,000",
          "90,000",
          "100,000",
          "125,000",
          "97,000",
          "102,000",
          "80,000",
          "65,000",
          "85,000"
         ]
        },
        {
         "marker": {
          "color": "rgba(8,104,172, 1)"
         },
         "name": "Government Salary",
         "type": "bar",
         "x": [
          "All fields",
          "Life sciences",
          "Physical sciences and earth sciences",
          "Mathematics and computer sciences",
          "Psychology and social sciences",
          "Engineering",
          "Education",
          "Humanities and arts",
          "Other"
         ],
         "y": [
          "80,800",
          "72,000",
          "71,600",
          "101,000",
          "77,500",
          "94,500",
          "79,000",
          "67,000",
          "88,000"
         ]
        },
        {
         "marker": {
          "color": "rgba(123,204,196, 1)"
         },
         "name": "Nonprofit Salary",
         "type": "bar",
         "x": [
          "All fields",
          "Life sciences",
          "Physical sciences and earth sciences",
          "Mathematics and computer sciences",
          "Psychology and social sciences",
          "Engineering",
          "Education",
          "Humanities and arts",
          "Other"
         ],
         "y": [
          "79,000",
          "83,000",
          "85,000",
          "120,000",
          "75,000",
          "100,000",
          "75,000",
          "50,000",
          "78,500"
         ]
        },
        {
         "marker": {
          "color": "rgba(67,162,202, 1)"
         },
         "name": "Other Salary",
         "type": "bar",
         "x": [
          "All fields",
          "Life sciences",
          "Physical sciences and earth sciences",
          "Mathematics and computer sciences",
          "Psychology and social sciences",
          "Engineering",
          "Education",
          "Humanities and arts",
          "Other"
         ],
         "y": [
          "70,000",
          "60,000",
          "48,025",
          "65,500",
          "65,000",
          "85,000",
          "75,000",
          "53,750",
          "81,000"
         ]
        }
       ],
       "layout": {
        "autosize": true,
        "paper_bgcolor": "rgb(250, 255, 255)",
        "template": {
         "data": {
          "bar": [
           {
            "error_x": {
             "color": "#2a3f5f"
            },
            "error_y": {
             "color": "#2a3f5f"
            },
            "marker": {
             "line": {
              "color": "#E5ECF6",
              "width": 0.5
             }
            },
            "type": "bar"
           }
          ],
          "barpolar": [
           {
            "marker": {
             "line": {
              "color": "#E5ECF6",
              "width": 0.5
             }
            },
            "type": "barpolar"
           }
          ],
          "carpet": [
           {
            "aaxis": {
             "endlinecolor": "#2a3f5f",
             "gridcolor": "white",
             "linecolor": "white",
             "minorgridcolor": "white",
             "startlinecolor": "#2a3f5f"
            },
            "baxis": {
             "endlinecolor": "#2a3f5f",
             "gridcolor": "white",
             "linecolor": "white",
             "minorgridcolor": "white",
             "startlinecolor": "#2a3f5f"
            },
            "type": "carpet"
           }
          ],
          "choropleth": [
           {
            "colorbar": {
             "outlinewidth": 0,
             "ticks": ""
            },
            "type": "choropleth"
           }
          ],
          "contour": [
           {
            "colorbar": {
             "outlinewidth": 0,
             "ticks": ""
            },
            "colorscale": [
             [
              0,
              "#0d0887"
             ],
             [
              0.1111111111111111,
              "#46039f"
             ],
             [
              0.2222222222222222,
              "#7201a8"
             ],
             [
              0.3333333333333333,
              "#9c179e"
             ],
             [
              0.4444444444444444,
              "#bd3786"
             ],
             [
              0.5555555555555556,
              "#d8576b"
             ],
             [
              0.6666666666666666,
              "#ed7953"
             ],
             [
              0.7777777777777778,
              "#fb9f3a"
             ],
             [
              0.8888888888888888,
              "#fdca26"
             ],
             [
              1,
              "#f0f921"
             ]
            ],
            "type": "contour"
           }
          ],
          "contourcarpet": [
           {
            "colorbar": {
             "outlinewidth": 0,
             "ticks": ""
            },
            "type": "contourcarpet"
           }
          ],
          "heatmap": [
           {
            "colorbar": {
             "outlinewidth": 0,
             "ticks": ""
            },
            "colorscale": [
             [
              0,
              "#0d0887"
             ],
             [
              0.1111111111111111,
              "#46039f"
             ],
             [
              0.2222222222222222,
              "#7201a8"
             ],
             [
              0.3333333333333333,
              "#9c179e"
             ],
             [
              0.4444444444444444,
              "#bd3786"
             ],
             [
              0.5555555555555556,
              "#d8576b"
             ],
             [
              0.6666666666666666,
              "#ed7953"
             ],
             [
              0.7777777777777778,
              "#fb9f3a"
             ],
             [
              0.8888888888888888,
              "#fdca26"
             ],
             [
              1,
              "#f0f921"
             ]
            ],
            "type": "heatmap"
           }
          ],
          "heatmapgl": [
           {
            "colorbar": {
             "outlinewidth": 0,
             "ticks": ""
            },
            "colorscale": [
             [
              0,
              "#0d0887"
             ],
             [
              0.1111111111111111,
              "#46039f"
             ],
             [
              0.2222222222222222,
              "#7201a8"
             ],
             [
              0.3333333333333333,
              "#9c179e"
             ],
             [
              0.4444444444444444,
              "#bd3786"
             ],
             [
              0.5555555555555556,
              "#d8576b"
             ],
             [
              0.6666666666666666,
              "#ed7953"
             ],
             [
              0.7777777777777778,
              "#fb9f3a"
             ],
             [
              0.8888888888888888,
              "#fdca26"
             ],
             [
              1,
              "#f0f921"
             ]
            ],
            "type": "heatmapgl"
           }
          ],
          "histogram": [
           {
            "marker": {
             "colorbar": {
              "outlinewidth": 0,
              "ticks": ""
             }
            },
            "type": "histogram"
           }
          ],
          "histogram2d": [
           {
            "colorbar": {
             "outlinewidth": 0,
             "ticks": ""
            },
            "colorscale": [
             [
              0,
              "#0d0887"
             ],
             [
              0.1111111111111111,
              "#46039f"
             ],
             [
              0.2222222222222222,
              "#7201a8"
             ],
             [
              0.3333333333333333,
              "#9c179e"
             ],
             [
              0.4444444444444444,
              "#bd3786"
             ],
             [
              0.5555555555555556,
              "#d8576b"
             ],
             [
              0.6666666666666666,
              "#ed7953"
             ],
             [
              0.7777777777777778,
              "#fb9f3a"
             ],
             [
              0.8888888888888888,
              "#fdca26"
             ],
             [
              1,
              "#f0f921"
             ]
            ],
            "type": "histogram2d"
           }
          ],
          "histogram2dcontour": [
           {
            "colorbar": {
             "outlinewidth": 0,
             "ticks": ""
            },
            "colorscale": [
             [
              0,
              "#0d0887"
             ],
             [
              0.1111111111111111,
              "#46039f"
             ],
             [
              0.2222222222222222,
              "#7201a8"
             ],
             [
              0.3333333333333333,
              "#9c179e"
             ],
             [
              0.4444444444444444,
              "#bd3786"
             ],
             [
              0.5555555555555556,
              "#d8576b"
             ],
             [
              0.6666666666666666,
              "#ed7953"
             ],
             [
              0.7777777777777778,
              "#fb9f3a"
             ],
             [
              0.8888888888888888,
              "#fdca26"
             ],
             [
              1,
              "#f0f921"
             ]
            ],
            "type": "histogram2dcontour"
           }
          ],
          "mesh3d": [
           {
            "colorbar": {
             "outlinewidth": 0,
             "ticks": ""
            },
            "type": "mesh3d"
           }
          ],
          "parcoords": [
           {
            "line": {
             "colorbar": {
              "outlinewidth": 0,
              "ticks": ""
             }
            },
            "type": "parcoords"
           }
          ],
          "pie": [
           {
            "automargin": true,
            "type": "pie"
           }
          ],
          "scatter": [
           {
            "marker": {
             "colorbar": {
              "outlinewidth": 0,
              "ticks": ""
             }
            },
            "type": "scatter"
           }
          ],
          "scatter3d": [
           {
            "line": {
             "colorbar": {
              "outlinewidth": 0,
              "ticks": ""
             }
            },
            "marker": {
             "colorbar": {
              "outlinewidth": 0,
              "ticks": ""
             }
            },
            "type": "scatter3d"
           }
          ],
          "scattercarpet": [
           {
            "marker": {
             "colorbar": {
              "outlinewidth": 0,
              "ticks": ""
             }
            },
            "type": "scattercarpet"
           }
          ],
          "scattergeo": [
           {
            "marker": {
             "colorbar": {
              "outlinewidth": 0,
              "ticks": ""
             }
            },
            "type": "scattergeo"
           }
          ],
          "scattergl": [
           {
            "marker": {
             "colorbar": {
              "outlinewidth": 0,
              "ticks": ""
             }
            },
            "type": "scattergl"
           }
          ],
          "scattermapbox": [
           {
            "marker": {
             "colorbar": {
              "outlinewidth": 0,
              "ticks": ""
             }
            },
            "type": "scattermapbox"
           }
          ],
          "scatterpolar": [
           {
            "marker": {
             "colorbar": {
              "outlinewidth": 0,
              "ticks": ""
             }
            },
            "type": "scatterpolar"
           }
          ],
          "scatterpolargl": [
           {
            "marker": {
             "colorbar": {
              "outlinewidth": 0,
              "ticks": ""
             }
            },
            "type": "scatterpolargl"
           }
          ],
          "scatterternary": [
           {
            "marker": {
             "colorbar": {
              "outlinewidth": 0,
              "ticks": ""
             }
            },
            "type": "scatterternary"
           }
          ],
          "surface": [
           {
            "colorbar": {
             "outlinewidth": 0,
             "ticks": ""
            },
            "colorscale": [
             [
              0,
              "#0d0887"
             ],
             [
              0.1111111111111111,
              "#46039f"
             ],
             [
              0.2222222222222222,
              "#7201a8"
             ],
             [
              0.3333333333333333,
              "#9c179e"
             ],
             [
              0.4444444444444444,
              "#bd3786"
             ],
             [
              0.5555555555555556,
              "#d8576b"
             ],
             [
              0.6666666666666666,
              "#ed7953"
             ],
             [
              0.7777777777777778,
              "#fb9f3a"
             ],
             [
              0.8888888888888888,
              "#fdca26"
             ],
             [
              1,
              "#f0f921"
             ]
            ],
            "type": "surface"
           }
          ],
          "table": [
           {
            "cells": {
             "fill": {
              "color": "#EBF0F8"
             },
             "line": {
              "color": "white"
             }
            },
            "header": {
             "fill": {
              "color": "#C8D4E3"
             },
             "line": {
              "color": "white"
             }
            },
            "type": "table"
           }
          ]
         },
         "layout": {
          "annotationdefaults": {
           "arrowcolor": "#2a3f5f",
           "arrowhead": 0,
           "arrowwidth": 1
          },
          "coloraxis": {
           "colorbar": {
            "outlinewidth": 0,
            "ticks": ""
           }
          },
          "colorscale": {
           "diverging": [
            [
             0,
             "#8e0152"
            ],
            [
             0.1,
             "#c51b7d"
            ],
            [
             0.2,
             "#de77ae"
            ],
            [
             0.3,
             "#f1b6da"
            ],
            [
             0.4,
             "#fde0ef"
            ],
            [
             0.5,
             "#f7f7f7"
            ],
            [
             0.6,
             "#e6f5d0"
            ],
            [
             0.7,
             "#b8e186"
            ],
            [
             0.8,
             "#7fbc41"
            ],
            [
             0.9,
             "#4d9221"
            ],
            [
             1,
             "#276419"
            ]
           ],
           "sequential": [
            [
             0,
             "#0d0887"
            ],
            [
             0.1111111111111111,
             "#46039f"
            ],
            [
             0.2222222222222222,
             "#7201a8"
            ],
            [
             0.3333333333333333,
             "#9c179e"
            ],
            [
             0.4444444444444444,
             "#bd3786"
            ],
            [
             0.5555555555555556,
             "#d8576b"
            ],
            [
             0.6666666666666666,
             "#ed7953"
            ],
            [
             0.7777777777777778,
             "#fb9f3a"
            ],
            [
             0.8888888888888888,
             "#fdca26"
            ],
            [
             1,
             "#f0f921"
            ]
           ],
           "sequentialminus": [
            [
             0,
             "#0d0887"
            ],
            [
             0.1111111111111111,
             "#46039f"
            ],
            [
             0.2222222222222222,
             "#7201a8"
            ],
            [
             0.3333333333333333,
             "#9c179e"
            ],
            [
             0.4444444444444444,
             "#bd3786"
            ],
            [
             0.5555555555555556,
             "#d8576b"
            ],
            [
             0.6666666666666666,
             "#ed7953"
            ],
            [
             0.7777777777777778,
             "#fb9f3a"
            ],
            [
             0.8888888888888888,
             "#fdca26"
            ],
            [
             1,
             "#f0f921"
            ]
           ]
          },
          "colorway": [
           "#636efa",
           "#EF553B",
           "#00cc96",
           "#ab63fa",
           "#FFA15A",
           "#19d3f3",
           "#FF6692",
           "#B6E880",
           "#FF97FF",
           "#FECB52"
          ],
          "font": {
           "color": "#2a3f5f"
          },
          "geo": {
           "bgcolor": "white",
           "lakecolor": "white",
           "landcolor": "#E5ECF6",
           "showlakes": true,
           "showland": true,
           "subunitcolor": "white"
          },
          "hoverlabel": {
           "align": "left"
          },
          "hovermode": "closest",
          "mapbox": {
           "style": "light"
          },
          "paper_bgcolor": "white",
          "plot_bgcolor": "#E5ECF6",
          "polar": {
           "angularaxis": {
            "gridcolor": "white",
            "linecolor": "white",
            "ticks": ""
           },
           "bgcolor": "#E5ECF6",
           "radialaxis": {
            "gridcolor": "white",
            "linecolor": "white",
            "ticks": ""
           }
          },
          "scene": {
           "xaxis": {
            "backgroundcolor": "#E5ECF6",
            "gridcolor": "white",
            "gridwidth": 2,
            "linecolor": "white",
            "showbackground": true,
            "ticks": "",
            "zerolinecolor": "white"
           },
           "yaxis": {
            "backgroundcolor": "#E5ECF6",
            "gridcolor": "white",
            "gridwidth": 2,
            "linecolor": "white",
            "showbackground": true,
            "ticks": "",
            "zerolinecolor": "white"
           },
           "zaxis": {
            "backgroundcolor": "#E5ECF6",
            "gridcolor": "white",
            "gridwidth": 2,
            "linecolor": "white",
            "showbackground": true,
            "ticks": "",
            "zerolinecolor": "white"
           }
          },
          "shapedefaults": {
           "line": {
            "color": "#2a3f5f"
           }
          },
          "ternary": {
           "aaxis": {
            "gridcolor": "white",
            "linecolor": "white",
            "ticks": ""
           },
           "baxis": {
            "gridcolor": "white",
            "linecolor": "white",
            "ticks": ""
           },
           "bgcolor": "#E5ECF6",
           "caxis": {
            "gridcolor": "white",
            "linecolor": "white",
            "ticks": ""
           }
          },
          "title": {
           "x": 0.05
          },
          "xaxis": {
           "automargin": true,
           "gridcolor": "white",
           "linecolor": "white",
           "ticks": "",
           "title": {
            "standoff": 15
           },
           "zerolinecolor": "white",
           "zerolinewidth": 2
          },
          "yaxis": {
           "automargin": true,
           "gridcolor": "white",
           "linecolor": "white",
           "ticks": "",
           "title": {
            "standoff": 15
           },
           "zerolinecolor": "white",
           "zerolinewidth": 2
          }
         }
        },
        "title": {
         "text": "Salaries by Field of Study and Sector",
         "x": 0.5
        },
        "updatemenus": [
         {
          "active": 0,
          "buttons": [
           {
            "args": [
             {
              "visible": [
               true,
               true,
               true,
               true,
               true
              ]
             },
             {
              "title": "All Salaries"
             }
            ],
            "label": "All",
            "method": "update"
           },
           {
            "args": [
             {
              "visible": [
               true,
               false,
               false,
               false,
               false
              ]
             },
             {
              "title": "Academic Salary"
             }
            ],
            "label": "Academic",
            "method": "update"
           },
           {
            "args": [
             {
              "visible": [
               false,
               true,
               false,
               false,
               false
              ]
             },
             {
              "title": "Industry Salary"
             }
            ],
            "label": "Industry",
            "method": "update"
           },
           {
            "args": [
             {
              "visible": [
               false,
               false,
               true,
               false,
               false
              ]
             },
             {
              "title": "Government Salary"
             }
            ],
            "label": "Government",
            "method": "update"
           },
           {
            "args": [
             {
              "visible": [
               false,
               false,
               false,
               true,
               false
              ]
             },
             {
              "title": "Nonprofit Salary"
             }
            ],
            "label": "Nonprofit",
            "method": "update"
           },
           {
            "args": [
             {
              "visible": [
               false,
               false,
               false,
               false,
               true
              ]
             },
             {
              "title": "Other Salary"
             }
            ],
            "label": "Other",
            "method": "update"
           }
          ],
          "x": 0,
          "y": 1.3
         }
        ],
        "xaxis": {
         "autorange": true,
         "range": [
          -0.5,
          8.5
         ],
         "title": {
          "text": "Field of Study"
         },
         "type": "category"
        },
        "yaxis": {
         "autorange": true,
         "range": [
          0,
          131578.94736842104
         ],
         "title": {
          "text": "Median Salary (USD)"
         }
        }
       }
      },
      "image/png": "[encoded data removed]",
      "text/html": [
       "<div>                            <div id=\"ae0c88c7-5744-4116-b354-2e488b80d30e\" class=\"plotly-graph-div\" style=\"height:525px; width:100%;\"></div>            <script type=\"text/javascript\">                require([\"plotly\"], function(Plotly) {                    window.PLOTLYENV=window.PLOTLYENV || {};                                    if (document.getElementById(\"ae0c88c7-5744-4116-b354-2e488b80d30e\")) {                    Plotly.newPlot(                        \"ae0c88c7-5744-4116-b354-2e488b80d30e\",                        [{\"marker\": {\"color\": \"rgba(220,249,150,1)\"}, \"name\": \"Academic Salary\", \"type\": \"bar\", \"x\": [\"All fields\", \"Life sciences\", \"Physical sciences and earth sciences\", \"Mathematics and computer sciences\", \"Psychology and social sciences\", \"Engineering\", \"Education\", \"Humanities and arts\", \"Other\"], \"y\": [\"63,000\", \"65,000\", \"52,000\", \"70,000\", \"63,000\", \"79,000\", \"64,000\", \"50,000\", \"62,000\"]}, {\"marker\": {\"color\": \"rgba(204,235,197, 1)\"}, \"name\": \"Industry Salary\", \"type\": \"bar\", \"x\": [\"All fields\", \"Life sciences\", \"Physical sciences and earth sciences\", \"Mathematics and computer sciences\", \"Psychology and social sciences\", \"Engineering\", \"Education\", \"Humanities and arts\", \"Other\"], \"y\": [\"100,000\", \"90,000\", \"100,000\", \"125,000\", \"97,000\", \"102,000\", \"80,000\", \"65,000\", \"85,000\"]}, {\"marker\": {\"color\": \"rgba(8,104,172, 1)\"}, \"name\": \"Government Salary\", \"type\": \"bar\", \"x\": [\"All fields\", \"Life sciences\", \"Physical sciences and earth sciences\", \"Mathematics and computer sciences\", \"Psychology and social sciences\", \"Engineering\", \"Education\", \"Humanities and arts\", \"Other\"], \"y\": [\"80,800\", \"72,000\", \"71,600\", \"101,000\", \"77,500\", \"94,500\", \"79,000\", \"67,000\", \"88,000\"]}, {\"marker\": {\"color\": \"rgba(123,204,196, 1)\"}, \"name\": \"Nonprofit Salary\", \"type\": \"bar\", \"x\": [\"All fields\", \"Life sciences\", \"Physical sciences and earth sciences\", \"Mathematics and computer sciences\", \"Psychology and social sciences\", \"Engineering\", \"Education\", \"Humanities and arts\", \"Other\"], \"y\": [\"79,000\", \"83,000\", \"85,000\", \"120,000\", \"75,000\", \"100,000\", \"75,000\", \"50,000\", \"78,500\"]}, {\"marker\": {\"color\": \"rgba(67,162,202, 1)\"}, \"name\": \"Other Salary\", \"type\": \"bar\", \"x\": [\"All fields\", \"Life sciences\", \"Physical sciences and earth sciences\", \"Mathematics and computer sciences\", \"Psychology and social sciences\", \"Engineering\", \"Education\", \"Humanities and arts\", \"Other\"], \"y\": [\"70,000\", \"60,000\", \"48,025\", \"65,500\", \"65,000\", \"85,000\", \"75,000\", \"53,750\", \"81,000\"]}],                        {\"paper_bgcolor\": \"rgb(250, 255, 255)\", \"template\": {\"data\": {\"bar\": [{\"error_x\": {\"color\": \"#2a3f5f\"}, \"error_y\": {\"color\": \"#2a3f5f\"}, \"marker\": {\"line\": {\"color\": \"#E5ECF6\", \"width\": 0.5}}, \"type\": \"bar\"}], \"barpolar\": [{\"marker\": {\"line\": {\"color\": \"#E5ECF6\", \"width\": 0.5}}, \"type\": \"barpolar\"}], \"carpet\": [{\"aaxis\": {\"endlinecolor\": \"#2a3f5f\", \"gridcolor\": \"white\", \"linecolor\": \"white\", \"minorgridcolor\": \"white\", \"startlinecolor\": \"#2a3f5f\"}, \"baxis\": {\"endlinecolor\": \"#2a3f5f\", \"gridcolor\": \"white\", \"linecolor\": \"white\", \"minorgridcolor\": \"white\", \"startlinecolor\": \"#2a3f5f\"}, \"type\": \"carpet\"}], \"choropleth\": [{\"colorbar\": {\"outlinewidth\": 0, \"ticks\": \"\"}, \"type\": \"choropleth\"}], \"contour\": [{\"colorbar\": {\"outlinewidth\": 0, \"ticks\": \"\"}, \"colorscale\": [[0.0, \"#0d0887\"], [0.1111111111111111, \"#46039f\"], [0.2222222222222222, \"#7201a8\"], [0.3333333333333333, \"#9c179e\"], [0.4444444444444444, \"#bd3786\"], [0.5555555555555556, \"#d8576b\"], [0.6666666666666666, \"#ed7953\"], [0.7777777777777778, \"#fb9f3a\"], [0.8888888888888888, \"#fdca26\"], [1.0, \"#f0f921\"]], \"type\": \"contour\"}], \"contourcarpet\": [{\"colorbar\": {\"outlinewidth\": 0, \"ticks\": \"\"}, \"type\": \"contourcarpet\"}], \"heatmap\": [{\"colorbar\": {\"outlinewidth\": 0, \"ticks\": \"\"}, \"colorscale\": [[0.0, \"#0d0887\"], [0.1111111111111111, \"#46039f\"], [0.2222222222222222, \"#7201a8\"], [0.3333333333333333, \"#9c179e\"], [0.4444444444444444, \"#bd3786\"], [0.5555555555555556, \"#d8576b\"], [0.6666666666666666, \"#ed7953\"], [0.7777777777777778, \"#fb9f3a\"], [0.8888888888888888, \"#fdca26\"], [1.0, \"#f0f921\"]], \"type\": \"heatmap\"}], \"heatmapgl\": [{\"colorbar\": {\"outlinewidth\": 0, \"ticks\": \"\"}, \"colorscale\": [[0.0, \"#0d0887\"], [0.1111111111111111, \"#46039f\"], [0.2222222222222222, \"#7201a8\"], [0.3333333333333333, \"#9c179e\"], [0.4444444444444444, \"#bd3786\"], [0.5555555555555556, \"#d8576b\"], [0.6666666666666666, \"#ed7953\"], [0.7777777777777778, \"#fb9f3a\"], [0.8888888888888888, \"#fdca26\"], [1.0, \"#f0f921\"]], \"type\": \"heatmapgl\"}], \"histogram\": [{\"marker\": {\"colorbar\": {\"outlinewidth\": 0, \"ticks\": \"\"}}, \"type\": \"histogram\"}], \"histogram2d\": [{\"colorbar\": {\"outlinewidth\": 0, \"ticks\": \"\"}, \"colorscale\": [[0.0, \"#0d0887\"], [0.1111111111111111, \"#46039f\"], [0.2222222222222222, \"#7201a8\"], [0.3333333333333333, \"#9c179e\"], [0.4444444444444444, \"#bd3786\"], [0.5555555555555556, \"#d8576b\"], [0.6666666666666666, \"#ed7953\"], [0.7777777777777778, \"#fb9f3a\"], [0.8888888888888888, \"#fdca26\"], [1.0, \"#f0f921\"]], \"type\": \"histogram2d\"}], \"histogram2dcontour\": [{\"colorbar\": {\"outlinewidth\": 0, \"ticks\": \"\"}, \"colorscale\": [[0.0, \"#0d0887\"], [0.1111111111111111, \"#46039f\"], [0.2222222222222222, \"#7201a8\"], [0.3333333333333333, \"#9c179e\"], [0.4444444444444444, \"#bd3786\"], [0.5555555555555556, \"#d8576b\"], [0.6666666666666666, \"#ed7953\"], [0.7777777777777778, \"#fb9f3a\"], [0.8888888888888888, \"#fdca26\"], [1.0, \"#f0f921\"]], \"type\": \"histogram2dcontour\"}], \"mesh3d\": [{\"colorbar\": {\"outlinewidth\": 0, \"ticks\": \"\"}, \"type\": \"mesh3d\"}], \"parcoords\": [{\"line\": {\"colorbar\": {\"outlinewidth\": 0, \"ticks\": \"\"}}, \"type\": \"parcoords\"}], \"pie\": [{\"automargin\": true, \"type\": \"pie\"}], \"scatter\": [{\"marker\": {\"colorbar\": {\"outlinewidth\": 0, \"ticks\": \"\"}}, \"type\": \"scatter\"}], \"scatter3d\": [{\"line\": {\"colorbar\": {\"outlinewidth\": 0, \"ticks\": \"\"}}, \"marker\": {\"colorbar\": {\"outlinewidth\": 0, \"ticks\": \"\"}}, \"type\": \"scatter3d\"}], \"scattercarpet\": [{\"marker\": {\"colorbar\": {\"outlinewidth\": 0, \"ticks\": \"\"}}, \"type\": \"scattercarpet\"}], \"scattergeo\": [{\"marker\": {\"colorbar\": {\"outlinewidth\": 0, \"ticks\": \"\"}}, \"type\": \"scattergeo\"}], \"scattergl\": [{\"marker\": {\"colorbar\": {\"outlinewidth\": 0, \"ticks\": \"\"}}, \"type\": \"scattergl\"}], \"scattermapbox\": [{\"marker\": {\"colorbar\": {\"outlinewidth\": 0, \"ticks\": \"\"}}, \"type\": \"scattermapbox\"}], \"scatterpolar\": [{\"marker\": {\"colorbar\": {\"outlinewidth\": 0, \"ticks\": \"\"}}, \"type\": \"scatterpolar\"}], \"scatterpolargl\": [{\"marker\": {\"colorbar\": {\"outlinewidth\": 0, \"ticks\": \"\"}}, \"type\": \"scatterpolargl\"}], \"scatterternary\": [{\"marker\": {\"colorbar\": {\"outlinewidth\": 0, \"ticks\": \"\"}}, \"type\": \"scatterternary\"}], \"surface\": [{\"colorbar\": {\"outlinewidth\": 0, \"ticks\": \"\"}, \"colorscale\": [[0.0, \"#0d0887\"], [0.1111111111111111, \"#46039f\"], [0.2222222222222222, \"#7201a8\"], [0.3333333333333333, \"#9c179e\"], [0.4444444444444444, \"#bd3786\"], [0.5555555555555556, \"#d8576b\"], [0.6666666666666666, \"#ed7953\"], [0.7777777777777778, \"#fb9f3a\"], [0.8888888888888888, \"#fdca26\"], [1.0, \"#f0f921\"]], \"type\": \"surface\"}], \"table\": [{\"cells\": {\"fill\": {\"color\": \"#EBF0F8\"}, \"line\": {\"color\": \"white\"}}, \"header\": {\"fill\": {\"color\": \"#C8D4E3\"}, \"line\": {\"color\": \"white\"}}, \"type\": \"table\"}]}, \"layout\": {\"annotationdefaults\": {\"arrowcolor\": \"#2a3f5f\", \"arrowhead\": 0, \"arrowwidth\": 1}, \"coloraxis\": {\"colorbar\": {\"outlinewidth\": 0, \"ticks\": \"\"}}, \"colorscale\": {\"diverging\": [[0, \"#8e0152\"], [0.1, \"#c51b7d\"], [0.2, \"#de77ae\"], [0.3, \"#f1b6da\"], [0.4, \"#fde0ef\"], [0.5, \"#f7f7f7\"], [0.6, \"#e6f5d0\"], [0.7, \"#b8e186\"], [0.8, \"#7fbc41\"], [0.9, \"#4d9221\"], [1, \"#276419\"]], \"sequential\": [[0.0, \"#0d0887\"], [0.1111111111111111, \"#46039f\"], [0.2222222222222222, \"#7201a8\"], [0.3333333333333333, \"#9c179e\"], [0.4444444444444444, \"#bd3786\"], [0.5555555555555556, \"#d8576b\"], [0.6666666666666666, \"#ed7953\"], [0.7777777777777778, \"#fb9f3a\"], [0.8888888888888888, \"#fdca26\"], [1.0, \"#f0f921\"]], \"sequentialminus\": [[0.0, \"#0d0887\"], [0.1111111111111111, \"#46039f\"], [0.2222222222222222, \"#7201a8\"], [0.3333333333333333, \"#9c179e\"], [0.4444444444444444, \"#bd3786\"], [0.5555555555555556, \"#d8576b\"], [0.6666666666666666, \"#ed7953\"], [0.7777777777777778, \"#fb9f3a\"], [0.8888888888888888, \"#fdca26\"], [1.0, \"#f0f921\"]]}, \"colorway\": [\"#636efa\", \"#EF553B\", \"#00cc96\", \"#ab63fa\", \"#FFA15A\", \"#19d3f3\", \"#FF6692\", \"#B6E880\", \"#FF97FF\", \"#FECB52\"], \"font\": {\"color\": \"#2a3f5f\"}, \"geo\": {\"bgcolor\": \"white\", \"lakecolor\": \"white\", \"landcolor\": \"#E5ECF6\", \"showlakes\": true, \"showland\": true, \"subunitcolor\": \"white\"}, \"hoverlabel\": {\"align\": \"left\"}, \"hovermode\": \"closest\", \"mapbox\": {\"style\": \"light\"}, \"paper_bgcolor\": \"white\", \"plot_bgcolor\": \"#E5ECF6\", \"polar\": {\"angularaxis\": {\"gridcolor\": \"white\", \"linecolor\": \"white\", \"ticks\": \"\"}, \"bgcolor\": \"#E5ECF6\", \"radialaxis\": {\"gridcolor\": \"white\", \"linecolor\": \"white\", \"ticks\": \"\"}}, \"scene\": {\"xaxis\": {\"backgroundcolor\": \"#E5ECF6\", \"gridcolor\": \"white\", \"gridwidth\": 2, \"linecolor\": \"white\", \"showbackground\": true, \"ticks\": \"\", \"zerolinecolor\": \"white\"}, \"yaxis\": {\"backgroundcolor\": \"#E5ECF6\", \"gridcolor\": \"white\", \"gridwidth\": 2, \"linecolor\": \"white\", \"showbackground\": true, \"ticks\": \"\", \"zerolinecolor\": \"white\"}, \"zaxis\": {\"backgroundcolor\": \"#E5ECF6\", \"gridcolor\": \"white\", \"gridwidth\": 2, \"linecolor\": \"white\", \"showbackground\": true, \"ticks\": \"\", \"zerolinecolor\": \"white\"}}, \"shapedefaults\": {\"line\": {\"color\": \"#2a3f5f\"}}, \"ternary\": {\"aaxis\": {\"gridcolor\": \"white\", \"linecolor\": \"white\", \"ticks\": \"\"}, \"baxis\": {\"gridcolor\": \"white\", \"linecolor\": \"white\", \"ticks\": \"\"}, \"bgcolor\": \"#E5ECF6\", \"caxis\": {\"gridcolor\": \"white\", \"linecolor\": \"white\", \"ticks\": \"\"}}, \"title\": {\"x\": 0.05}, \"xaxis\": {\"automargin\": true, \"gridcolor\": \"white\", \"linecolor\": \"white\", \"ticks\": \"\", \"title\": {\"standoff\": 15}, \"zerolinecolor\": \"white\", \"zerolinewidth\": 2}, \"yaxis\": {\"automargin\": true, \"gridcolor\": \"white\", \"linecolor\": \"white\", \"ticks\": \"\", \"title\": {\"standoff\": 15}, \"zerolinecolor\": \"white\", \"zerolinewidth\": 2}}}, \"title\": {\"text\": \"Salaries by Field of Study and Sector\", \"x\": 0.5}, \"updatemenus\": [{\"active\": 0, \"buttons\": [{\"args\": [{\"visible\": [true, true, true, true, true]}, {\"title\": \"All Salaries\"}], \"label\": \"All\", \"method\": \"update\"}, {\"args\": [{\"visible\": [true, false, false, false, false]}, {\"title\": \"Academic Salary\"}], \"label\": \"Academic\", \"method\": \"update\"}, {\"args\": [{\"visible\": [false, true, false, false, false]}, {\"title\": \"Industry Salary\"}], \"label\": \"Industry\", \"method\": \"update\"}, {\"args\": [{\"visible\": [false, false, true, false, false]}, {\"title\": \"Government Salary\"}], \"label\": \"Government\", \"method\": \"update\"}, {\"args\": [{\"visible\": [false, false, false, true, false]}, {\"title\": \"Nonprofit Salary\"}], \"label\": \"Nonprofit\", \"method\": \"update\"}, {\"args\": [{\"visible\": [false, false, false, false, true]}, {\"title\": \"Other Salary\"}], \"label\": \"Other\", \"method\": \"update\"}], \"x\": 0, \"y\": 1.3}], \"xaxis\": {\"title\": {\"text\": \"Field of Study\"}}, \"yaxis\": {\"title\": {\"text\": \"Median Salary (USD)\"}}},                        {\"responsive\": true}                    ).then(function(){\n",
       "                            \n",
       "var gd = document.getElementById('ae0c88c7-5744-4116-b354-2e488b80d30e');\n",
       "var x = new MutationObserver(function (mutations, observer) {{\n",
       "        var display = window.getComputedStyle(gd).display;\n",
       "        if (!display || display === 'none') {{\n",
       "            console.log([gd, 'removed!']);\n",
       "            Plotly.purge(gd);\n",
       "            observer.disconnect();\n",
       "        }}\n",
       "}});\n",
       "\n",
       "// Listen for the removal of the full notebook cells\n",
       "var notebookContainer = gd.closest('#notebook-container');\n",
       "if (notebookContainer) {{\n",
       "    x.observe(notebookContainer, {childList: true});\n",
       "}}\n",
       "\n",
       "// Listen for the clearing of the current output cell\n",
       "var outputEl = gd.closest('.output');\n",
       "if (outputEl) {{\n",
       "    x.observe(outputEl, {childList: true});\n",
       "}}\n",
       "\n",
       "                        })                };                });            </script>        </div>"
      ]
     },
     "metadata": {},
     "output_type": "display_data"
    }
   ],
   "source": [
    "# Subset data by Year\n",
    "\n",
    "salary = go.Figure()\n",
    "\n",
    "#Create a trace for each year of interest\n",
    "#Academic Salary\n",
    "salary.add_trace(\n",
    "    go.Bar(x=list(table['Field']),\n",
    "               y=list(table['Academic Salary']),\n",
    "               name=\"Academic Salary\",\n",
    "               marker_color = colors[0]))\n",
    "#Industry Salary\n",
    "salary.add_trace(\n",
    "    go.Bar(x=list(table['Field']),\n",
    "               y=list(table['Industry Salary']),\n",
    "               name=\"Industry Salary\", \n",
    "          marker_color = colors[1]))\n",
    "#Government Salary\n",
    "salary.add_trace(\n",
    "    go.Bar(x=list(table['Field']),\n",
    "               y=list(table['Government Salary']),\n",
    "               name=\"Government Salary\",\n",
    "           marker_color = colors[5]))\n",
    "#Nonprofit Salary\n",
    "salary.add_trace(\n",
    "    go.Bar(x=list(table['Field']),\n",
    "               y=list(table['Nonprofit Salary']),\n",
    "               name=\"Nonprofit Salary\",\n",
    "          marker_color = colors[3]))\n",
    "#Other Salary\n",
    "salary.add_trace(\n",
    "    go.Bar(x=list(table['Field']),\n",
    "               y=list(table['Other Salary']),\n",
    "               name=\"Other Salary\",\n",
    "          marker_color = colors[4]))\n",
    "#add buttons\n",
    "\n",
    "salary.update_layout(\n",
    "    updatemenus=[\n",
    "        dict(\n",
    "            active=0,\n",
    "            x = 0,\n",
    "            y = 1.3,\n",
    "            buttons=list([\n",
    "                dict(label=\"All\",\n",
    "                     method=\"update\",\n",
    "                     args=[{\"visible\": [True, True, True, True, True]},\n",
    "                           {\"title\": \"All Salaries\"}]),\n",
    "                dict(label=\"Academic\",\n",
    "                     method=\"update\",\n",
    "                     args=[{\"visible\": [True, False, False, False, False]},\n",
    "                           {\"title\": \"Academic Salary\"}]),\n",
    "                dict(label=\"Industry\",\n",
    "                     method=\"update\",\n",
    "                     args=[{\"visible\": [False, True, False, False, False]},\n",
    "                           {\"title\": \"Industry Salary\"}]),\n",
    "                dict(label=\"Government\",\n",
    "                     method=\"update\",\n",
    "                     args=[{\"visible\": [False, False, True, False, False]},\n",
    "                           {\"title\": \"Government Salary\"}]),\n",
    "                dict(label=\"Nonprofit\",\n",
    "                     method=\"update\",\n",
    "                     args=[{\"visible\": [False, False, False, True, False]},\n",
    "                           {\"title\": \"Nonprofit Salary\"}]),\n",
    "                dict(label=\"Other\",\n",
    "                     method=\"update\",\n",
    "                     args=[{\"visible\": [False, False, False, False, True]},\n",
    "                           {\"title\": \"Other Salary\"}]),\n",
    "            ]),\n",
    "        )\n",
    "    ])\n",
    "\n",
    "# Set title\n",
    "salary.update_layout(title_text=\"Salaries by Field of Study and Sector\", \n",
    "                  title_x = .50,\n",
    "                  yaxis_title=\"Median Salary (USD)\",\n",
    "                  xaxis_title=\"Field of Study\", \n",
    "                  paper_bgcolor='rgb(250, 255, 255)')\n",
    "\n",
    "salary.show()"
   ]
  },
  {
   "cell_type": "code",
   "execution_count": 30,
   "metadata": {},
   "outputs": [
    {
     "data": {
      "text/plain": [
       "'https://plotly.com/~joekrinke15/7/'"
      ]
     },
     "execution_count": 30,
     "metadata": {},
     "output_type": "execute_result"
    }
   ],
   "source": [
    "py.plot(salary, 'Salaries by Field of Study and Sector')"
   ]
  },
  {
   "cell_type": "code",
   "execution_count": 12,
   "metadata": {},
   "outputs": [],
   "source": [
    "# Sankey diagram\n",
    "new_colors = [colors[4],colors[2]]\n",
    "# Helper function to transform regular data to sankey format\n",
    "# Returns data and layout as dictionary\n",
    "def genSankey(df,cat_cols=[],value_cols='',title='Sankey Diagram', colors = new_colors):\n",
    "    colorPalette = new_colors\n",
    "    labelList = []\n",
    "    colorNumList = []\n",
    "    for catCol in cat_cols:\n",
    "        labelListTemp =  list(set(df[catCol].values))\n",
    "        colorNumList.append(len(labelListTemp))\n",
    "        labelList = labelList + labelListTemp\n",
    "        \n",
    "    # remove duplicates from labelList\n",
    "    labelList = list(dict.fromkeys(labelList))\n",
    "    \n",
    "        # define colors based on number of levels\n",
    "    colorList = []\n",
    "    for idx, colorNum in enumerate(colorNumList):\n",
    "        colorList = colorList + [colorPalette[idx]]*colorNum\n",
    "        \n",
    "    # transform df into a source-target pair\n",
    "    for i in range(len(cat_cols)-1):\n",
    "        if i==0:\n",
    "            sourceTargetDf = df[[cat_cols[i],cat_cols[i+1],value_cols]]\n",
    "            sourceTargetDf.columns = ['source','target','count']\n",
    "        else:\n",
    "            tempDf = df[[cat_cols[i],cat_cols[i+1],value_cols]]\n",
    "            tempDf.columns = ['source','target','count']\n",
    "            sourceTargetDf = pd.concat([sourceTargetDf,tempDf])\n",
    "        sourceTargetDf = sourceTargetDf.groupby(['source','target']).agg({'count':'sum'}).reset_index()\n",
    "        \n",
    "    # add index for source-target pair\n",
    "    sourceTargetDf['sourceID'] = sourceTargetDf['source'].apply(lambda x: labelList.index(x))\n",
    "    sourceTargetDf['targetID'] = sourceTargetDf['target'].apply(lambda x: labelList.index(x))\n",
    "    \n",
    "        # creating the sankey diagram\n",
    "    data = dict(\n",
    "        type='sankey',\n",
    "        node = dict(\n",
    "          pad = 15,\n",
    "          thickness = 20,\n",
    "          line = dict(\n",
    "            color = \"black\",\n",
    "            width = 0.5\n",
    "          ),\n",
    "          label = labelList,\n",
    "          color = colorList\n",
    "        ),\n",
    "        link = dict(\n",
    "          source = sourceTargetDf['sourceID'],\n",
    "          target = sourceTargetDf['targetID'],\n",
    "          value = sourceTargetDf['count']\n",
    "        )\n",
    "      )\n",
    "    \n",
    "    layout =  dict(\n",
    "        title = {'text':title, 'x': .50},\n",
    "        font = dict(\n",
    "          size = 10\n",
    "        )\n",
    "    )\n",
    "       \n",
    "    fig = dict(data=[data], layout=layout)\n",
    "    return fig"
   ]
  },
  {
   "cell_type": "code",
   "execution_count": 13,
   "metadata": {},
   "outputs": [
    {
     "data": {
      "application/vnd.plotly.v1+json": {
       "config": {
        "plotlyServerURL": "https://plotly.com"
       },
       "data": [
        {
         "link": {
          "source": [
           0,
           0,
           0,
           0,
           0
          ],
          "target": [
           5,
           3,
           1,
           4,
           2
          ],
          "value": [
           1276,
           317,
           1054,
           294,
           54
          ]
         },
         "node": {
          "color": [
           "rgba(67,162,202, 1)",
           "rgba(168,221,181, 1)",
           "rgba(168,221,181, 1)",
           "rgba(168,221,181, 1)",
           "rgba(168,221,181, 1)",
           "rgba(168,221,181, 1)"
          ],
          "label": [
           "Life sciences",
           "Industry",
           "Other",
           "Government",
           "Nonprofit",
           "Academic"
          ],
          "line": {
           "color": "black",
           "width": 0.5
          },
          "pad": 15,
          "thickness": 20
         },
         "type": "sankey"
        }
       ],
       "layout": {
        "autosize": true,
        "font": {
         "size": 10
        },
        "template": {
         "data": {
          "bar": [
           {
            "error_x": {
             "color": "#2a3f5f"
            },
            "error_y": {
             "color": "#2a3f5f"
            },
            "marker": {
             "line": {
              "color": "#E5ECF6",
              "width": 0.5
             }
            },
            "type": "bar"
           }
          ],
          "barpolar": [
           {
            "marker": {
             "line": {
              "color": "#E5ECF6",
              "width": 0.5
             }
            },
            "type": "barpolar"
           }
          ],
          "carpet": [
           {
            "aaxis": {
             "endlinecolor": "#2a3f5f",
             "gridcolor": "white",
             "linecolor": "white",
             "minorgridcolor": "white",
             "startlinecolor": "#2a3f5f"
            },
            "baxis": {
             "endlinecolor": "#2a3f5f",
             "gridcolor": "white",
             "linecolor": "white",
             "minorgridcolor": "white",
             "startlinecolor": "#2a3f5f"
            },
            "type": "carpet"
           }
          ],
          "choropleth": [
           {
            "colorbar": {
             "outlinewidth": 0,
             "ticks": ""
            },
            "type": "choropleth"
           }
          ],
          "contour": [
           {
            "colorbar": {
             "outlinewidth": 0,
             "ticks": ""
            },
            "colorscale": [
             [
              0,
              "#0d0887"
             ],
             [
              0.1111111111111111,
              "#46039f"
             ],
             [
              0.2222222222222222,
              "#7201a8"
             ],
             [
              0.3333333333333333,
              "#9c179e"
             ],
             [
              0.4444444444444444,
              "#bd3786"
             ],
             [
              0.5555555555555556,
              "#d8576b"
             ],
             [
              0.6666666666666666,
              "#ed7953"
             ],
             [
              0.7777777777777778,
              "#fb9f3a"
             ],
             [
              0.8888888888888888,
              "#fdca26"
             ],
             [
              1,
              "#f0f921"
             ]
            ],
            "type": "contour"
           }
          ],
          "contourcarpet": [
           {
            "colorbar": {
             "outlinewidth": 0,
             "ticks": ""
            },
            "type": "contourcarpet"
           }
          ],
          "heatmap": [
           {
            "colorbar": {
             "outlinewidth": 0,
             "ticks": ""
            },
            "colorscale": [
             [
              0,
              "#0d0887"
             ],
             [
              0.1111111111111111,
              "#46039f"
             ],
             [
              0.2222222222222222,
              "#7201a8"
             ],
             [
              0.3333333333333333,
              "#9c179e"
             ],
             [
              0.4444444444444444,
              "#bd3786"
             ],
             [
              0.5555555555555556,
              "#d8576b"
             ],
             [
              0.6666666666666666,
              "#ed7953"
             ],
             [
              0.7777777777777778,
              "#fb9f3a"
             ],
             [
              0.8888888888888888,
              "#fdca26"
             ],
             [
              1,
              "#f0f921"
             ]
            ],
            "type": "heatmap"
           }
          ],
          "heatmapgl": [
           {
            "colorbar": {
             "outlinewidth": 0,
             "ticks": ""
            },
            "colorscale": [
             [
              0,
              "#0d0887"
             ],
             [
              0.1111111111111111,
              "#46039f"
             ],
             [
              0.2222222222222222,
              "#7201a8"
             ],
             [
              0.3333333333333333,
              "#9c179e"
             ],
             [
              0.4444444444444444,
              "#bd3786"
             ],
             [
              0.5555555555555556,
              "#d8576b"
             ],
             [
              0.6666666666666666,
              "#ed7953"
             ],
             [
              0.7777777777777778,
              "#fb9f3a"
             ],
             [
              0.8888888888888888,
              "#fdca26"
             ],
             [
              1,
              "#f0f921"
             ]
            ],
            "type": "heatmapgl"
           }
          ],
          "histogram": [
           {
            "marker": {
             "colorbar": {
              "outlinewidth": 0,
              "ticks": ""
             }
            },
            "type": "histogram"
           }
          ],
          "histogram2d": [
           {
            "colorbar": {
             "outlinewidth": 0,
             "ticks": ""
            },
            "colorscale": [
             [
              0,
              "#0d0887"
             ],
             [
              0.1111111111111111,
              "#46039f"
             ],
             [
              0.2222222222222222,
              "#7201a8"
             ],
             [
              0.3333333333333333,
              "#9c179e"
             ],
             [
              0.4444444444444444,
              "#bd3786"
             ],
             [
              0.5555555555555556,
              "#d8576b"
             ],
             [
              0.6666666666666666,
              "#ed7953"
             ],
             [
              0.7777777777777778,
              "#fb9f3a"
             ],
             [
              0.8888888888888888,
              "#fdca26"
             ],
             [
              1,
              "#f0f921"
             ]
            ],
            "type": "histogram2d"
           }
          ],
          "histogram2dcontour": [
           {
            "colorbar": {
             "outlinewidth": 0,
             "ticks": ""
            },
            "colorscale": [
             [
              0,
              "#0d0887"
             ],
             [
              0.1111111111111111,
              "#46039f"
             ],
             [
              0.2222222222222222,
              "#7201a8"
             ],
             [
              0.3333333333333333,
              "#9c179e"
             ],
             [
              0.4444444444444444,
              "#bd3786"
             ],
             [
              0.5555555555555556,
              "#d8576b"
             ],
             [
              0.6666666666666666,
              "#ed7953"
             ],
             [
              0.7777777777777778,
              "#fb9f3a"
             ],
             [
              0.8888888888888888,
              "#fdca26"
             ],
             [
              1,
              "#f0f921"
             ]
            ],
            "type": "histogram2dcontour"
           }
          ],
          "mesh3d": [
           {
            "colorbar": {
             "outlinewidth": 0,
             "ticks": ""
            },
            "type": "mesh3d"
           }
          ],
          "parcoords": [
           {
            "line": {
             "colorbar": {
              "outlinewidth": 0,
              "ticks": ""
             }
            },
            "type": "parcoords"
           }
          ],
          "pie": [
           {
            "automargin": true,
            "type": "pie"
           }
          ],
          "scatter": [
           {
            "marker": {
             "colorbar": {
              "outlinewidth": 0,
              "ticks": ""
             }
            },
            "type": "scatter"
           }
          ],
          "scatter3d": [
           {
            "line": {
             "colorbar": {
              "outlinewidth": 0,
              "ticks": ""
             }
            },
            "marker": {
             "colorbar": {
              "outlinewidth": 0,
              "ticks": ""
             }
            },
            "type": "scatter3d"
           }
          ],
          "scattercarpet": [
           {
            "marker": {
             "colorbar": {
              "outlinewidth": 0,
              "ticks": ""
             }
            },
            "type": "scattercarpet"
           }
          ],
          "scattergeo": [
           {
            "marker": {
             "colorbar": {
              "outlinewidth": 0,
              "ticks": ""
             }
            },
            "type": "scattergeo"
           }
          ],
          "scattergl": [
           {
            "marker": {
             "colorbar": {
              "outlinewidth": 0,
              "ticks": ""
             }
            },
            "type": "scattergl"
           }
          ],
          "scattermapbox": [
           {
            "marker": {
             "colorbar": {
              "outlinewidth": 0,
              "ticks": ""
             }
            },
            "type": "scattermapbox"
           }
          ],
          "scatterpolar": [
           {
            "marker": {
             "colorbar": {
              "outlinewidth": 0,
              "ticks": ""
             }
            },
            "type": "scatterpolar"
           }
          ],
          "scatterpolargl": [
           {
            "marker": {
             "colorbar": {
              "outlinewidth": 0,
              "ticks": ""
             }
            },
            "type": "scatterpolargl"
           }
          ],
          "scatterternary": [
           {
            "marker": {
             "colorbar": {
              "outlinewidth": 0,
              "ticks": ""
             }
            },
            "type": "scatterternary"
           }
          ],
          "surface": [
           {
            "colorbar": {
             "outlinewidth": 0,
             "ticks": ""
            },
            "colorscale": [
             [
              0,
              "#0d0887"
             ],
             [
              0.1111111111111111,
              "#46039f"
             ],
             [
              0.2222222222222222,
              "#7201a8"
             ],
             [
              0.3333333333333333,
              "#9c179e"
             ],
             [
              0.4444444444444444,
              "#bd3786"
             ],
             [
              0.5555555555555556,
              "#d8576b"
             ],
             [
              0.6666666666666666,
              "#ed7953"
             ],
             [
              0.7777777777777778,
              "#fb9f3a"
             ],
             [
              0.8888888888888888,
              "#fdca26"
             ],
             [
              1,
              "#f0f921"
             ]
            ],
            "type": "surface"
           }
          ],
          "table": [
           {
            "cells": {
             "fill": {
              "color": "#EBF0F8"
             },
             "line": {
              "color": "white"
             }
            },
            "header": {
             "fill": {
              "color": "#C8D4E3"
             },
             "line": {
              "color": "white"
             }
            },
            "type": "table"
           }
          ]
         },
         "layout": {
          "annotationdefaults": {
           "arrowcolor": "#2a3f5f",
           "arrowhead": 0,
           "arrowwidth": 1
          },
          "coloraxis": {
           "colorbar": {
            "outlinewidth": 0,
            "ticks": ""
           }
          },
          "colorscale": {
           "diverging": [
            [
             0,
             "#8e0152"
            ],
            [
             0.1,
             "#c51b7d"
            ],
            [
             0.2,
             "#de77ae"
            ],
            [
             0.3,
             "#f1b6da"
            ],
            [
             0.4,
             "#fde0ef"
            ],
            [
             0.5,
             "#f7f7f7"
            ],
            [
             0.6,
             "#e6f5d0"
            ],
            [
             0.7,
             "#b8e186"
            ],
            [
             0.8,
             "#7fbc41"
            ],
            [
             0.9,
             "#4d9221"
            ],
            [
             1,
             "#276419"
            ]
           ],
           "sequential": [
            [
             0,
             "#0d0887"
            ],
            [
             0.1111111111111111,
             "#46039f"
            ],
            [
             0.2222222222222222,
             "#7201a8"
            ],
            [
             0.3333333333333333,
             "#9c179e"
            ],
            [
             0.4444444444444444,
             "#bd3786"
            ],
            [
             0.5555555555555556,
             "#d8576b"
            ],
            [
             0.6666666666666666,
             "#ed7953"
            ],
            [
             0.7777777777777778,
             "#fb9f3a"
            ],
            [
             0.8888888888888888,
             "#fdca26"
            ],
            [
             1,
             "#f0f921"
            ]
           ],
           "sequentialminus": [
            [
             0,
             "#0d0887"
            ],
            [
             0.1111111111111111,
             "#46039f"
            ],
            [
             0.2222222222222222,
             "#7201a8"
            ],
            [
             0.3333333333333333,
             "#9c179e"
            ],
            [
             0.4444444444444444,
             "#bd3786"
            ],
            [
             0.5555555555555556,
             "#d8576b"
            ],
            [
             0.6666666666666666,
             "#ed7953"
            ],
            [
             0.7777777777777778,
             "#fb9f3a"
            ],
            [
             0.8888888888888888,
             "#fdca26"
            ],
            [
             1,
             "#f0f921"
            ]
           ]
          },
          "colorway": [
           "#636efa",
           "#EF553B",
           "#00cc96",
           "#ab63fa",
           "#FFA15A",
           "#19d3f3",
           "#FF6692",
           "#B6E880",
           "#FF97FF",
           "#FECB52"
          ],
          "font": {
           "color": "#2a3f5f"
          },
          "geo": {
           "bgcolor": "white",
           "lakecolor": "white",
           "landcolor": "#E5ECF6",
           "showlakes": true,
           "showland": true,
           "subunitcolor": "white"
          },
          "hoverlabel": {
           "align": "left"
          },
          "hovermode": "closest",
          "mapbox": {
           "style": "light"
          },
          "paper_bgcolor": "white",
          "plot_bgcolor": "#E5ECF6",
          "polar": {
           "angularaxis": {
            "gridcolor": "white",
            "linecolor": "white",
            "ticks": ""
           },
           "bgcolor": "#E5ECF6",
           "radialaxis": {
            "gridcolor": "white",
            "linecolor": "white",
            "ticks": ""
           }
          },
          "scene": {
           "xaxis": {
            "backgroundcolor": "#E5ECF6",
            "gridcolor": "white",
            "gridwidth": 2,
            "linecolor": "white",
            "showbackground": true,
            "ticks": "",
            "zerolinecolor": "white"
           },
           "yaxis": {
            "backgroundcolor": "#E5ECF6",
            "gridcolor": "white",
            "gridwidth": 2,
            "linecolor": "white",
            "showbackground": true,
            "ticks": "",
            "zerolinecolor": "white"
           },
           "zaxis": {
            "backgroundcolor": "#E5ECF6",
            "gridcolor": "white",
            "gridwidth": 2,
            "linecolor": "white",
            "showbackground": true,
            "ticks": "",
            "zerolinecolor": "white"
           }
          },
          "shapedefaults": {
           "line": {
            "color": "#2a3f5f"
           }
          },
          "ternary": {
           "aaxis": {
            "gridcolor": "white",
            "linecolor": "white",
            "ticks": ""
           },
           "baxis": {
            "gridcolor": "white",
            "linecolor": "white",
            "ticks": ""
           },
           "bgcolor": "#E5ECF6",
           "caxis": {
            "gridcolor": "white",
            "linecolor": "white",
            "ticks": ""
           }
          },
          "title": {
           "x": 0.05
          },
          "xaxis": {
           "automargin": true,
           "gridcolor": "white",
           "linecolor": "white",
           "ticks": "",
           "title": {
            "standoff": 15
           },
           "zerolinecolor": "white",
           "zerolinewidth": 2
          },
          "yaxis": {
           "automargin": true,
           "gridcolor": "white",
           "linecolor": "white",
           "ticks": "",
           "title": {
            "standoff": 15
           },
           "zerolinecolor": "white",
           "zerolinewidth": 2
          }
         }
        },
        "title": {
         "text": "Career Outcomes: Life sciences",
         "x": 0.5
        },
        "updatemenus": [
         {
          "active": 2,
          "buttons": [
           {
            "args": [
             {
              "data": [
               {
                "link": {
                 "source": [
                  0,
                  0,
                  0,
                  0,
                  0
                 ],
                 "target": [
                  5,
                  3,
                  1,
                  4,
                  2
                 ],
                 "value": [
                  600,
                  312,
                  2453,
                  119,
                  25
                 ]
                },
                "node": {
                 "color": [
                  "rgba(67,162,202, 1)",
                  "rgba(168,221,181, 1)",
                  "rgba(168,221,181, 1)",
                  "rgba(168,221,181, 1)",
                  "rgba(168,221,181, 1)",
                  "rgba(168,221,181, 1)"
                 ],
                 "label": [
                  "Engineering",
                  "Industry",
                  "Other",
                  "Government",
                  "Nonprofit",
                  "Academic"
                 ],
                 "line": {
                  "color": "black",
                  "width": 0.5
                 },
                 "pad": 15,
                 "thickness": 20
                },
                "type": "sankey"
               }
              ],
              "layout": {
               "font": {
                "size": 10
               },
               "title": {
                "text": "Career Outcomes: Engineering",
                "x": 0.5
               }
              }
             }
            ],
            "label": "Engineering",
            "method": "animate"
           },
           {
            "args": [
             {
              "data": [
               {
                "link": {
                 "source": [
                  0,
                  0,
                  0,
                  0,
                  0
                 ],
                 "target": [
                  5,
                  3,
                  1,
                  4,
                  2
                 ],
                 "value": [
                  385,
                  133,
                  894,
                  54,
                  30
                 ]
                },
                "node": {
                 "color": [
                  "rgba(67,162,202, 1)",
                  "rgba(168,221,181, 1)",
                  "rgba(168,221,181, 1)",
                  "rgba(168,221,181, 1)",
                  "rgba(168,221,181, 1)",
                  "rgba(168,221,181, 1)"
                 ],
                 "label": [
                  "Physical sciences and earth sciences",
                  "Industry",
                  "Other",
                  "Government",
                  "Nonprofit",
                  "Academic"
                 ],
                 "line": {
                  "color": "black",
                  "width": 0.5
                 },
                 "pad": 15,
                 "thickness": 20
                },
                "type": "sankey"
               }
              ],
              "layout": {
               "font": {
                "size": 10
               },
               "title": {
                "text": "Career Outcomes: Physical sciences and earth sciences",
                "x": 0.5
               }
              }
             }
            ],
            "label": "Physical Sciences and Earth Science",
            "method": "animate"
           },
           {
            "args": [
             {
              "data": [
               {
                "link": {
                 "source": [
                  0,
                  0,
                  0,
                  0,
                  0
                 ],
                 "target": [
                  5,
                  3,
                  1,
                  4,
                  2
                 ],
                 "value": [
                  1276,
                  317,
                  1054,
                  294,
                  54
                 ]
                },
                "node": {
                 "color": [
                  "rgba(67,162,202, 1)",
                  "rgba(168,221,181, 1)",
                  "rgba(168,221,181, 1)",
                  "rgba(168,221,181, 1)",
                  "rgba(168,221,181, 1)",
                  "rgba(168,221,181, 1)"
                 ],
                 "label": [
                  "Life sciences",
                  "Industry",
                  "Other",
                  "Government",
                  "Nonprofit",
                  "Academic"
                 ],
                 "line": {
                  "color": "black",
                  "width": 0.5
                 },
                 "pad": 15,
                 "thickness": 20
                },
                "type": "sankey"
               }
              ],
              "layout": {
               "font": {
                "size": 10
               },
               "title": {
                "text": "Career Outcomes: Life sciences",
                "x": 0.5
               }
              }
             }
            ],
            "label": "Life sciences",
            "method": "animate"
           },
           {
            "args": [
             {
              "data": [
               {
                "link": {
                 "source": [
                  0,
                  0,
                  0,
                  0,
                  0
                 ],
                 "target": [
                  5,
                  3,
                  1,
                  4,
                  2
                 ],
                 "value": [
                  2027,
                  414,
                  629,
                  289,
                  118
                 ]
                },
                "node": {
                 "color": [
                  "rgba(67,162,202, 1)",
                  "rgba(168,221,181, 1)",
                  "rgba(168,221,181, 1)",
                  "rgba(168,221,181, 1)",
                  "rgba(168,221,181, 1)",
                  "rgba(168,221,181, 1)"
                 ],
                 "label": [
                  "Psychology and social sciences",
                  "Industry",
                  "Other",
                  "Government",
                  "Nonprofit",
                  "Academic"
                 ],
                 "line": {
                  "color": "black",
                  "width": 0.5
                 },
                 "pad": 15,
                 "thickness": 20
                },
                "type": "sankey"
               }
              ],
              "layout": {
               "font": {
                "size": 10
               },
               "title": {
                "text": "Career Outcomes: Psychology and social sciences",
                "x": 0.5
               }
              }
             }
            ],
            "label": "Psychology and Social Sciences",
            "method": "animate"
           },
           {
            "args": [
             {
              "data": [
               {
                "link": {
                 "source": [
                  0,
                  0,
                  0,
                  0,
                  0
                 ],
                 "target": [
                  5,
                  3,
                  1,
                  4,
                  2
                 ],
                 "value": [
                  1404,
                  89,
                  171,
                  65,
                  19
                 ]
                },
                "node": {
                 "color": [
                  "rgba(67,162,202, 1)",
                  "rgba(168,221,181, 1)",
                  "rgba(168,221,181, 1)",
                  "rgba(168,221,181, 1)",
                  "rgba(168,221,181, 1)",
                  "rgba(168,221,181, 1)"
                 ],
                 "label": [
                  "Other Field",
                  "Industry",
                  "Other",
                  "Government",
                  "Nonprofit",
                  "Academic"
                 ],
                 "line": {
                  "color": "black",
                  "width": 0.5
                 },
                 "pad": 15,
                 "thickness": 20
                },
                "type": "sankey"
               }
              ],
              "layout": {
               "font": {
                "size": 10
               },
               "title": {
                "text": "Career Outcomes: Other Field",
                "x": 0.5
               }
              }
             }
            ],
            "label": "Other",
            "method": "animate"
           },
           {
            "args": [
             {
              "data": [
               {
                "link": {
                 "source": [
                  0,
                  0,
                  0,
                  0,
                  0
                 ],
                 "target": [
                  5,
                  3,
                  1,
                  4,
                  2
                 ],
                 "value": [
                  1590,
                  56,
                  122,
                  191,
                  114
                 ]
                },
                "node": {
                 "color": [
                  "rgba(67,162,202, 1)",
                  "rgba(168,221,181, 1)",
                  "rgba(168,221,181, 1)",
                  "rgba(168,221,181, 1)",
                  "rgba(168,221,181, 1)",
                  "rgba(168,221,181, 1)"
                 ],
                 "label": [
                  "Humanities and arts",
                  "Industry",
                  "Other",
                  "Government",
                  "Nonprofit",
                  "Academic"
                 ],
                 "line": {
                  "color": "black",
                  "width": 0.5
                 },
                 "pad": 15,
                 "thickness": 20
                },
                "type": "sankey"
               }
              ],
              "layout": {
               "font": {
                "size": 10
               },
               "title": {
                "text": "Career Outcomes: Humanities and arts",
                "x": 0.5
               }
              }
             }
            ],
            "label": "Humanities and Arts",
            "method": "animate"
           },
           {
            "args": [
             {
              "data": [
               {
                "link": {
                 "source": [
                  0,
                  0,
                  0,
                  0,
                  0
                 ],
                 "target": [
                  5,
                  3,
                  1,
                  4,
                  2
                 ],
                 "value": [
                  1613,
                  107,
                  139,
                  157,
                  602
                 ]
                },
                "node": {
                 "color": [
                  "rgba(67,162,202, 1)",
                  "rgba(168,221,181, 1)",
                  "rgba(168,221,181, 1)",
                  "rgba(168,221,181, 1)",
                  "rgba(168,221,181, 1)",
                  "rgba(168,221,181, 1)"
                 ],
                 "label": [
                  "Education",
                  "Industry",
                  "Other",
                  "Government",
                  "Nonprofit",
                  "Academic"
                 ],
                 "line": {
                  "color": "black",
                  "width": 0.5
                 },
                 "pad": 15,
                 "thickness": 20
                },
                "type": "sankey"
               }
              ],
              "layout": {
               "font": {
                "size": 10
               },
               "title": {
                "text": "Career Outcomes: Education",
                "x": 0.5
               }
              }
             }
            ],
            "label": "Education",
            "method": "animate"
           },
           {
            "args": [
             {
              "data": [
               {
                "link": {
                 "source": [
                  0,
                  0,
                  0,
                  0,
                  0
                 ],
                 "target": [
                  5,
                  3,
                  1,
                  4,
                  2
                 ],
                 "value": [
                  571,
                  74,
                  996,
                  53,
                  21
                 ]
                },
                "node": {
                 "color": [
                  "rgba(67,162,202, 1)",
                  "rgba(168,221,181, 1)",
                  "rgba(168,221,181, 1)",
                  "rgba(168,221,181, 1)",
                  "rgba(168,221,181, 1)",
                  "rgba(168,221,181, 1)"
                 ],
                 "label": [
                  "Mathematics and computer sciences",
                  "Industry",
                  "Other",
                  "Government",
                  "Nonprofit",
                  "Academic"
                 ],
                 "line": {
                  "color": "black",
                  "width": 0.5
                 },
                 "pad": 15,
                 "thickness": 20
                },
                "type": "sankey"
               }
              ],
              "layout": {
               "font": {
                "size": 10
               },
               "title": {
                "text": "Career Outcomes: Mathematics and computer sciences",
                "x": 0.5
               }
              }
             }
            ],
            "label": "Mathematics and Computer Sciences",
            "method": "animate"
           }
          ]
         }
        ]
       }
      },
      "image/png": "[encoded data removed]",
      "text/html": [
       "<div>                            <div id=\"f58a10fa-673f-458b-a341-a8f577cb9842\" class=\"plotly-graph-div\" style=\"height:525px; width:100%;\"></div>            <script type=\"text/javascript\">                require([\"plotly\"], function(Plotly) {                    window.PLOTLYENV=window.PLOTLYENV || {};                                    if (document.getElementById(\"f58a10fa-673f-458b-a341-a8f577cb9842\")) {                    Plotly.newPlot(                        \"f58a10fa-673f-458b-a341-a8f577cb9842\",                        [{\"link\": {\"source\": [0, 0, 0, 0, 0], \"target\": [5, 3, 1, 4, 2], \"value\": [600, 312, 2453, 119, 25]}, \"node\": {\"color\": [\"rgba(67,162,202, 1)\", \"rgba(168,221,181, 1)\", \"rgba(168,221,181, 1)\", \"rgba(168,221,181, 1)\", \"rgba(168,221,181, 1)\", \"rgba(168,221,181, 1)\"], \"label\": [\"Engineering\", \"Industry\", \"Other\", \"Government\", \"Nonprofit\", \"Academic\"], \"line\": {\"color\": \"black\", \"width\": 0.5}, \"pad\": 15, \"thickness\": 20}, \"type\": \"sankey\"}],                        {\"font\": {\"size\": 10}, \"template\": {\"data\": {\"bar\": [{\"error_x\": {\"color\": \"#2a3f5f\"}, \"error_y\": {\"color\": \"#2a3f5f\"}, \"marker\": {\"line\": {\"color\": \"#E5ECF6\", \"width\": 0.5}}, \"type\": \"bar\"}], \"barpolar\": [{\"marker\": {\"line\": {\"color\": \"#E5ECF6\", \"width\": 0.5}}, \"type\": \"barpolar\"}], \"carpet\": [{\"aaxis\": {\"endlinecolor\": \"#2a3f5f\", \"gridcolor\": \"white\", \"linecolor\": \"white\", \"minorgridcolor\": \"white\", \"startlinecolor\": \"#2a3f5f\"}, \"baxis\": {\"endlinecolor\": \"#2a3f5f\", \"gridcolor\": \"white\", \"linecolor\": \"white\", \"minorgridcolor\": \"white\", \"startlinecolor\": \"#2a3f5f\"}, \"type\": \"carpet\"}], \"choropleth\": [{\"colorbar\": {\"outlinewidth\": 0, \"ticks\": \"\"}, \"type\": \"choropleth\"}], \"contour\": [{\"colorbar\": {\"outlinewidth\": 0, \"ticks\": \"\"}, \"colorscale\": [[0.0, \"#0d0887\"], [0.1111111111111111, \"#46039f\"], [0.2222222222222222, \"#7201a8\"], [0.3333333333333333, \"#9c179e\"], [0.4444444444444444, \"#bd3786\"], [0.5555555555555556, \"#d8576b\"], [0.6666666666666666, \"#ed7953\"], [0.7777777777777778, \"#fb9f3a\"], [0.8888888888888888, \"#fdca26\"], [1.0, \"#f0f921\"]], \"type\": \"contour\"}], \"contourcarpet\": [{\"colorbar\": {\"outlinewidth\": 0, \"ticks\": \"\"}, \"type\": \"contourcarpet\"}], \"heatmap\": [{\"colorbar\": {\"outlinewidth\": 0, \"ticks\": \"\"}, \"colorscale\": [[0.0, \"#0d0887\"], [0.1111111111111111, \"#46039f\"], [0.2222222222222222, \"#7201a8\"], [0.3333333333333333, \"#9c179e\"], [0.4444444444444444, \"#bd3786\"], [0.5555555555555556, \"#d8576b\"], [0.6666666666666666, \"#ed7953\"], [0.7777777777777778, \"#fb9f3a\"], [0.8888888888888888, \"#fdca26\"], [1.0, \"#f0f921\"]], \"type\": \"heatmap\"}], \"heatmapgl\": [{\"colorbar\": {\"outlinewidth\": 0, \"ticks\": \"\"}, \"colorscale\": [[0.0, \"#0d0887\"], [0.1111111111111111, \"#46039f\"], [0.2222222222222222, \"#7201a8\"], [0.3333333333333333, \"#9c179e\"], [0.4444444444444444, \"#bd3786\"], [0.5555555555555556, \"#d8576b\"], [0.6666666666666666, \"#ed7953\"], [0.7777777777777778, \"#fb9f3a\"], [0.8888888888888888, \"#fdca26\"], [1.0, \"#f0f921\"]], \"type\": \"heatmapgl\"}], \"histogram\": [{\"marker\": {\"colorbar\": {\"outlinewidth\": 0, \"ticks\": \"\"}}, \"type\": \"histogram\"}], \"histogram2d\": [{\"colorbar\": {\"outlinewidth\": 0, \"ticks\": \"\"}, \"colorscale\": [[0.0, \"#0d0887\"], [0.1111111111111111, \"#46039f\"], [0.2222222222222222, \"#7201a8\"], [0.3333333333333333, \"#9c179e\"], [0.4444444444444444, \"#bd3786\"], [0.5555555555555556, \"#d8576b\"], [0.6666666666666666, \"#ed7953\"], [0.7777777777777778, \"#fb9f3a\"], [0.8888888888888888, \"#fdca26\"], [1.0, \"#f0f921\"]], \"type\": \"histogram2d\"}], \"histogram2dcontour\": [{\"colorbar\": {\"outlinewidth\": 0, \"ticks\": \"\"}, \"colorscale\": [[0.0, \"#0d0887\"], [0.1111111111111111, \"#46039f\"], [0.2222222222222222, \"#7201a8\"], [0.3333333333333333, \"#9c179e\"], [0.4444444444444444, \"#bd3786\"], [0.5555555555555556, \"#d8576b\"], [0.6666666666666666, \"#ed7953\"], [0.7777777777777778, \"#fb9f3a\"], [0.8888888888888888, \"#fdca26\"], [1.0, \"#f0f921\"]], \"type\": \"histogram2dcontour\"}], \"mesh3d\": [{\"colorbar\": {\"outlinewidth\": 0, \"ticks\": \"\"}, \"type\": \"mesh3d\"}], \"parcoords\": [{\"line\": {\"colorbar\": {\"outlinewidth\": 0, \"ticks\": \"\"}}, \"type\": \"parcoords\"}], \"pie\": [{\"automargin\": true, \"type\": \"pie\"}], \"scatter\": [{\"marker\": {\"colorbar\": {\"outlinewidth\": 0, \"ticks\": \"\"}}, \"type\": \"scatter\"}], \"scatter3d\": [{\"line\": {\"colorbar\": {\"outlinewidth\": 0, \"ticks\": \"\"}}, \"marker\": {\"colorbar\": {\"outlinewidth\": 0, \"ticks\": \"\"}}, \"type\": \"scatter3d\"}], \"scattercarpet\": [{\"marker\": {\"colorbar\": {\"outlinewidth\": 0, \"ticks\": \"\"}}, \"type\": \"scattercarpet\"}], \"scattergeo\": [{\"marker\": {\"colorbar\": {\"outlinewidth\": 0, \"ticks\": \"\"}}, \"type\": \"scattergeo\"}], \"scattergl\": [{\"marker\": {\"colorbar\": {\"outlinewidth\": 0, \"ticks\": \"\"}}, \"type\": \"scattergl\"}], \"scattermapbox\": [{\"marker\": {\"colorbar\": {\"outlinewidth\": 0, \"ticks\": \"\"}}, \"type\": \"scattermapbox\"}], \"scatterpolar\": [{\"marker\": {\"colorbar\": {\"outlinewidth\": 0, \"ticks\": \"\"}}, \"type\": \"scatterpolar\"}], \"scatterpolargl\": [{\"marker\": {\"colorbar\": {\"outlinewidth\": 0, \"ticks\": \"\"}}, \"type\": \"scatterpolargl\"}], \"scatterternary\": [{\"marker\": {\"colorbar\": {\"outlinewidth\": 0, \"ticks\": \"\"}}, \"type\": \"scatterternary\"}], \"surface\": [{\"colorbar\": {\"outlinewidth\": 0, \"ticks\": \"\"}, \"colorscale\": [[0.0, \"#0d0887\"], [0.1111111111111111, \"#46039f\"], [0.2222222222222222, \"#7201a8\"], [0.3333333333333333, \"#9c179e\"], [0.4444444444444444, \"#bd3786\"], [0.5555555555555556, \"#d8576b\"], [0.6666666666666666, \"#ed7953\"], [0.7777777777777778, \"#fb9f3a\"], [0.8888888888888888, \"#fdca26\"], [1.0, \"#f0f921\"]], \"type\": \"surface\"}], \"table\": [{\"cells\": {\"fill\": {\"color\": \"#EBF0F8\"}, \"line\": {\"color\": \"white\"}}, \"header\": {\"fill\": {\"color\": \"#C8D4E3\"}, \"line\": {\"color\": \"white\"}}, \"type\": \"table\"}]}, \"layout\": {\"annotationdefaults\": {\"arrowcolor\": \"#2a3f5f\", \"arrowhead\": 0, \"arrowwidth\": 1}, \"coloraxis\": {\"colorbar\": {\"outlinewidth\": 0, \"ticks\": \"\"}}, \"colorscale\": {\"diverging\": [[0, \"#8e0152\"], [0.1, \"#c51b7d\"], [0.2, \"#de77ae\"], [0.3, \"#f1b6da\"], [0.4, \"#fde0ef\"], [0.5, \"#f7f7f7\"], [0.6, \"#e6f5d0\"], [0.7, \"#b8e186\"], [0.8, \"#7fbc41\"], [0.9, \"#4d9221\"], [1, \"#276419\"]], \"sequential\": [[0.0, \"#0d0887\"], [0.1111111111111111, \"#46039f\"], [0.2222222222222222, \"#7201a8\"], [0.3333333333333333, \"#9c179e\"], [0.4444444444444444, \"#bd3786\"], [0.5555555555555556, \"#d8576b\"], [0.6666666666666666, \"#ed7953\"], [0.7777777777777778, \"#fb9f3a\"], [0.8888888888888888, \"#fdca26\"], [1.0, \"#f0f921\"]], \"sequentialminus\": [[0.0, \"#0d0887\"], [0.1111111111111111, \"#46039f\"], [0.2222222222222222, \"#7201a8\"], [0.3333333333333333, \"#9c179e\"], [0.4444444444444444, \"#bd3786\"], [0.5555555555555556, \"#d8576b\"], [0.6666666666666666, \"#ed7953\"], [0.7777777777777778, \"#fb9f3a\"], [0.8888888888888888, \"#fdca26\"], [1.0, \"#f0f921\"]]}, \"colorway\": [\"#636efa\", \"#EF553B\", \"#00cc96\", \"#ab63fa\", \"#FFA15A\", \"#19d3f3\", \"#FF6692\", \"#B6E880\", \"#FF97FF\", \"#FECB52\"], \"font\": {\"color\": \"#2a3f5f\"}, \"geo\": {\"bgcolor\": \"white\", \"lakecolor\": \"white\", \"landcolor\": \"#E5ECF6\", \"showlakes\": true, \"showland\": true, \"subunitcolor\": \"white\"}, \"hoverlabel\": {\"align\": \"left\"}, \"hovermode\": \"closest\", \"mapbox\": {\"style\": \"light\"}, \"paper_bgcolor\": \"white\", \"plot_bgcolor\": \"#E5ECF6\", \"polar\": {\"angularaxis\": {\"gridcolor\": \"white\", \"linecolor\": \"white\", \"ticks\": \"\"}, \"bgcolor\": \"#E5ECF6\", \"radialaxis\": {\"gridcolor\": \"white\", \"linecolor\": \"white\", \"ticks\": \"\"}}, \"scene\": {\"xaxis\": {\"backgroundcolor\": \"#E5ECF6\", \"gridcolor\": \"white\", \"gridwidth\": 2, \"linecolor\": \"white\", \"showbackground\": true, \"ticks\": \"\", \"zerolinecolor\": \"white\"}, \"yaxis\": {\"backgroundcolor\": \"#E5ECF6\", \"gridcolor\": \"white\", \"gridwidth\": 2, \"linecolor\": \"white\", \"showbackground\": true, \"ticks\": \"\", \"zerolinecolor\": \"white\"}, \"zaxis\": {\"backgroundcolor\": \"#E5ECF6\", \"gridcolor\": \"white\", \"gridwidth\": 2, \"linecolor\": \"white\", \"showbackground\": true, \"ticks\": \"\", \"zerolinecolor\": \"white\"}}, \"shapedefaults\": {\"line\": {\"color\": \"#2a3f5f\"}}, \"ternary\": {\"aaxis\": {\"gridcolor\": \"white\", \"linecolor\": \"white\", \"ticks\": \"\"}, \"baxis\": {\"gridcolor\": \"white\", \"linecolor\": \"white\", \"ticks\": \"\"}, \"bgcolor\": \"#E5ECF6\", \"caxis\": {\"gridcolor\": \"white\", \"linecolor\": \"white\", \"ticks\": \"\"}}, \"title\": {\"x\": 0.05}, \"xaxis\": {\"automargin\": true, \"gridcolor\": \"white\", \"linecolor\": \"white\", \"ticks\": \"\", \"title\": {\"standoff\": 15}, \"zerolinecolor\": \"white\", \"zerolinewidth\": 2}, \"yaxis\": {\"automargin\": true, \"gridcolor\": \"white\", \"linecolor\": \"white\", \"ticks\": \"\", \"title\": {\"standoff\": 15}, \"zerolinecolor\": \"white\", \"zerolinewidth\": 2}}}, \"title\": {\"text\": \"Career Outcomes: Engineering\", \"x\": 0.5}, \"updatemenus\": [{\"buttons\": [{\"args\": [{\"data\": [{\"link\": {\"source\": [0, 0, 0, 0, 0], \"target\": [5, 3, 1, 4, 2], \"value\": [600, 312, 2453, 119, 25]}, \"node\": {\"color\": [\"rgba(67,162,202, 1)\", \"rgba(168,221,181, 1)\", \"rgba(168,221,181, 1)\", \"rgba(168,221,181, 1)\", \"rgba(168,221,181, 1)\", \"rgba(168,221,181, 1)\"], \"label\": [\"Engineering\", \"Industry\", \"Other\", \"Government\", \"Nonprofit\", \"Academic\"], \"line\": {\"color\": \"black\", \"width\": 0.5}, \"pad\": 15, \"thickness\": 20}, \"type\": \"sankey\"}], \"layout\": {\"font\": {\"size\": 10}, \"title\": {\"text\": \"Career Outcomes: Engineering\", \"x\": 0.5}}}], \"label\": \"Engineering\", \"method\": \"animate\"}, {\"args\": [{\"data\": [{\"link\": {\"source\": [0, 0, 0, 0, 0], \"target\": [5, 3, 1, 4, 2], \"value\": [385, 133, 894, 54, 30]}, \"node\": {\"color\": [\"rgba(67,162,202, 1)\", \"rgba(168,221,181, 1)\", \"rgba(168,221,181, 1)\", \"rgba(168,221,181, 1)\", \"rgba(168,221,181, 1)\", \"rgba(168,221,181, 1)\"], \"label\": [\"Physical sciences and earth sciences\", \"Industry\", \"Other\", \"Government\", \"Nonprofit\", \"Academic\"], \"line\": {\"color\": \"black\", \"width\": 0.5}, \"pad\": 15, \"thickness\": 20}, \"type\": \"sankey\"}], \"layout\": {\"font\": {\"size\": 10}, \"title\": {\"text\": \"Career Outcomes: Physical sciences and earth sciences\", \"x\": 0.5}}}], \"label\": \"Physical Sciences and Earth Science\", \"method\": \"animate\"}, {\"args\": [{\"data\": [{\"link\": {\"source\": [0, 0, 0, 0, 0], \"target\": [5, 3, 1, 4, 2], \"value\": [1276, 317, 1054, 294, 54]}, \"node\": {\"color\": [\"rgba(67,162,202, 1)\", \"rgba(168,221,181, 1)\", \"rgba(168,221,181, 1)\", \"rgba(168,221,181, 1)\", \"rgba(168,221,181, 1)\", \"rgba(168,221,181, 1)\"], \"label\": [\"Life sciences\", \"Industry\", \"Other\", \"Government\", \"Nonprofit\", \"Academic\"], \"line\": {\"color\": \"black\", \"width\": 0.5}, \"pad\": 15, \"thickness\": 20}, \"type\": \"sankey\"}], \"layout\": {\"font\": {\"size\": 10}, \"title\": {\"text\": \"Career Outcomes: Life sciences\", \"x\": 0.5}}}], \"label\": \"Life sciences\", \"method\": \"animate\"}, {\"args\": [{\"data\": [{\"link\": {\"source\": [0, 0, 0, 0, 0], \"target\": [5, 3, 1, 4, 2], \"value\": [2027, 414, 629, 289, 118]}, \"node\": {\"color\": [\"rgba(67,162,202, 1)\", \"rgba(168,221,181, 1)\", \"rgba(168,221,181, 1)\", \"rgba(168,221,181, 1)\", \"rgba(168,221,181, 1)\", \"rgba(168,221,181, 1)\"], \"label\": [\"Psychology and social sciences\", \"Industry\", \"Other\", \"Government\", \"Nonprofit\", \"Academic\"], \"line\": {\"color\": \"black\", \"width\": 0.5}, \"pad\": 15, \"thickness\": 20}, \"type\": \"sankey\"}], \"layout\": {\"font\": {\"size\": 10}, \"title\": {\"text\": \"Career Outcomes: Psychology and social sciences\", \"x\": 0.5}}}], \"label\": \"Psychology and Social Sciences\", \"method\": \"animate\"}, {\"args\": [{\"data\": [{\"link\": {\"source\": [0, 0, 0, 0, 0], \"target\": [5, 3, 1, 4, 2], \"value\": [1404, 89, 171, 65, 19]}, \"node\": {\"color\": [\"rgba(67,162,202, 1)\", \"rgba(168,221,181, 1)\", \"rgba(168,221,181, 1)\", \"rgba(168,221,181, 1)\", \"rgba(168,221,181, 1)\", \"rgba(168,221,181, 1)\"], \"label\": [\"Other Field\", \"Industry\", \"Other\", \"Government\", \"Nonprofit\", \"Academic\"], \"line\": {\"color\": \"black\", \"width\": 0.5}, \"pad\": 15, \"thickness\": 20}, \"type\": \"sankey\"}], \"layout\": {\"font\": {\"size\": 10}, \"title\": {\"text\": \"Career Outcomes: Other Field\", \"x\": 0.5}}}], \"label\": \"Other\", \"method\": \"animate\"}, {\"args\": [{\"data\": [{\"link\": {\"source\": [0, 0, 0, 0, 0], \"target\": [5, 3, 1, 4, 2], \"value\": [1590, 56, 122, 191, 114]}, \"node\": {\"color\": [\"rgba(67,162,202, 1)\", \"rgba(168,221,181, 1)\", \"rgba(168,221,181, 1)\", \"rgba(168,221,181, 1)\", \"rgba(168,221,181, 1)\", \"rgba(168,221,181, 1)\"], \"label\": [\"Humanities and arts\", \"Industry\", \"Other\", \"Government\", \"Nonprofit\", \"Academic\"], \"line\": {\"color\": \"black\", \"width\": 0.5}, \"pad\": 15, \"thickness\": 20}, \"type\": \"sankey\"}], \"layout\": {\"font\": {\"size\": 10}, \"title\": {\"text\": \"Career Outcomes: Humanities and arts\", \"x\": 0.5}}}], \"label\": \"Humanities and Arts\", \"method\": \"animate\"}, {\"args\": [{\"data\": [{\"link\": {\"source\": [0, 0, 0, 0, 0], \"target\": [5, 3, 1, 4, 2], \"value\": [1613, 107, 139, 157, 602]}, \"node\": {\"color\": [\"rgba(67,162,202, 1)\", \"rgba(168,221,181, 1)\", \"rgba(168,221,181, 1)\", \"rgba(168,221,181, 1)\", \"rgba(168,221,181, 1)\", \"rgba(168,221,181, 1)\"], \"label\": [\"Education\", \"Industry\", \"Other\", \"Government\", \"Nonprofit\", \"Academic\"], \"line\": {\"color\": \"black\", \"width\": 0.5}, \"pad\": 15, \"thickness\": 20}, \"type\": \"sankey\"}], \"layout\": {\"font\": {\"size\": 10}, \"title\": {\"text\": \"Career Outcomes: Education\", \"x\": 0.5}}}], \"label\": \"Education\", \"method\": \"animate\"}, {\"args\": [{\"data\": [{\"link\": {\"source\": [0, 0, 0, 0, 0], \"target\": [5, 3, 1, 4, 2], \"value\": [571, 74, 996, 53, 21]}, \"node\": {\"color\": [\"rgba(67,162,202, 1)\", \"rgba(168,221,181, 1)\", \"rgba(168,221,181, 1)\", \"rgba(168,221,181, 1)\", \"rgba(168,221,181, 1)\", \"rgba(168,221,181, 1)\"], \"label\": [\"Mathematics and computer sciences\", \"Industry\", \"Other\", \"Government\", \"Nonprofit\", \"Academic\"], \"line\": {\"color\": \"black\", \"width\": 0.5}, \"pad\": 15, \"thickness\": 20}, \"type\": \"sankey\"}], \"layout\": {\"font\": {\"size\": 10}, \"title\": {\"text\": \"Career Outcomes: Mathematics and computer sciences\", \"x\": 0.5}}}], \"label\": \"Mathematics and Computer Sciences\", \"method\": \"animate\"}]}]},                        {\"responsive\": true}                    ).then(function(){\n",
       "                            \n",
       "var gd = document.getElementById('f58a10fa-673f-458b-a341-a8f577cb9842');\n",
       "var x = new MutationObserver(function (mutations, observer) {{\n",
       "        var display = window.getComputedStyle(gd).display;\n",
       "        if (!display || display === 'none') {{\n",
       "            console.log([gd, 'removed!']);\n",
       "            Plotly.purge(gd);\n",
       "            observer.disconnect();\n",
       "        }}\n",
       "}});\n",
       "\n",
       "// Listen for the removal of the full notebook cells\n",
       "var notebookContainer = gd.closest('#notebook-container');\n",
       "if (notebookContainer) {{\n",
       "    x.observe(notebookContainer, {childList: true});\n",
       "}}\n",
       "\n",
       "// Listen for the clearing of the current output cell\n",
       "var outputEl = gd.closest('.output');\n",
       "if (outputEl) {{\n",
       "    x.observe(outputEl, {childList: true});\n",
       "}}\n",
       "\n",
       "                        })                };                });            </script>        </div>"
      ]
     },
     "metadata": {},
     "output_type": "display_data"
    }
   ],
   "source": [
    "# Generating DFs for different filter options\n",
    "\n",
    "def subset_sankey(df, field):\n",
    "    subset = genSankey(df[df['Field']== field],cat_cols=['Field','Sector'],value_cols='Number',title='Career Outcomes: ' + field)\n",
    "    return(subset)\n",
    "engineering = subset_sankey(sankey, 'Engineering')\n",
    "physical = subset_sankey(sankey, 'Physical sciences and earth sciences')\n",
    "mathematics = subset_sankey(sankey, 'Mathematics and computer sciences')\n",
    "life = subset_sankey(sankey, 'Life sciences')\n",
    "psychology = subset_sankey(sankey, 'Psychology and social sciences')\n",
    "other = subset_sankey(sankey, 'Other Field')\n",
    "humanities =  subset_sankey(sankey, 'Humanities and arts')\n",
    "education =  subset_sankey(sankey, 'Education')\n",
    "\n",
    "# Constructing menus\n",
    "\n",
    "updatemenus = [{'buttons' : [{'method': 'animate',\n",
    "                             'label': 'Engineering',\n",
    "                             'args': [engineering]},\n",
    "                            {'method': 'animate',\n",
    "                             'label': 'Physical Sciences and Earth Science',\n",
    "                             'args': [physical]\n",
    "                             },\n",
    "                            {'method': 'animate',\n",
    "                             'label': 'Life sciences',\n",
    "                             'args': [life]\n",
    "                             },\n",
    "                            {'method': 'animate',\n",
    "                             'label': 'Psychology and Social Sciences',\n",
    "                             'args': [psychology]\n",
    "                             },\n",
    "                            {'method': 'animate',\n",
    "                             'label': 'Other',\n",
    "                             'args': [other]\n",
    "                             },\n",
    "                            {'method': 'animate',\n",
    "                             'label': 'Humanities and Arts',\n",
    "                             'args': [humanities]\n",
    "                             },\n",
    "                            {'method': 'animate',\n",
    "                             'label': 'Education',\n",
    "                             'args': [education]\n",
    "                             },\n",
    "                            {'method': 'animate',\n",
    "                             'label': 'Mathematics and Computer Sciences',\n",
    "                             'args': [mathematics]\n",
    "                             },  \n",
    "                            ],  }]\n",
    "\n",
    "# update layout with buttons, and show the figure\n",
    "sank = subset_sankey(sankey, 'Engineering')\n",
    "fig = go.Figure(sank)\n",
    "fig.update_layout(updatemenus=updatemenus)"
   ]
  },
  {
   "cell_type": "code",
   "execution_count": 31,
   "metadata": {},
   "outputs": [
    {
     "data": {
      "text/plain": [
       "'https://plotly.com/~joekrinke15/10/'"
      ]
     },
     "execution_count": 31,
     "metadata": {},
     "output_type": "execute_result"
    }
   ],
   "source": [
    "py.plot(fig, title = 'Career Outcomes')"
   ]
  },
  {
   "cell_type": "code",
   "execution_count": null,
   "metadata": {},
   "outputs": [],
   "source": []
  }
 ],
 "metadata": {
  "kernelspec": {
   "display_name": "Python 3",
   "language": "python",
   "name": "python3"
  },
  "language_info": {
   "codemirror_mode": {
    "name": "ipython",
    "version": 3
   },
   "file_extension": ".py",
   "mimetype": "text/x-python",
   "name": "python",
   "nbconvert_exporter": "python",
   "pygments_lexer": "ipython3",
   "version": "3.8.3"
  }
 },
 "nbformat": 4,
 "nbformat_minor": 4
}
