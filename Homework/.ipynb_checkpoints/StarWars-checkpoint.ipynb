{
 "cells": [
  {
   "cell_type": "markdown",
   "metadata": {},
   "source": [
    "# Using the Star Wars API\n",
    "\n",
    "This notebook will be using the Star Wars API (SWAPI) to learn more about some of the classic characters from Star Wars. I'll be using the requests package to access the data."
   ]
  },
  {
   "cell_type": "code",
   "execution_count": 3,
   "metadata": {},
   "outputs": [],
   "source": [
    "import re\n",
    "import requests\n",
    "import math"
   ]
  },
  {
   "cell_type": "markdown",
   "metadata": {},
   "source": [
    "Make a request to get the data from the API and get the data in JSON form."
   ]
  },
  {
   "cell_type": "code",
   "execution_count": 4,
   "metadata": {},
   "outputs": [],
   "source": [
    "r = requests.get('https://swapi.dev/api/people/')"
   ]
  },
  {
   "cell_type": "code",
   "execution_count": 5,
   "metadata": {},
   "outputs": [],
   "source": [
    "characters = r.json()"
   ]
  },
  {
   "cell_type": "markdown",
   "metadata": {},
   "source": [
    "Take a look at the structure of the data overall."
   ]
  },
  {
   "cell_type": "code",
   "execution_count": 6,
   "metadata": {},
   "outputs": [
    {
     "data": {
      "text/plain": [
       "{'name': 'Luke Skywalker',\n",
       " 'height': '172',\n",
       " 'mass': '77',\n",
       " 'hair_color': 'blond',\n",
       " 'skin_color': 'fair',\n",
       " 'eye_color': 'blue',\n",
       " 'birth_year': '19BBY',\n",
       " 'gender': 'male',\n",
       " 'homeworld': 'http://swapi.dev/api/planets/1/',\n",
       " 'films': ['http://swapi.dev/api/films/1/',\n",
       "  'http://swapi.dev/api/films/2/',\n",
       "  'http://swapi.dev/api/films/3/',\n",
       "  'http://swapi.dev/api/films/6/'],\n",
       " 'species': [],\n",
       " 'vehicles': ['http://swapi.dev/api/vehicles/14/',\n",
       "  'http://swapi.dev/api/vehicles/30/'],\n",
       " 'starships': ['http://swapi.dev/api/starships/12/',\n",
       "  'http://swapi.dev/api/starships/22/'],\n",
       " 'created': '2014-12-09T13:50:51.644000Z',\n",
       " 'edited': '2014-12-20T21:17:56.891000Z',\n",
       " 'url': 'http://swapi.dev/api/people/1/'}"
      ]
     },
     "execution_count": 6,
     "metadata": {},
     "output_type": "execute_result"
    }
   ],
   "source": [
    "characters['results'][0]"
   ]
  },
  {
   "cell_type": "markdown",
   "metadata": {},
   "source": [
    "Interestingly enough, the API only provides us with 10 characters worth of information. Each time we call requests.get() we only get information from the current page we are looking at. Luckily, we can use 'next' to move on to the next page of data. You can see below that passing in next takes us to page 2."
   ]
  },
  {
   "cell_type": "code",
   "execution_count": 7,
   "metadata": {},
   "outputs": [
    {
     "data": {
      "text/plain": [
       "'http://swapi.dev/api/people/?page=2'"
      ]
     },
     "execution_count": 7,
     "metadata": {},
     "output_type": "execute_result"
    }
   ],
   "source": [
    "characters['next']"
   ]
  },
  {
   "cell_type": "markdown",
   "metadata": {},
   "source": [
    "We can use the next feature in a while loop to continually get more data as long as the next page exists. We can append the data to a list in order to store it all."
   ]
  },
  {
   "cell_type": "code",
   "execution_count": 8,
   "metadata": {},
   "outputs": [
    {
     "name": "stdout",
     "output_type": "stream",
     "text": [
      "Downloading http://swapi.dev/api/people/?page=2\n",
      "Downloading http://swapi.dev/api/people/?page=3\n",
      "Downloading http://swapi.dev/api/people/?page=4\n",
      "Downloading http://swapi.dev/api/people/?page=5\n",
      "Downloading http://swapi.dev/api/people/?page=6\n",
      "Downloading http://swapi.dev/api/people/?page=7\n",
      "Downloading http://swapi.dev/api/people/?page=8\n",
      "Downloading http://swapi.dev/api/people/?page=9\n"
     ]
    }
   ],
   "source": [
    "# Create an initial request\n",
    "r2 = requests.get(\"https://swapi.dev/api/people/\")\n",
    "people2 = r2.json()\n",
    "# Create list to hold data\n",
    "all_results = []\n",
    "# Get first page of results\n",
    "all_results = all_results + people2['results']\n",
    "# While data['next'] isn't empty, let's download the next page, too\n",
    "while people2['next'] is not None:\n",
    "    print(\"Downloading\", people2['next'])\n",
    "    r2 = requests.get(people2['next'])\n",
    "    people2 = r2.json()\n",
    "    all_results = all_results + people2['results']"
   ]
  },
  {
   "cell_type": "markdown",
   "metadata": {},
   "source": [
    "Let's see how much data we ended up gathering!"
   ]
  },
  {
   "cell_type": "code",
   "execution_count": 9,
   "metadata": {},
   "outputs": [
    {
     "name": "stdout",
     "output_type": "stream",
     "text": [
      "We found data on 82 people.\n"
     ]
    }
   ],
   "source": [
    "print('We found data on {} people.'.format(len(all_results)))"
   ]
  },
  {
   "cell_type": "markdown",
   "metadata": {},
   "source": [
    "We're going to detemine who the oldest character in the Star Wars universe. Star Wars uses a pretty interesting way to measure the ages of people (and aliens/robots). Everything is dated as BBY or ABY, which stands for \"Before Battle of Yavin\" or \"After Battle of Yavin\" -this is evidently the battle in which the first death star was destroyed. Older people would have higher BBY values (6000BBY), whereas younger people would have higher ABY values (6000ABY). This dataset doesn't have anyone born in BBY, which makes this problem a bit simpler."
   ]
  },
  {
   "cell_type": "code",
   "execution_count": 10,
   "metadata": {},
   "outputs": [],
   "source": [
    "# Loop over the characters to extract all the birth years\n",
    "birth_year = []\n",
    "for i in all_results:\n",
    "    birth_year.append((i['birth_year']))\n",
    "    "
   ]
  },
  {
   "cell_type": "markdown",
   "metadata": {},
   "source": [
    "Let's extract the number values from the years to and find which one is the highest. The highest year will indicate the oldest character."
   ]
  },
  {
   "cell_type": "code",
   "execution_count": 11,
   "metadata": {},
   "outputs": [],
   "source": [
    "def get_num(x):\n",
    "    \"\"\"\n",
    "    Extracts a float from a string of the format \"XX.XABY\".\n",
    "    \n",
    "    Inputs:\n",
    "        x (string): A string of the format \"XX.XABY\".\n",
    "    Outputs:\n",
    "        (float): A float corresponding to XX.X. Returns nan if the value input in to the function is 'unknown'.\n",
    "    \"\"\"\n",
    "    # Remove values of unknown\n",
    "    if x != 'unknown':\n",
    "        # Join together the numbers and periods to form a float\n",
    "        return float(''.join(num for num in x if num.isdigit() or num == '.'))\n",
    "    else:\n",
    "        return math.nan"
   ]
  },
  {
   "cell_type": "code",
   "execution_count": 12,
   "metadata": {},
   "outputs": [],
   "source": [
    "# Apply the function to the list using mapping\n",
    "cleaned_list = list(map(get_num, birth_year))"
   ]
  },
  {
   "cell_type": "markdown",
   "metadata": {},
   "source": [
    "Now that we have our cleaned list of dates we just need to find the index of highest BBY value. This will let us find the oldest character. "
   ]
  },
  {
   "cell_type": "code",
   "execution_count": 13,
   "metadata": {},
   "outputs": [
    {
     "name": "stdout",
     "output_type": "stream",
     "text": [
      "Yoda 896BBY\n"
     ]
    }
   ],
   "source": [
    "# Get the index corresponding to the oldest character\n",
    "max_index = cleaned_list.index(max(cleaned_list))\n",
    "# Use the index to get the oldest character's information\n",
    "oldest_character = all_results[max_index]\n",
    "# Print the result\n",
    "print(oldest_character['name'], oldest_character['birth_year'])"
   ]
  },
  {
   "cell_type": "markdown",
   "metadata": {},
   "source": [
    "The oldest character is Yoda, which is unsurprising given his appearance. I'm embarassed to admit I'm not sure what movies he appears in, as I haven't actually seen most of them. Let's write some code to find out."
   ]
  },
  {
   "cell_type": "code",
   "execution_count": 14,
   "metadata": {},
   "outputs": [
    {
     "data": {
      "text/plain": [
       "['http://swapi.dev/api/films/2/',\n",
       " 'http://swapi.dev/api/films/3/',\n",
       " 'http://swapi.dev/api/films/4/',\n",
       " 'http://swapi.dev/api/films/5/',\n",
       " 'http://swapi.dev/api/films/6/']"
      ]
     },
     "execution_count": 14,
     "metadata": {},
     "output_type": "execute_result"
    }
   ],
   "source": [
    "# Try to look at Yoda's movie appearances \n",
    "oldest_character['films']"
   ]
  },
  {
   "cell_type": "markdown",
   "metadata": {},
   "source": [
    "It seems that, when you try to access the films, it just links to more pages of data. We'll need to use the API to get the names of the films."
   ]
  },
  {
   "cell_type": "code",
   "execution_count": 15,
   "metadata": {},
   "outputs": [],
   "source": [
    "# Create a list to hold the titles of the films\n",
    "film_list = []\n",
    "for i in oldest_character['films']: # Iterate over each film in the list\n",
    "    film = requests.get(i) # Create a response for each film\n",
    "    film_list.append(film.json()['title']) # Get the json version of the data and access the title. Append the title of each film to the list."
   ]
  },
  {
   "cell_type": "markdown",
   "metadata": {},
   "source": [
    "Yoda has been in The Empire Strikes Back, Return of the Jedi, The Phantom Menace, Attack of the Clones, and Revenge of the Sith. "
   ]
  },
  {
   "cell_type": "code",
   "execution_count": 16,
   "metadata": {},
   "outputs": [
    {
     "name": "stdout",
     "output_type": "stream",
     "text": [
      "['The Empire Strikes Back', 'Return of the Jedi', 'The Phantom Menace', 'Attack of the Clones', 'Revenge of the Sith']\n"
     ]
    }
   ],
   "source": [
    "# Print the films Yoda has been in \n",
    "print(film_list)"
   ]
  }
 ],
 "metadata": {
  "kernelspec": {
   "display_name": "Python 3",
   "language": "python",
   "name": "python3"
  },
  "language_info": {
   "codemirror_mode": {
    "name": "ipython",
    "version": 3
   },
   "file_extension": ".py",
   "mimetype": "text/x-python",
   "name": "python",
   "nbconvert_exporter": "python",
   "pygments_lexer": "ipython3",
   "version": "3.8.3"
  }
 },
 "nbformat": 4,
 "nbformat_minor": 4
}
