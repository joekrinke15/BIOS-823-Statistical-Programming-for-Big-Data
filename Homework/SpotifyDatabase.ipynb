{
 "cells": [
  {
   "cell_type": "markdown",
   "metadata": {},
   "source": [
    "# Creating A Spotify Database from Scratch"
   ]
  },
  {
   "cell_type": "markdown",
   "metadata": {},
   "source": [
    " Let's begin by importing needed packages and reading in the Spotify data."
   ]
  },
  {
   "cell_type": "code",
   "execution_count": 1,
   "metadata": {},
   "outputs": [],
   "source": [
    "import pandas as pd\n",
    "import numpy as np\n",
    "import sqlite3\n",
    "from IPython.display import HTML\n",
    "from sqlalchemy import create_engine"
   ]
  },
  {
   "cell_type": "code",
   "execution_count": 2,
   "metadata": {},
   "outputs": [],
   "source": [
    "# Read in spotify data into a dataframe\n",
    "df = pd.read_csv('https://raw.githubusercontent.com/rfordatascience/tidytuesday/master/data/2020/2020-01-21/spotify_songs.csv')\n",
    "df.columns\n",
    "pd.set_option('display.max_columns', 30)\n",
    "subset = df.sample(5)"
   ]
  },
  {
   "cell_type": "code",
   "execution_count": 3,
   "metadata": {},
   "outputs": [
    {
     "data": {
      "text/html": [
       "<table border=\"1\" class=\"dataframe\">\n",
       "  <thead>\n",
       "    <tr style=\"text-align: right;\">\n",
       "      <th></th>\n",
       "      <th>track_id</th>\n",
       "      <th>track_name</th>\n",
       "      <th>track_artist</th>\n",
       "      <th>track_popularity</th>\n",
       "      <th>track_album_id</th>\n",
       "      <th>track_album_name</th>\n",
       "      <th>track_album_release_date</th>\n",
       "      <th>playlist_name</th>\n",
       "      <th>playlist_id</th>\n",
       "      <th>playlist_genre</th>\n",
       "      <th>playlist_subgenre</th>\n",
       "      <th>danceability</th>\n",
       "      <th>energy</th>\n",
       "      <th>key</th>\n",
       "      <th>loudness</th>\n",
       "      <th>mode</th>\n",
       "      <th>speechiness</th>\n",
       "      <th>acousticness</th>\n",
       "      <th>instrumentalness</th>\n",
       "      <th>liveness</th>\n",
       "      <th>valence</th>\n",
       "      <th>tempo</th>\n",
       "      <th>duration_ms</th>\n",
       "    </tr>\n",
       "  </thead>\n",
       "  <tbody>\n",
       "    <tr>\n",
       "      <th>9800</th>\n",
       "      <td>4BPJpGU3OHQVxMYnY2vBLZ</td>\n",
       "      <td>I'm Good</td>\n",
       "      <td>Anfa Rose</td>\n",
       "      <td>51</td>\n",
       "      <td>6fhz22Zdb3lqtmJPsHF7X6</td>\n",
       "      <td>I'm Good</td>\n",
       "      <td>2017-06-02</td>\n",
       "      <td>Rap Party 24/7 Radio / Gangsta Rap</td>\n",
       "      <td>4sGnz2x5tbHE2YlW1nemfb</td>\n",
       "      <td>rap</td>\n",
       "      <td>gangster rap</td>\n",
       "      <td>0.693</td>\n",
       "      <td>0.613</td>\n",
       "      <td>10</td>\n",
       "      <td>-6.176</td>\n",
       "      <td>0</td>\n",
       "      <td>0.1770</td>\n",
       "      <td>0.0144</td>\n",
       "      <td>0.000005</td>\n",
       "      <td>0.1130</td>\n",
       "      <td>0.561</td>\n",
       "      <td>139.977</td>\n",
       "      <td>240000</td>\n",
       "    </tr>\n",
       "    <tr>\n",
       "      <th>30347</th>\n",
       "      <td>5MMrkwK6AgNAsgHVdC7daZ</td>\n",
       "      <td>Péssimo Negócio (Ao Vivo)</td>\n",
       "      <td>Dilsinho</td>\n",
       "      <td>70</td>\n",
       "      <td>5Sl0uDchhuleATxPwmSN4y</td>\n",
       "      <td>Terra do Nunca (Ao Vivo)</td>\n",
       "      <td>2019-01-31</td>\n",
       "      <td>Verão 2020 | Pop | Funk | Sertanejo | EDM | Top Hits 2019 - As Mais Tocadas</td>\n",
       "      <td>5HmZtuuIDMtIy21kylqhx6</td>\n",
       "      <td>edm</td>\n",
       "      <td>pop edm</td>\n",
       "      <td>0.538</td>\n",
       "      <td>0.651</td>\n",
       "      <td>10</td>\n",
       "      <td>-5.805</td>\n",
       "      <td>1</td>\n",
       "      <td>0.0336</td>\n",
       "      <td>0.8010</td>\n",
       "      <td>0.000000</td>\n",
       "      <td>0.9480</td>\n",
       "      <td>0.544</td>\n",
       "      <td>148.030</td>\n",
       "      <td>201378</td>\n",
       "    </tr>\n",
       "    <tr>\n",
       "      <th>3086</th>\n",
       "      <td>62RSes0whPp11JG2lfQ3QK</td>\n",
       "      <td>People Suck</td>\n",
       "      <td>Confetti</td>\n",
       "      <td>40</td>\n",
       "      <td>5aGau7m8eh9TBpSpeRB7Dj</td>\n",
       "      <td>People Suck</td>\n",
       "      <td>2018-02-21</td>\n",
       "      <td>Electropop</td>\n",
       "      <td>2Z5cPJ6Z4EVZAfF08amjvL</td>\n",
       "      <td>pop</td>\n",
       "      <td>electropop</td>\n",
       "      <td>0.766</td>\n",
       "      <td>0.693</td>\n",
       "      <td>0</td>\n",
       "      <td>-4.739</td>\n",
       "      <td>1</td>\n",
       "      <td>0.0800</td>\n",
       "      <td>0.0427</td>\n",
       "      <td>0.000000</td>\n",
       "      <td>0.1370</td>\n",
       "      <td>0.714</td>\n",
       "      <td>90.024</td>\n",
       "      <td>248000</td>\n",
       "    </tr>\n",
       "    <tr>\n",
       "      <th>22740</th>\n",
       "      <td>0awnfJ4I7eonSL3IkynNR5</td>\n",
       "      <td>Be Thankful For What You've Got - Pt. 1</td>\n",
       "      <td>William DeVaughn</td>\n",
       "      <td>8</td>\n",
       "      <td>295gQ7j4Kmy6O3xewGvZtQ</td>\n",
       "      <td>Soul Man</td>\n",
       "      <td>2017-01-27</td>\n",
       "      <td>The 1950s/1960s/1970s/1980s/1990s/2000s/2010s with pop/r&amp;b/soul/boogie/dance/jazz/hip hop/hop/rap.</td>\n",
       "      <td>1S7BckuYIkEazeNKOSM0uA</td>\n",
       "      <td>r&amp;b</td>\n",
       "      <td>urban contemporary</td>\n",
       "      <td>0.860</td>\n",
       "      <td>0.444</td>\n",
       "      <td>11</td>\n",
       "      <td>-15.009</td>\n",
       "      <td>0</td>\n",
       "      <td>0.1310</td>\n",
       "      <td>0.5890</td>\n",
       "      <td>0.206000</td>\n",
       "      <td>0.0861</td>\n",
       "      <td>0.909</td>\n",
       "      <td>91.955</td>\n",
       "      <td>208240</td>\n",
       "    </tr>\n",
       "    <tr>\n",
       "      <th>13523</th>\n",
       "      <td>7nfiM8DuaSJ61KaerHchcA</td>\n",
       "      <td>Blinded By The Light</td>\n",
       "      <td>Manfred Mann's Earth Band</td>\n",
       "      <td>10</td>\n",
       "      <td>0x2ixTpYF95FXOnUpNafxo</td>\n",
       "      <td>The Best Of Manfred Mann's Earth Band</td>\n",
       "      <td>1996</td>\n",
       "      <td>70's Classic Rock</td>\n",
       "      <td>76lrxCrKrGDkDDf3SVPnl3</td>\n",
       "      <td>rock</td>\n",
       "      <td>classic rock</td>\n",
       "      <td>0.472</td>\n",
       "      <td>0.601</td>\n",
       "      <td>5</td>\n",
       "      <td>-12.751</td>\n",
       "      <td>1</td>\n",
       "      <td>0.0569</td>\n",
       "      <td>0.2260</td>\n",
       "      <td>0.010100</td>\n",
       "      <td>0.0788</td>\n",
       "      <td>0.578</td>\n",
       "      <td>141.733</td>\n",
       "      <td>426560</td>\n",
       "    </tr>\n",
       "  </tbody>\n",
       "</table>"
      ],
      "text/plain": [
       "<IPython.core.display.HTML object>"
      ]
     },
     "execution_count": 3,
     "metadata": {},
     "output_type": "execute_result"
    }
   ],
   "source": [
    "HTML(subset.to_html())"
   ]
  },
  {
   "cell_type": "code",
   "execution_count": 4,
   "metadata": {},
   "outputs": [
    {
     "data": {
      "text/html": [
       "<div>\n",
       "<style scoped>\n",
       "    .dataframe tbody tr th:only-of-type {\n",
       "        vertical-align: middle;\n",
       "    }\n",
       "\n",
       "    .dataframe tbody tr th {\n",
       "        vertical-align: top;\n",
       "    }\n",
       "\n",
       "    .dataframe thead th {\n",
       "        text-align: right;\n",
       "    }\n",
       "</style>\n",
       "<table border=\"1\" class=\"dataframe\">\n",
       "  <thead>\n",
       "    <tr style=\"text-align: right;\">\n",
       "      <th></th>\n",
       "      <th>track_id</th>\n",
       "      <th>track_album_id</th>\n",
       "      <th>track_album_name</th>\n",
       "    </tr>\n",
       "  </thead>\n",
       "  <tbody>\n",
       "    <tr>\n",
       "      <th>0</th>\n",
       "      <td>6f807x0ima9a1j3VPbc7VN</td>\n",
       "      <td>2oCs0DGTsRO98Gh5ZSl2Cx</td>\n",
       "      <td>I Don't Care (with Justin Bieber) [Loud Luxury...</td>\n",
       "    </tr>\n",
       "    <tr>\n",
       "      <th>1</th>\n",
       "      <td>0r7CVbZTWZgbTCYdfa2P31</td>\n",
       "      <td>63rPSO264uRjW1X5E6cWv6</td>\n",
       "      <td>Memories (Dillon Francis Remix)</td>\n",
       "    </tr>\n",
       "    <tr>\n",
       "      <th>2</th>\n",
       "      <td>1z1Hg7Vb0AhHDiEmnDE79l</td>\n",
       "      <td>1HoSmj2eLcsrR0vE9gThr4</td>\n",
       "      <td>All the Time (Don Diablo Remix)</td>\n",
       "    </tr>\n",
       "    <tr>\n",
       "      <th>3</th>\n",
       "      <td>75FpbthrwQmzHlBJLuGdC7</td>\n",
       "      <td>1nqYsOef1yKKuGOVchbsk6</td>\n",
       "      <td>Call You Mine - The Remixes</td>\n",
       "    </tr>\n",
       "    <tr>\n",
       "      <th>4</th>\n",
       "      <td>1e8PAfcKUYoKkxPhrHqw4x</td>\n",
       "      <td>7m7vv9wlQ4i0LFuJiE2zsQ</td>\n",
       "      <td>Someone You Loved (Future Humans Remix)</td>\n",
       "    </tr>\n",
       "    <tr>\n",
       "      <th>...</th>\n",
       "      <td>...</td>\n",
       "      <td>...</td>\n",
       "      <td>...</td>\n",
       "    </tr>\n",
       "    <tr>\n",
       "      <th>32828</th>\n",
       "      <td>7bxnKAamR3snQ1VGLuVfC1</td>\n",
       "      <td>2azRoBBWEEEYhqV6sb7JrT</td>\n",
       "      <td>City Of Lights (Vocal Mix)</td>\n",
       "    </tr>\n",
       "    <tr>\n",
       "      <th>32829</th>\n",
       "      <td>5Aevni09Em4575077nkWHz</td>\n",
       "      <td>6kD6KLxj7s8eCE3ABvAyf5</td>\n",
       "      <td>Closer Remixed</td>\n",
       "    </tr>\n",
       "    <tr>\n",
       "      <th>32830</th>\n",
       "      <td>7ImMqPP3Q1yfUHvsdn7wEo</td>\n",
       "      <td>0ltWNSY9JgxoIZO4VzuCa6</td>\n",
       "      <td>Sweet Surrender (Radio Edit)</td>\n",
       "    </tr>\n",
       "    <tr>\n",
       "      <th>32831</th>\n",
       "      <td>2m69mhnfQ1Oq6lGtXuYhgX</td>\n",
       "      <td>1fGrOkHnHJcStl14zNx8Jy</td>\n",
       "      <td>Only For You (Remixes)</td>\n",
       "    </tr>\n",
       "    <tr>\n",
       "      <th>32832</th>\n",
       "      <td>29zWqhca3zt5NsckZqDf6c</td>\n",
       "      <td>0X3mUOm6MhxR7PzxG95rAo</td>\n",
       "      <td>Typhoon/Storm</td>\n",
       "    </tr>\n",
       "  </tbody>\n",
       "</table>\n",
       "<p>32833 rows × 3 columns</p>\n",
       "</div>"
      ],
      "text/plain": [
       "                     track_id          track_album_id  \\\n",
       "0      6f807x0ima9a1j3VPbc7VN  2oCs0DGTsRO98Gh5ZSl2Cx   \n",
       "1      0r7CVbZTWZgbTCYdfa2P31  63rPSO264uRjW1X5E6cWv6   \n",
       "2      1z1Hg7Vb0AhHDiEmnDE79l  1HoSmj2eLcsrR0vE9gThr4   \n",
       "3      75FpbthrwQmzHlBJLuGdC7  1nqYsOef1yKKuGOVchbsk6   \n",
       "4      1e8PAfcKUYoKkxPhrHqw4x  7m7vv9wlQ4i0LFuJiE2zsQ   \n",
       "...                       ...                     ...   \n",
       "32828  7bxnKAamR3snQ1VGLuVfC1  2azRoBBWEEEYhqV6sb7JrT   \n",
       "32829  5Aevni09Em4575077nkWHz  6kD6KLxj7s8eCE3ABvAyf5   \n",
       "32830  7ImMqPP3Q1yfUHvsdn7wEo  0ltWNSY9JgxoIZO4VzuCa6   \n",
       "32831  2m69mhnfQ1Oq6lGtXuYhgX  1fGrOkHnHJcStl14zNx8Jy   \n",
       "32832  29zWqhca3zt5NsckZqDf6c  0X3mUOm6MhxR7PzxG95rAo   \n",
       "\n",
       "                                        track_album_name  \n",
       "0      I Don't Care (with Justin Bieber) [Loud Luxury...  \n",
       "1                        Memories (Dillon Francis Remix)  \n",
       "2                        All the Time (Don Diablo Remix)  \n",
       "3                            Call You Mine - The Remixes  \n",
       "4                Someone You Loved (Future Humans Remix)  \n",
       "...                                                  ...  \n",
       "32828                         City Of Lights (Vocal Mix)  \n",
       "32829                                     Closer Remixed  \n",
       "32830                       Sweet Surrender (Radio Edit)  \n",
       "32831                             Only For You (Remixes)  \n",
       "32832                                      Typhoon/Storm  \n",
       "\n",
       "[32833 rows x 3 columns]"
      ]
     },
     "execution_count": 4,
     "metadata": {},
     "output_type": "execute_result"
    }
   ],
   "source": [
    "df[['track_id', 'track_album_id', 'track_album_name']]"
   ]
  },
  {
   "cell_type": "markdown",
   "metadata": {},
   "source": [
    "The first step in getting this data into a database is normalizing it. Normalization makes the database more efficient and flexible by reducing the amount of redundant data. The database is already in first normal form, as there are no columns that contain multiple data elements; the next step is to determine how to get it into second normal form. Second normal form is when all of the non-key columns are dependent only on the table's primary key. This sounds a bit jargony, I know, but an example may help clarify things. \n",
    "\n",
    "A primary key is a value that is unique for each record in the database. In the current scenario, we have a unique track id for every track in our dataset, so we could potentially use this as our primary key. If the database was in second normal form all the other columns in the table would only be dependent on the track id. This is not the case currently, as the present columns are dependent on other values in the database. For example, the track album name is dependent on the track album id. We need to break the table up into smaller tables to fix this problem.\n",
    "\n",
    "| Table Name  | Contents    |\n",
    "| ----------- | ----------- |\n",
    "| tracks       | track id and song characteristics|\n",
    "| album_name  | album name and album id       |\n",
    "| album release | album id and release date|\n",
    "| playlist  | playlist id and playlist characteristics|\n",
    "| track_playlist | track id and playlist id |\n",
    "| track_artist | track id and artist name|"
   ]
  },
  {
   "cell_type": "code",
   "execution_count": 5,
   "metadata": {},
   "outputs": [],
   "source": [
    "# Create subset dataframes to be turned into individual tables\n",
    "tracks = df[['track_id', 'track_popularity', 'danceability', 'energy', 'key', 'loudness', 'mode', 'speechiness',\n",
    "       'acousticness', 'instrumentalness', 'liveness', 'valence', 'tempo',\n",
    "       'duration_ms']]\n",
    "\n",
    "track_name = df [['track_id', 'track_name']]\n",
    "\n",
    "track_album = df[['track_album_id', 'track_id']]\n",
    "\n",
    "album_name = df[['track_album_id', 'track_album_name']]\n",
    "\n",
    "album_release = df[['track_album_release_date', 'track_album_id']]\n",
    "\n",
    "playlist_name = df[['playlist_name', 'playlist_id']]\n",
    "\n",
    "playlist_genre = df[['playlist_id', 'playlist_genre']]\n",
    "\n",
    "playlist_subgenre = df[['playlist_id', 'playlist_subgenre']]\n",
    "\n",
    "track_playlist = df[['playlist_id', 'track_id']]\n",
    "\n",
    "track_artist = df[['track_id', 'track_artist']]"
   ]
  },
  {
   "cell_type": "code",
   "execution_count": 6,
   "metadata": {},
   "outputs": [],
   "source": [
    "# Create a database to connect to in memory\n",
    "cnx = sqlite3.connect('spotify.db')\n",
    "\n",
    "# Create the tables in the database\n",
    "tracks.to_sql(name='tracks', con=cnx, index = False)\n",
    "track_name.to_sql(name='track_name', con=cnx, index = False)\n",
    "playlist_name.to_sql(name='playlist_name', con = cnx, index = False)\n",
    "playlist_genre.to_sql(name='playlist_genre', con = cnx, index=False)\n",
    "playlist_subgenre.to_sql(name = 'playlist_subgenre', con = cnx, index=False)\n",
    "album_release.to_sql(name='album_release', con = cnx, index = False)\n",
    "album_name.to_sql(name='album_name', con = cnx, index = False)\n",
    "track_album.to_sql(name='track_album', con = cnx, index = False)\n",
    "track_playlist.to_sql(name = 'track_playlist', con = cnx, index = False)\n",
    "track_artist.to_sql(name= 'track_artist', con = cnx, index = False)"
   ]
  },
  {
   "cell_type": "markdown",
   "metadata": {},
   "source": [
    " Load SQL and connect to our new Spotify database."
   ]
  },
  {
   "cell_type": "code",
   "execution_count": 7,
   "metadata": {},
   "outputs": [],
   "source": [
    "%load_ext sql"
   ]
  },
  {
   "cell_type": "code",
   "execution_count": 8,
   "metadata": {},
   "outputs": [
    {
     "data": {
      "text/plain": [
       "'Connected: @spotify.db'"
      ]
     },
     "execution_count": 8,
     "metadata": {},
     "output_type": "execute_result"
    }
   ],
   "source": [
    "%sql sqlite:///spotify.db"
   ]
  },
  {
   "cell_type": "markdown",
   "metadata": {},
   "source": [
    "Examine the structure of the SQL database tables."
   ]
  },
  {
   "cell_type": "code",
   "execution_count": 9,
   "metadata": {},
   "outputs": [
    {
     "name": "stdout",
     "output_type": "stream",
     "text": [
      " * sqlite:///spotify.db\n",
      "Done.\n"
     ]
    },
    {
     "data": {
      "text/html": [
       "<table>\n",
       "    <tr>\n",
       "        <th>type</th>\n",
       "        <th>name</th>\n",
       "        <th>tbl_name</th>\n",
       "        <th>rootpage</th>\n",
       "        <th>sql</th>\n",
       "    </tr>\n",
       "    <tr>\n",
       "        <td>table</td>\n",
       "        <td>tracks</td>\n",
       "        <td>tracks</td>\n",
       "        <td>2</td>\n",
       "        <td>CREATE TABLE &quot;tracks&quot; (<br>&quot;track_id&quot; TEXT,<br>  &quot;track_popularity&quot; INTEGER,<br>  &quot;danceability&quot; REAL,<br>  &quot;energy&quot; REAL,<br>  &quot;key&quot; INTEGER,<br>  &quot;loudness&quot; REAL,<br>  &quot;mode&quot; INTEGER,<br>  &quot;speechiness&quot; REAL,<br>  &quot;acousticness&quot; REAL,<br>  &quot;instrumentalness&quot; REAL,<br>  &quot;liveness&quot; REAL,<br>  &quot;valence&quot; REAL,<br>  &quot;tempo&quot; REAL,<br>  &quot;duration_ms&quot; INTEGER<br>)</td>\n",
       "    </tr>\n",
       "    <tr>\n",
       "        <td>table</td>\n",
       "        <td>track_name</td>\n",
       "        <td>track_name</td>\n",
       "        <td>952</td>\n",
       "        <td>CREATE TABLE &quot;track_name&quot; (<br>&quot;track_id&quot; TEXT,<br>  &quot;track_name&quot; TEXT<br>)</td>\n",
       "    </tr>\n",
       "    <tr>\n",
       "        <td>table</td>\n",
       "        <td>playlist_name</td>\n",
       "        <td>playlist_name</td>\n",
       "        <td>1340</td>\n",
       "        <td>CREATE TABLE &quot;playlist_name&quot; (<br>&quot;playlist_name&quot; TEXT,<br>  &quot;playlist_id&quot; TEXT<br>)</td>\n",
       "    </tr>\n",
       "    <tr>\n",
       "        <td>table</td>\n",
       "        <td>playlist_genre</td>\n",
       "        <td>playlist_genre</td>\n",
       "        <td>1797</td>\n",
       "        <td>CREATE TABLE &quot;playlist_genre&quot; (<br>&quot;playlist_id&quot; TEXT,<br>  &quot;playlist_genre&quot; TEXT<br>)</td>\n",
       "    </tr>\n",
       "    <tr>\n",
       "        <td>table</td>\n",
       "        <td>playlist_subgenre</td>\n",
       "        <td>playlist_subgenre</td>\n",
       "        <td>2072</td>\n",
       "        <td>CREATE TABLE &quot;playlist_subgenre&quot; (<br>&quot;playlist_id&quot; TEXT,<br>  &quot;playlist_subgenre&quot; TEXT<br>)</td>\n",
       "    </tr>\n",
       "    <tr>\n",
       "        <td>table</td>\n",
       "        <td>album_release</td>\n",
       "        <td>album_release</td>\n",
       "        <td>2413</td>\n",
       "        <td>CREATE TABLE &quot;album_release&quot; (<br>&quot;track_album_release_date&quot; TEXT,<br>  &quot;track_album_id&quot; TEXT<br>)</td>\n",
       "    </tr>\n",
       "    <tr>\n",
       "        <td>table</td>\n",
       "        <td>album_name</td>\n",
       "        <td>album_name</td>\n",
       "        <td>2739</td>\n",
       "        <td>CREATE TABLE &quot;album_name&quot; (<br>&quot;track_album_id&quot; TEXT,<br>  &quot;track_album_name&quot; TEXT<br>)</td>\n",
       "    </tr>\n",
       "    <tr>\n",
       "        <td>table</td>\n",
       "        <td>track_album</td>\n",
       "        <td>track_album</td>\n",
       "        <td>3129</td>\n",
       "        <td>CREATE TABLE &quot;track_album&quot; (<br>&quot;track_album_id&quot; TEXT,<br>  &quot;track_id&quot; TEXT<br>)</td>\n",
       "    </tr>\n",
       "    <tr>\n",
       "        <td>table</td>\n",
       "        <td>track_playlist</td>\n",
       "        <td>track_playlist</td>\n",
       "        <td>3554</td>\n",
       "        <td>CREATE TABLE &quot;track_playlist&quot; (<br>&quot;playlist_id&quot; TEXT,<br>  &quot;track_id&quot; TEXT<br>)</td>\n",
       "    </tr>\n",
       "    <tr>\n",
       "        <td>table</td>\n",
       "        <td>track_artist</td>\n",
       "        <td>track_artist</td>\n",
       "        <td>3979</td>\n",
       "        <td>CREATE TABLE &quot;track_artist&quot; (<br>&quot;track_id&quot; TEXT,<br>  &quot;track_artist&quot; TEXT<br>)</td>\n",
       "    </tr>\n",
       "</table>"
      ],
      "text/plain": [
       "[('table', 'tracks', 'tracks', 2, 'CREATE TABLE \"tracks\" (\\n\"track_id\" TEXT,\\n  \"track_popularity\" INTEGER,\\n  \"danceability\" REAL,\\n  \"energy\" REAL,\\n  \"key\" INTEGER,\\n  \"loudness\" RE ... (32 characters truncated) ... hiness\" REAL,\\n  \"acousticness\" REAL,\\n  \"instrumentalness\" REAL,\\n  \"liveness\" REAL,\\n  \"valence\" REAL,\\n  \"tempo\" REAL,\\n  \"duration_ms\" INTEGER\\n)'),\n",
       " ('table', 'track_name', 'track_name', 952, 'CREATE TABLE \"track_name\" (\\n\"track_id\" TEXT,\\n  \"track_name\" TEXT\\n)'),\n",
       " ('table', 'playlist_name', 'playlist_name', 1340, 'CREATE TABLE \"playlist_name\" (\\n\"playlist_name\" TEXT,\\n  \"playlist_id\" TEXT\\n)'),\n",
       " ('table', 'playlist_genre', 'playlist_genre', 1797, 'CREATE TABLE \"playlist_genre\" (\\n\"playlist_id\" TEXT,\\n  \"playlist_genre\" TEXT\\n)'),\n",
       " ('table', 'playlist_subgenre', 'playlist_subgenre', 2072, 'CREATE TABLE \"playlist_subgenre\" (\\n\"playlist_id\" TEXT,\\n  \"playlist_subgenre\" TEXT\\n)'),\n",
       " ('table', 'album_release', 'album_release', 2413, 'CREATE TABLE \"album_release\" (\\n\"track_album_release_date\" TEXT,\\n  \"track_album_id\" TEXT\\n)'),\n",
       " ('table', 'album_name', 'album_name', 2739, 'CREATE TABLE \"album_name\" (\\n\"track_album_id\" TEXT,\\n  \"track_album_name\" TEXT\\n)'),\n",
       " ('table', 'track_album', 'track_album', 3129, 'CREATE TABLE \"track_album\" (\\n\"track_album_id\" TEXT,\\n  \"track_id\" TEXT\\n)'),\n",
       " ('table', 'track_playlist', 'track_playlist', 3554, 'CREATE TABLE \"track_playlist\" (\\n\"playlist_id\" TEXT,\\n  \"track_id\" TEXT\\n)'),\n",
       " ('table', 'track_artist', 'track_artist', 3979, 'CREATE TABLE \"track_artist\" (\\n\"track_id\" TEXT,\\n  \"track_artist\" TEXT\\n)')]"
      ]
     },
     "execution_count": 9,
     "metadata": {},
     "output_type": "execute_result"
    }
   ],
   "source": [
    "%%sql\n",
    "SELECT * FROM sqlite_master WHERE type='table';"
   ]
  },
  {
   "cell_type": "code",
   "execution_count": 10,
   "metadata": {},
   "outputs": [
    {
     "name": "stdout",
     "output_type": "stream",
     "text": [
      " * sqlite:///spotify.db\n",
      "Done.\n"
     ]
    },
    {
     "data": {
      "text/html": [
       "<table>\n",
       "    <tr>\n",
       "        <th>track_id</th>\n",
       "        <th>track_popularity</th>\n",
       "        <th>danceability</th>\n",
       "        <th>energy</th>\n",
       "        <th>key</th>\n",
       "        <th>loudness</th>\n",
       "        <th>mode</th>\n",
       "        <th>speechiness</th>\n",
       "        <th>acousticness</th>\n",
       "        <th>instrumentalness</th>\n",
       "        <th>liveness</th>\n",
       "        <th>valence</th>\n",
       "        <th>tempo</th>\n",
       "        <th>duration_ms</th>\n",
       "    </tr>\n",
       "    <tr>\n",
       "        <td>6f807x0ima9a1j3VPbc7VN</td>\n",
       "        <td>66</td>\n",
       "        <td>0.748</td>\n",
       "        <td>0.9159999999999999</td>\n",
       "        <td>6</td>\n",
       "        <td>-2.634</td>\n",
       "        <td>1</td>\n",
       "        <td>0.0583</td>\n",
       "        <td>0.102</td>\n",
       "        <td>0.0</td>\n",
       "        <td>0.0653</td>\n",
       "        <td>0.518</td>\n",
       "        <td>122.036</td>\n",
       "        <td>194754</td>\n",
       "    </tr>\n",
       "    <tr>\n",
       "        <td>0r7CVbZTWZgbTCYdfa2P31</td>\n",
       "        <td>67</td>\n",
       "        <td>0.726</td>\n",
       "        <td>0.815</td>\n",
       "        <td>11</td>\n",
       "        <td>-4.968999999999999</td>\n",
       "        <td>1</td>\n",
       "        <td>0.0373</td>\n",
       "        <td>0.0724</td>\n",
       "        <td>0.00421</td>\n",
       "        <td>0.35700000000000004</td>\n",
       "        <td>0.693</td>\n",
       "        <td>99.97200000000001</td>\n",
       "        <td>162600</td>\n",
       "    </tr>\n",
       "    <tr>\n",
       "        <td>1z1Hg7Vb0AhHDiEmnDE79l</td>\n",
       "        <td>70</td>\n",
       "        <td>0.675</td>\n",
       "        <td>0.9309999999999999</td>\n",
       "        <td>1</td>\n",
       "        <td>-3.432</td>\n",
       "        <td>0</td>\n",
       "        <td>0.0742</td>\n",
       "        <td>0.0794</td>\n",
       "        <td>2.33e-05</td>\n",
       "        <td>0.11</td>\n",
       "        <td>0.613</td>\n",
       "        <td>124.008</td>\n",
       "        <td>176616</td>\n",
       "    </tr>\n",
       "    <tr>\n",
       "        <td>75FpbthrwQmzHlBJLuGdC7</td>\n",
       "        <td>60</td>\n",
       "        <td>0.718</td>\n",
       "        <td>0.93</td>\n",
       "        <td>7</td>\n",
       "        <td>-3.778</td>\n",
       "        <td>1</td>\n",
       "        <td>0.102</td>\n",
       "        <td>0.0287</td>\n",
       "        <td>9.43e-06</td>\n",
       "        <td>0.204</td>\n",
       "        <td>0.27699999999999997</td>\n",
       "        <td>121.956</td>\n",
       "        <td>169093</td>\n",
       "    </tr>\n",
       "    <tr>\n",
       "        <td>1e8PAfcKUYoKkxPhrHqw4x</td>\n",
       "        <td>69</td>\n",
       "        <td>0.65</td>\n",
       "        <td>0.833</td>\n",
       "        <td>1</td>\n",
       "        <td>-4.672</td>\n",
       "        <td>1</td>\n",
       "        <td>0.0359</td>\n",
       "        <td>0.0803</td>\n",
       "        <td>0.0</td>\n",
       "        <td>0.0833</td>\n",
       "        <td>0.725</td>\n",
       "        <td>123.976</td>\n",
       "        <td>189052</td>\n",
       "    </tr>\n",
       "</table>"
      ],
      "text/plain": [
       "[('6f807x0ima9a1j3VPbc7VN', 66, 0.748, 0.9159999999999999, 6, -2.634, 1, 0.0583, 0.102, 0.0, 0.0653, 0.518, 122.036, 194754),\n",
       " ('0r7CVbZTWZgbTCYdfa2P31', 67, 0.726, 0.815, 11, -4.968999999999999, 1, 0.0373, 0.0724, 0.00421, 0.35700000000000004, 0.693, 99.97200000000001, 162600),\n",
       " ('1z1Hg7Vb0AhHDiEmnDE79l', 70, 0.675, 0.9309999999999999, 1, -3.432, 0, 0.0742, 0.0794, 2.33e-05, 0.11, 0.613, 124.008, 176616),\n",
       " ('75FpbthrwQmzHlBJLuGdC7', 60, 0.718, 0.93, 7, -3.778, 1, 0.102, 0.0287, 9.43e-06, 0.204, 0.27699999999999997, 121.956, 169093),\n",
       " ('1e8PAfcKUYoKkxPhrHqw4x', 69, 0.65, 0.833, 1, -4.672, 1, 0.0359, 0.0803, 0.0, 0.0833, 0.725, 123.976, 189052)]"
      ]
     },
     "execution_count": 10,
     "metadata": {},
     "output_type": "execute_result"
    }
   ],
   "source": [
    "%%sql\n",
    "SELECT *\n",
    "FROM tracks\n",
    "LIMIT 5"
   ]
  },
  {
   "cell_type": "code",
   "execution_count": 11,
   "metadata": {},
   "outputs": [
    {
     "name": "stdout",
     "output_type": "stream",
     "text": [
      " * sqlite:///spotify.db\n",
      "Done.\n"
     ]
    },
    {
     "data": {
      "text/html": [
       "<table>\n",
       "    <tr>\n",
       "        <th>track_id</th>\n",
       "        <th>track_name</th>\n",
       "    </tr>\n",
       "    <tr>\n",
       "        <td>6f807x0ima9a1j3VPbc7VN</td>\n",
       "        <td>I Don&#x27;t Care (with Justin Bieber) - Loud Luxury Remix</td>\n",
       "    </tr>\n",
       "    <tr>\n",
       "        <td>0r7CVbZTWZgbTCYdfa2P31</td>\n",
       "        <td>Memories - Dillon Francis Remix</td>\n",
       "    </tr>\n",
       "    <tr>\n",
       "        <td>1z1Hg7Vb0AhHDiEmnDE79l</td>\n",
       "        <td>All the Time - Don Diablo Remix</td>\n",
       "    </tr>\n",
       "    <tr>\n",
       "        <td>75FpbthrwQmzHlBJLuGdC7</td>\n",
       "        <td>Call You Mine - Keanu Silva Remix</td>\n",
       "    </tr>\n",
       "    <tr>\n",
       "        <td>1e8PAfcKUYoKkxPhrHqw4x</td>\n",
       "        <td>Someone You Loved - Future Humans Remix</td>\n",
       "    </tr>\n",
       "</table>"
      ],
      "text/plain": [
       "[('6f807x0ima9a1j3VPbc7VN', \"I Don't Care (with Justin Bieber) - Loud Luxury Remix\"),\n",
       " ('0r7CVbZTWZgbTCYdfa2P31', 'Memories - Dillon Francis Remix'),\n",
       " ('1z1Hg7Vb0AhHDiEmnDE79l', 'All the Time - Don Diablo Remix'),\n",
       " ('75FpbthrwQmzHlBJLuGdC7', 'Call You Mine - Keanu Silva Remix'),\n",
       " ('1e8PAfcKUYoKkxPhrHqw4x', 'Someone You Loved - Future Humans Remix')]"
      ]
     },
     "execution_count": 11,
     "metadata": {},
     "output_type": "execute_result"
    }
   ],
   "source": [
    "%%sql\n",
    "SELECT * \n",
    "FROM track_name\n",
    "LIMIT 5"
   ]
  },
  {
   "cell_type": "code",
   "execution_count": 12,
   "metadata": {},
   "outputs": [
    {
     "name": "stdout",
     "output_type": "stream",
     "text": [
      " * sqlite:///spotify.db\n",
      "(sqlite3.OperationalError) no such table: playlist\n",
      "[SQL: SELECT *\n",
      "FROM playlist\n",
      "LIMIT 5]\n",
      "(Background on this error at: http://sqlalche.me/e/13/e3q8)\n"
     ]
    }
   ],
   "source": [
    "%%sql\n",
    "SELECT *\n",
    "FROM playlist\n",
    "LIMIT 5"
   ]
  },
  {
   "cell_type": "code",
   "execution_count": 13,
   "metadata": {},
   "outputs": [
    {
     "name": "stdout",
     "output_type": "stream",
     "text": [
      " * sqlite:///spotify.db\n",
      "Done.\n"
     ]
    },
    {
     "data": {
      "text/html": [
       "<table>\n",
       "    <tr>\n",
       "        <th>track_album_release_date</th>\n",
       "        <th>track_album_id</th>\n",
       "    </tr>\n",
       "    <tr>\n",
       "        <td>2019-06-14</td>\n",
       "        <td>2oCs0DGTsRO98Gh5ZSl2Cx</td>\n",
       "    </tr>\n",
       "    <tr>\n",
       "        <td>2019-12-13</td>\n",
       "        <td>63rPSO264uRjW1X5E6cWv6</td>\n",
       "    </tr>\n",
       "    <tr>\n",
       "        <td>2019-07-05</td>\n",
       "        <td>1HoSmj2eLcsrR0vE9gThr4</td>\n",
       "    </tr>\n",
       "    <tr>\n",
       "        <td>2019-07-19</td>\n",
       "        <td>1nqYsOef1yKKuGOVchbsk6</td>\n",
       "    </tr>\n",
       "    <tr>\n",
       "        <td>2019-03-05</td>\n",
       "        <td>7m7vv9wlQ4i0LFuJiE2zsQ</td>\n",
       "    </tr>\n",
       "</table>"
      ],
      "text/plain": [
       "[('2019-06-14', '2oCs0DGTsRO98Gh5ZSl2Cx'),\n",
       " ('2019-12-13', '63rPSO264uRjW1X5E6cWv6'),\n",
       " ('2019-07-05', '1HoSmj2eLcsrR0vE9gThr4'),\n",
       " ('2019-07-19', '1nqYsOef1yKKuGOVchbsk6'),\n",
       " ('2019-03-05', '7m7vv9wlQ4i0LFuJiE2zsQ')]"
      ]
     },
     "execution_count": 13,
     "metadata": {},
     "output_type": "execute_result"
    }
   ],
   "source": [
    "%%sql\n",
    "SELECT *\n",
    "FROM album_release\n",
    "LIMIT 5"
   ]
  },
  {
   "cell_type": "code",
   "execution_count": 14,
   "metadata": {},
   "outputs": [
    {
     "name": "stdout",
     "output_type": "stream",
     "text": [
      " * sqlite:///spotify.db\n",
      "Done.\n"
     ]
    },
    {
     "data": {
      "text/html": [
       "<table>\n",
       "    <tr>\n",
       "        <th>track_album_id</th>\n",
       "        <th>track_album_name</th>\n",
       "    </tr>\n",
       "    <tr>\n",
       "        <td>2oCs0DGTsRO98Gh5ZSl2Cx</td>\n",
       "        <td>I Don&#x27;t Care (with Justin Bieber) [Loud Luxury Remix]</td>\n",
       "    </tr>\n",
       "    <tr>\n",
       "        <td>63rPSO264uRjW1X5E6cWv6</td>\n",
       "        <td>Memories (Dillon Francis Remix)</td>\n",
       "    </tr>\n",
       "    <tr>\n",
       "        <td>1HoSmj2eLcsrR0vE9gThr4</td>\n",
       "        <td>All the Time (Don Diablo Remix)</td>\n",
       "    </tr>\n",
       "    <tr>\n",
       "        <td>1nqYsOef1yKKuGOVchbsk6</td>\n",
       "        <td>Call You Mine - The Remixes</td>\n",
       "    </tr>\n",
       "    <tr>\n",
       "        <td>7m7vv9wlQ4i0LFuJiE2zsQ</td>\n",
       "        <td>Someone You Loved (Future Humans Remix)</td>\n",
       "    </tr>\n",
       "</table>"
      ],
      "text/plain": [
       "[('2oCs0DGTsRO98Gh5ZSl2Cx', \"I Don't Care (with Justin Bieber) [Loud Luxury Remix]\"),\n",
       " ('63rPSO264uRjW1X5E6cWv6', 'Memories (Dillon Francis Remix)'),\n",
       " ('1HoSmj2eLcsrR0vE9gThr4', 'All the Time (Don Diablo Remix)'),\n",
       " ('1nqYsOef1yKKuGOVchbsk6', 'Call You Mine - The Remixes'),\n",
       " ('7m7vv9wlQ4i0LFuJiE2zsQ', 'Someone You Loved (Future Humans Remix)')]"
      ]
     },
     "execution_count": 14,
     "metadata": {},
     "output_type": "execute_result"
    }
   ],
   "source": [
    "%%sql\n",
    "SELECT * \n",
    "FROM album_name\n",
    "LIMIT 5"
   ]
  },
  {
   "cell_type": "code",
   "execution_count": 15,
   "metadata": {},
   "outputs": [
    {
     "name": "stdout",
     "output_type": "stream",
     "text": [
      " * sqlite:///spotify.db\n",
      "Done.\n"
     ]
    },
    {
     "data": {
      "text/html": [
       "<table>\n",
       "    <tr>\n",
       "        <th>track_album_id</th>\n",
       "        <th>track_id</th>\n",
       "    </tr>\n",
       "    <tr>\n",
       "        <td>2oCs0DGTsRO98Gh5ZSl2Cx</td>\n",
       "        <td>6f807x0ima9a1j3VPbc7VN</td>\n",
       "    </tr>\n",
       "    <tr>\n",
       "        <td>63rPSO264uRjW1X5E6cWv6</td>\n",
       "        <td>0r7CVbZTWZgbTCYdfa2P31</td>\n",
       "    </tr>\n",
       "    <tr>\n",
       "        <td>1HoSmj2eLcsrR0vE9gThr4</td>\n",
       "        <td>1z1Hg7Vb0AhHDiEmnDE79l</td>\n",
       "    </tr>\n",
       "    <tr>\n",
       "        <td>1nqYsOef1yKKuGOVchbsk6</td>\n",
       "        <td>75FpbthrwQmzHlBJLuGdC7</td>\n",
       "    </tr>\n",
       "    <tr>\n",
       "        <td>7m7vv9wlQ4i0LFuJiE2zsQ</td>\n",
       "        <td>1e8PAfcKUYoKkxPhrHqw4x</td>\n",
       "    </tr>\n",
       "</table>"
      ],
      "text/plain": [
       "[('2oCs0DGTsRO98Gh5ZSl2Cx', '6f807x0ima9a1j3VPbc7VN'),\n",
       " ('63rPSO264uRjW1X5E6cWv6', '0r7CVbZTWZgbTCYdfa2P31'),\n",
       " ('1HoSmj2eLcsrR0vE9gThr4', '1z1Hg7Vb0AhHDiEmnDE79l'),\n",
       " ('1nqYsOef1yKKuGOVchbsk6', '75FpbthrwQmzHlBJLuGdC7'),\n",
       " ('7m7vv9wlQ4i0LFuJiE2zsQ', '1e8PAfcKUYoKkxPhrHqw4x')]"
      ]
     },
     "execution_count": 15,
     "metadata": {},
     "output_type": "execute_result"
    }
   ],
   "source": [
    "%%sql\n",
    "SELECT * \n",
    "FROM track_album\n",
    "LIMIT 5"
   ]
  },
  {
   "cell_type": "markdown",
   "metadata": {},
   "source": [
    "Let's try a sample query! I'm interested in the average danceability of songs by playlist genre. What playlist is the most danceable?"
   ]
  },
  {
   "cell_type": "code",
   "execution_count": 24,
   "metadata": {},
   "outputs": [
    {
     "name": "stdout",
     "output_type": "stream",
     "text": [
      " * sqlite:///spotify.db\n",
      "Done.\n"
     ]
    },
    {
     "data": {
      "text/html": [
       "<table>\n",
       "    <tr>\n",
       "        <th>Danceability</th>\n",
       "        <th>Genre</th>\n",
       "    </tr>\n",
       "    <tr>\n",
       "        <td>0.7170314824278323</td>\n",
       "        <td>rap</td>\n",
       "    </tr>\n",
       "    <tr>\n",
       "        <td>0.7079193688810412</td>\n",
       "        <td>latin</td>\n",
       "    </tr>\n",
       "    <tr>\n",
       "        <td>0.6716703849596874</td>\n",
       "        <td>r&amp;b</td>\n",
       "    </tr>\n",
       "    <tr>\n",
       "        <td>0.6547498244396701</td>\n",
       "        <td>edm</td>\n",
       "    </tr>\n",
       "    <tr>\n",
       "        <td>0.6406080105401385</td>\n",
       "        <td>pop</td>\n",
       "    </tr>\n",
       "    <tr>\n",
       "        <td>0.5259998712902841</td>\n",
       "        <td>rock</td>\n",
       "    </tr>\n",
       "</table>"
      ],
      "text/plain": [
       "[(0.7170314824278323, 'rap'),\n",
       " (0.7079193688810412, 'latin'),\n",
       " (0.6716703849596874, 'r&b'),\n",
       " (0.6547498244396701, 'edm'),\n",
       " (0.6406080105401385, 'pop'),\n",
       " (0.5259998712902841, 'rock')]"
      ]
     },
     "execution_count": 24,
     "metadata": {},
     "output_type": "execute_result"
    }
   ],
   "source": [
    "%%sql\n",
    "SELECT AVG(tracks.danceability) as Danceability, playlist_genre.playlist_genre as Genre\n",
    "FROM tracks\n",
    "JOIN playlist_genre ON playlist_genre.playlist_id = track_playlist.playlist_id\n",
    "JOIN track_playlist ON track_playlist.track_id = tracks.track_id\n",
    "GROUP BY playlist_genre.playlist_genre\n",
    "ORDER by AVG(tracks.danceability) DESC"
   ]
  },
  {
   "cell_type": "code",
   "execution_count": 17,
   "metadata": {},
   "outputs": [
    {
     "name": "stdout",
     "output_type": "stream",
     "text": [
      " * sqlite:///spotify.db\n",
      "Done.\n"
     ]
    },
    {
     "data": {
      "text/html": [
       "<table>\n",
       "    <tr>\n",
       "        <th>TrackName</th>\n",
       "        <th>Danceability</th>\n",
       "        <th>Genre</th>\n",
       "    </tr>\n",
       "    <tr>\n",
       "        <td>Funky Friday</td>\n",
       "        <td>0.975</td>\n",
       "        <td>rap</td>\n",
       "    </tr>\n",
       "    <tr>\n",
       "        <td>Bad Bad Bad (feat. Lil Baby)</td>\n",
       "        <td>0.9740000000000001</td>\n",
       "        <td>rap</td>\n",
       "    </tr>\n",
       "    <tr>\n",
       "        <td>In da Wind</td>\n",
       "        <td>0.9740000000000001</td>\n",
       "        <td>rap</td>\n",
       "    </tr>\n",
       "    <tr>\n",
       "        <td>Skiety &amp; Klapki - Remix</td>\n",
       "        <td>0.972</td>\n",
       "        <td>rap</td>\n",
       "    </tr>\n",
       "    <tr>\n",
       "        <td>Sake</td>\n",
       "        <td>0.971</td>\n",
       "        <td>rap</td>\n",
       "    </tr>\n",
       "</table>"
      ],
      "text/plain": [
       "[('Funky Friday', 0.975, 'rap'),\n",
       " ('Bad Bad Bad (feat. Lil Baby)', 0.9740000000000001, 'rap'),\n",
       " ('In da Wind', 0.9740000000000001, 'rap'),\n",
       " ('Skiety & Klapki - Remix', 0.972, 'rap'),\n",
       " ('Sake', 0.971, 'rap')]"
      ]
     },
     "execution_count": 17,
     "metadata": {},
     "output_type": "execute_result"
    }
   ],
   "source": [
    "%%sql\n",
    "SELECT DISTINCT(track_name.track_name) as TrackName, (tracks.danceability) as Danceability, playlist_genre.playlist_genre as Genre\n",
    "FROM tracks\n",
    "JOIN playlist_genre ON playlist_genre.playlist_id = track_playlist.playlist_id\n",
    "JOIN track_name ON track_name.track_id = tracks.track_id\n",
    "JOIN track_playlist ON track_playlist.track_id = tracks.track_id\n",
    "WHERE playlist_genre.playlist_genre = 'rap'\n",
    "ORDER by (tracks.danceability) DESC\n",
    "LIMIT 5"
   ]
  },
  {
   "cell_type": "markdown",
   "metadata": {},
   "source": [
    "It seems a little strange that rap is the most danceable music... I wonder if something else is driving this?"
   ]
  },
  {
   "cell_type": "markdown",
   "metadata": {},
   "source": [
    "For fun, let's look at the least danceable music! It turns out it's a track called, \"Hi, How're You Doin'?\" by DREAMS COME TRUE. It's just a 10-second recording of someone saying \"Hi, How're You Doin?' The rating seems about right. "
   ]
  },
  {
   "cell_type": "code",
   "execution_count": 18,
   "metadata": {},
   "outputs": [
    {
     "name": "stdout",
     "output_type": "stream",
     "text": [
      " * sqlite:///spotify.db\n",
      "Done.\n"
     ]
    },
    {
     "data": {
      "text/html": [
       "<table>\n",
       "    <tr>\n",
       "        <th>track_name</th>\n",
       "        <th>track_artist</th>\n",
       "        <th>energy</th>\n",
       "    </tr>\n",
       "    <tr>\n",
       "        <td>Rain Forest and Tropical Beach Sound</td>\n",
       "        <td>Nature Sounds Nature Music</td>\n",
       "        <td>1.0</td>\n",
       "    </tr>\n",
       "    <tr>\n",
       "        <td>Chill Waves &amp; Wind in Leaves</td>\n",
       "        <td>Pinetree Way</td>\n",
       "        <td>1.0</td>\n",
       "    </tr>\n",
       "    <tr>\n",
       "        <td>Forest Rain</td>\n",
       "        <td>Rain Recordings</td>\n",
       "        <td>1.0</td>\n",
       "    </tr>\n",
       "    <tr>\n",
       "        <td>Captain Jack - Short Mix</td>\n",
       "        <td>Captain Jack</td>\n",
       "        <td>0.9990000000000001</td>\n",
       "    </tr>\n",
       "    <tr>\n",
       "        <td>Staatsfeind</td>\n",
       "        <td>Agonoize</td>\n",
       "        <td>0.9990000000000001</td>\n",
       "    </tr>\n",
       "    <tr>\n",
       "        <td>Immortal - Single Edit</td>\n",
       "        <td>Solitary Experiments</td>\n",
       "        <td>0.9990000000000001</td>\n",
       "    </tr>\n",
       "    <tr>\n",
       "        <td>Run To You</td>\n",
       "        <td>Code 64</td>\n",
       "        <td>0.9990000000000001</td>\n",
       "    </tr>\n",
       "    <tr>\n",
       "        <td>Satisfaction - RL Grime Remix</td>\n",
       "        <td>Benny Benassi</td>\n",
       "        <td>0.9990000000000001</td>\n",
       "    </tr>\n",
       "    <tr>\n",
       "        <td>Nightfall by the Sea</td>\n",
       "        <td>Shaman</td>\n",
       "        <td>0.9990000000000001</td>\n",
       "    </tr>\n",
       "    <tr>\n",
       "        <td>Gentle Waves on Rocks</td>\n",
       "        <td>Pinetree Way</td>\n",
       "        <td>0.9990000000000001</td>\n",
       "    </tr>\n",
       "</table>"
      ],
      "text/plain": [
       "[('Rain Forest and Tropical Beach Sound', 'Nature Sounds Nature Music', 1.0),\n",
       " ('Chill Waves & Wind in Leaves', 'Pinetree Way', 1.0),\n",
       " ('Forest Rain', 'Rain Recordings', 1.0),\n",
       " ('Captain Jack - Short Mix', 'Captain Jack', 0.9990000000000001),\n",
       " ('Staatsfeind', 'Agonoize', 0.9990000000000001),\n",
       " ('Immortal - Single Edit', 'Solitary Experiments', 0.9990000000000001),\n",
       " ('Run To You', 'Code 64', 0.9990000000000001),\n",
       " ('Satisfaction - RL Grime Remix', 'Benny Benassi', 0.9990000000000001),\n",
       " ('Nightfall by the Sea', 'Shaman', 0.9990000000000001),\n",
       " ('Gentle Waves on Rocks', 'Pinetree Way', 0.9990000000000001)]"
      ]
     },
     "execution_count": 18,
     "metadata": {},
     "output_type": "execute_result"
    }
   ],
   "source": [
    "%%sql\n",
    "SELECT DISTINCT(track_name.track_name), track_artist.track_artist, tracks.energy\n",
    "FROM tracks\n",
    "JOIN track_name ON track_name.track_id = tracks.track_id\n",
    "JOIN track_artist ON track_artist.track_id = tracks.track_id\n",
    "ORDER BY tracks.energy DESC\n",
    "LIMIT 10"
   ]
  },
  {
   "cell_type": "markdown",
   "metadata": {},
   "source": [
    "The most popular tracks of our time."
   ]
  },
  {
   "cell_type": "code",
   "execution_count": 19,
   "metadata": {},
   "outputs": [
    {
     "name": "stdout",
     "output_type": "stream",
     "text": [
      " * sqlite:///spotify.db\n",
      "Done.\n"
     ]
    },
    {
     "data": {
      "text/html": [
       "<table>\n",
       "    <tr>\n",
       "        <th>track_name</th>\n",
       "        <th>track_popularity</th>\n",
       "        <th>track_artist</th>\n",
       "    </tr>\n",
       "    <tr>\n",
       "        <td>Dance Monkey</td>\n",
       "        <td>100</td>\n",
       "        <td>Tones and I</td>\n",
       "    </tr>\n",
       "    <tr>\n",
       "        <td>ROXANNE</td>\n",
       "        <td>99</td>\n",
       "        <td>Arizona Zervas</td>\n",
       "    </tr>\n",
       "    <tr>\n",
       "        <td>Tusa</td>\n",
       "        <td>98</td>\n",
       "        <td>KAROL G</td>\n",
       "    </tr>\n",
       "    <tr>\n",
       "        <td>Memories</td>\n",
       "        <td>98</td>\n",
       "        <td>Maroon 5</td>\n",
       "    </tr>\n",
       "    <tr>\n",
       "        <td>Blinding Lights</td>\n",
       "        <td>98</td>\n",
       "        <td>The Weeknd</td>\n",
       "    </tr>\n",
       "    <tr>\n",
       "        <td>Circles</td>\n",
       "        <td>98</td>\n",
       "        <td>Post Malone</td>\n",
       "    </tr>\n",
       "    <tr>\n",
       "        <td>The Box</td>\n",
       "        <td>98</td>\n",
       "        <td>Roddy Ricch</td>\n",
       "    </tr>\n",
       "    <tr>\n",
       "        <td>everything i wanted</td>\n",
       "        <td>97</td>\n",
       "        <td>Billie Eilish</td>\n",
       "    </tr>\n",
       "    <tr>\n",
       "        <td>Don&#x27;t Start Now</td>\n",
       "        <td>97</td>\n",
       "        <td>Dua Lipa</td>\n",
       "    </tr>\n",
       "    <tr>\n",
       "        <td>Falling</td>\n",
       "        <td>97</td>\n",
       "        <td>Trevor Daniel</td>\n",
       "    </tr>\n",
       "</table>"
      ],
      "text/plain": [
       "[('Dance Monkey', 100, 'Tones and I'),\n",
       " ('ROXANNE', 99, 'Arizona Zervas'),\n",
       " ('Tusa', 98, 'KAROL G'),\n",
       " ('Memories', 98, 'Maroon 5'),\n",
       " ('Blinding Lights', 98, 'The Weeknd'),\n",
       " ('Circles', 98, 'Post Malone'),\n",
       " ('The Box', 98, 'Roddy Ricch'),\n",
       " ('everything i wanted', 97, 'Billie Eilish'),\n",
       " (\"Don't Start Now\", 97, 'Dua Lipa'),\n",
       " ('Falling', 97, 'Trevor Daniel')]"
      ]
     },
     "execution_count": 19,
     "metadata": {},
     "output_type": "execute_result"
    }
   ],
   "source": [
    "%%sql\n",
    "SELECT DISTINCT(track_name.track_name), tracks.track_popularity, track_artist.track_artist\n",
    "FROM tracks\n",
    "JOIN track_name ON track_name.track_id = tracks.track_id\n",
    "JOIN track_artist ON track_artist.track_id = tracks.track_id\n",
    "ORDER BY tracks.track_popularity DESC\n",
    "LIMIT 10"
   ]
  },
  {
   "cell_type": "code",
   "execution_count": 20,
   "metadata": {},
   "outputs": [
    {
     "name": "stdout",
     "output_type": "stream",
     "text": [
      " * sqlite:///spotify.db\n",
      "Done.\n"
     ]
    },
    {
     "data": {
      "text/html": [
       "<table>\n",
       "    <tr>\n",
       "        <th>AVG(tracks.valence)</th>\n",
       "        <th>playlist_genre</th>\n",
       "    </tr>\n",
       "    <tr>\n",
       "        <td>0.5672185249397307</td>\n",
       "        <td>rock</td>\n",
       "    </tr>\n",
       "    <tr>\n",
       "        <td>0.524778251918615</td>\n",
       "        <td>latin</td>\n",
       "    </tr>\n",
       "    <tr>\n",
       "        <td>0.5072517434237556</td>\n",
       "        <td>pop</td>\n",
       "    </tr>\n",
       "    <tr>\n",
       "        <td>0.4933969699857038</td>\n",
       "        <td>r&amp;b</td>\n",
       "    </tr>\n",
       "    <tr>\n",
       "        <td>0.4612765718159442</td>\n",
       "        <td>rap</td>\n",
       "    </tr>\n",
       "    <tr>\n",
       "        <td>0.45100491301185863</td>\n",
       "        <td>edm</td>\n",
       "    </tr>\n",
       "</table>"
      ],
      "text/plain": [
       "[(0.5672185249397307, 'rock'),\n",
       " (0.524778251918615, 'latin'),\n",
       " (0.5072517434237556, 'pop'),\n",
       " (0.4933969699857038, 'r&b'),\n",
       " (0.4612765718159442, 'rap'),\n",
       " (0.45100491301185863, 'edm')]"
      ]
     },
     "execution_count": 20,
     "metadata": {},
     "output_type": "execute_result"
    }
   ],
   "source": [
    "%%sql\n",
    "SELECT AVG(tracks.valence), playlist_genre.playlist_genre\n",
    "FROM tracks\n",
    "JOIN track_name ON track_name.track_id = tracks.track_id\n",
    "JOIN track_artist ON track_artist.track_id = tracks.track_id\n",
    "JOIN playlist_genre ON playlist_genre.playlist_id = track_playlist.playlist_id\n",
    "JOIN track_playlist ON track_playlist.track_id = tracks.track_id\n",
    "GROUP BY playlist_genre.playlist_genre\n",
    "ORDER BY AVG(tracks.valence) DESC"
   ]
  },
  {
   "cell_type": "markdown",
   "metadata": {},
   "source": [
    "Use an SQL query to find the names of all playlists that contain instrumentals."
   ]
  },
  {
   "cell_type": "code",
   "execution_count": 21,
   "metadata": {},
   "outputs": [
    {
     "name": "stdout",
     "output_type": "stream",
     "text": [
      " * sqlite:///spotify.db\n",
      "Done.\n"
     ]
    },
    {
     "data": {
      "text/html": [
       "<table>\n",
       "    <tr>\n",
       "        <th>PlaylistName</th>\n",
       "        <th>NumberInstrumentals</th>\n",
       "    </tr>\n",
       "    <tr>\n",
       "        <td>Lush Lofi</td>\n",
       "        <td>91</td>\n",
       "    </tr>\n",
       "    <tr>\n",
       "        <td>Underground Party | Hypnotic | Minimal | Acid | Big Room | Tech | Liquid</td>\n",
       "        <td>88</td>\n",
       "    </tr>\n",
       "    <tr>\n",
       "        <td>House Electro 2019</td>\n",
       "        <td>81</td>\n",
       "    </tr>\n",
       "    <tr>\n",
       "        <td>Jazz Vibes</td>\n",
       "        <td>81</td>\n",
       "    </tr>\n",
       "    <tr>\n",
       "        <td>Lo-Fi Beats</td>\n",
       "        <td>78</td>\n",
       "    </tr>\n",
       "    <tr>\n",
       "        <td>Lofi Hip-Hop</td>\n",
       "        <td>75</td>\n",
       "    </tr>\n",
       "    <tr>\n",
       "        <td>Selected House</td>\n",
       "        <td>60</td>\n",
       "    </tr>\n",
       "    <tr>\n",
       "        <td>💊ELECTRO-HOUSE-TECH💊</td>\n",
       "        <td>58</td>\n",
       "    </tr>\n",
       "    <tr>\n",
       "        <td>Sunny Beats</td>\n",
       "        <td>54</td>\n",
       "    </tr>\n",
       "    <tr>\n",
       "        <td>Tropical Vibes</td>\n",
       "        <td>52</td>\n",
       "    </tr>\n",
       "</table>"
      ],
      "text/plain": [
       "[('Lush Lofi', 91),\n",
       " ('Underground Party | Hypnotic | Minimal | Acid | Big Room | Tech | Liquid', 88),\n",
       " ('House Electro 2019', 81),\n",
       " ('Jazz Vibes', 81),\n",
       " ('Lo-Fi Beats', 78),\n",
       " ('Lofi Hip-Hop', 75),\n",
       " ('Selected House', 60),\n",
       " ('💊ELECTRO-HOUSE-TECH💊', 58),\n",
       " ('Sunny Beats', 54),\n",
       " ('Tropical Vibes', 52)]"
      ]
     },
     "execution_count": 21,
     "metadata": {},
     "output_type": "execute_result"
    }
   ],
   "source": [
    "%%sql \n",
    "SELECT PlaylistName, NumberInstrumentals\n",
    "FROM (SELECT COUNT(DISTINCT(tracks.track_id)) as NumberInstrumentals, playlist_name.playlist_name as PlaylistName\n",
    "      FROM tracks\n",
    "      JOIN track_playlist ON track_playlist.track_id = tracks.track_id\n",
    "      JOIN track_name ON track_name.track_id = tracks.track_id\n",
    "      JOIN track_artist ON track_artist.track_id = tracks.track_id\n",
    "      JOIN playlist_name ON playlist_name.playlist_id = track_playlist.playlist_id\n",
    "      WHERE tracks.instrumentalness >.50\n",
    "      GROUP BY playlist_name.playlist_name\n",
    "     )\n",
    "WHERE NumberInstrumentals > 0\n",
    "ORDER BY NumberInstrumentals DESC\n",
    "LIMIT 10"
   ]
  },
  {
   "cell_type": "markdown",
   "metadata": {},
   "source": [
    "Find the total number of playlists containing instrumentals. "
   ]
  },
  {
   "cell_type": "code",
   "execution_count": 22,
   "metadata": {},
   "outputs": [
    {
     "name": "stdout",
     "output_type": "stream",
     "text": [
      " * sqlite:///spotify.db\n",
      "Done.\n"
     ]
    },
    {
     "data": {
      "text/html": [
       "<table>\n",
       "    <tr>\n",
       "        <th>COUNT(DISTINCT(PlaylistName))</th>\n",
       "    </tr>\n",
       "    <tr>\n",
       "        <td>256</td>\n",
       "    </tr>\n",
       "</table>"
      ],
      "text/plain": [
       "[(256,)]"
      ]
     },
     "execution_count": 22,
     "metadata": {},
     "output_type": "execute_result"
    }
   ],
   "source": [
    "%%sql \n",
    "SELECT COUNT(DISTINCT(PlaylistName))\n",
    "FROM (SELECT COUNT(DISTINCT(tracks.track_id)) as NumberInstrumentals, playlist_name.playlist_name as PlaylistName\n",
    "      FROM tracks\n",
    "      JOIN track_playlist ON track_playlist.track_id = tracks.track_id\n",
    "      JOIN track_name ON track_name.track_id = tracks.track_id\n",
    "      JOIN track_artist ON track_artist.track_id = tracks.track_id\n",
    "      JOIN playlist_name ON playlist_name.playlist_id = track_playlist.playlist_id\n",
    "      WHERE tracks.instrumentalness >.50\n",
    "      GROUP BY playlist_name.playlist_name\n",
    "     )\n",
    "WHERE NumberInstrumentals > 0\n",
    "LIMIT 10"
   ]
  }
 ],
 "metadata": {
  "kernelspec": {
   "display_name": "Python 3",
   "language": "python",
   "name": "python3"
  },
  "language_info": {
   "codemirror_mode": {
    "name": "ipython",
    "version": 3
   },
   "file_extension": ".py",
   "mimetype": "text/x-python",
   "name": "python",
   "nbconvert_exporter": "python",
   "pygments_lexer": "ipython3",
   "version": "3.8.3"
  }
 },
 "nbformat": 4,
 "nbformat_minor": 4
}
