{
 "cells": [
  {
   "cell_type": "markdown",
   "metadata": {},
   "source": [
    "**1**. (25 points)\n",
    "\n",
    "- Download the data from the URL given into a `pandas` DataFrame (5 points)\n",
    "```\n",
    "https://gist.github.com/seankross/a412dfbd88b3db70b74b/raw/5f23f993cd87c283ce766e7ac6b329ee7cc2e1d1/mtcars.csv\n",
    "```\n",
    "- Your objective is to predict the `mpg` of a car from `hp`, `wt` and `am`\n",
    "    - Use the last 10 rows as test data and the rest as training data (5 points)\n",
    "    - Train a multiple linear regression model on the training data (10 points)\n",
    "    - Evaluate the mean squared error on the test data (5 points)\n",
    "    \n",
    "You may **only** use the following class from `sklearn`  (default parameters are fine)\n",
    "\n",
    "- `sklearn.linear_model.LinearRegression`\n",
    "\n",
    "In particular, splitting into test and train data and calculaiton of mean squared error should not use `sklearn`"
   ]
  },
  {
   "cell_type": "code",
   "execution_count": 143,
   "metadata": {},
   "outputs": [],
   "source": [
    "import pandas as pd\n",
    "import numpy as np\n",
    "#Import data\n",
    "df = pd.read_csv('https://gist.github.com/seankross/a412dfbd88b3db70b74b/raw/5f23f993cd87c283ce766e7ac6b329ee7cc2e1d1/mtcars.csv')"
   ]
  },
  {
   "cell_type": "code",
   "execution_count": 144,
   "metadata": {},
   "outputs": [
    {
     "data": {
      "text/html": [
       "<div>\n",
       "<style scoped>\n",
       "    .dataframe tbody tr th:only-of-type {\n",
       "        vertical-align: middle;\n",
       "    }\n",
       "\n",
       "    .dataframe tbody tr th {\n",
       "        vertical-align: top;\n",
       "    }\n",
       "\n",
       "    .dataframe thead th {\n",
       "        text-align: right;\n",
       "    }\n",
       "</style>\n",
       "<table border=\"1\" class=\"dataframe\">\n",
       "  <thead>\n",
       "    <tr style=\"text-align: right;\">\n",
       "      <th></th>\n",
       "      <th>model</th>\n",
       "      <th>mpg</th>\n",
       "      <th>cyl</th>\n",
       "      <th>disp</th>\n",
       "      <th>hp</th>\n",
       "      <th>drat</th>\n",
       "      <th>wt</th>\n",
       "      <th>qsec</th>\n",
       "      <th>vs</th>\n",
       "      <th>am</th>\n",
       "      <th>gear</th>\n",
       "      <th>carb</th>\n",
       "    </tr>\n",
       "  </thead>\n",
       "  <tbody>\n",
       "    <tr>\n",
       "      <th>0</th>\n",
       "      <td>Mazda RX4</td>\n",
       "      <td>21.0</td>\n",
       "      <td>6</td>\n",
       "      <td>160.0</td>\n",
       "      <td>110</td>\n",
       "      <td>3.90</td>\n",
       "      <td>2.620</td>\n",
       "      <td>16.46</td>\n",
       "      <td>0</td>\n",
       "      <td>1</td>\n",
       "      <td>4</td>\n",
       "      <td>4</td>\n",
       "    </tr>\n",
       "    <tr>\n",
       "      <th>1</th>\n",
       "      <td>Mazda RX4 Wag</td>\n",
       "      <td>21.0</td>\n",
       "      <td>6</td>\n",
       "      <td>160.0</td>\n",
       "      <td>110</td>\n",
       "      <td>3.90</td>\n",
       "      <td>2.875</td>\n",
       "      <td>17.02</td>\n",
       "      <td>0</td>\n",
       "      <td>1</td>\n",
       "      <td>4</td>\n",
       "      <td>4</td>\n",
       "    </tr>\n",
       "    <tr>\n",
       "      <th>2</th>\n",
       "      <td>Datsun 710</td>\n",
       "      <td>22.8</td>\n",
       "      <td>4</td>\n",
       "      <td>108.0</td>\n",
       "      <td>93</td>\n",
       "      <td>3.85</td>\n",
       "      <td>2.320</td>\n",
       "      <td>18.61</td>\n",
       "      <td>1</td>\n",
       "      <td>1</td>\n",
       "      <td>4</td>\n",
       "      <td>1</td>\n",
       "    </tr>\n",
       "    <tr>\n",
       "      <th>3</th>\n",
       "      <td>Hornet 4 Drive</td>\n",
       "      <td>21.4</td>\n",
       "      <td>6</td>\n",
       "      <td>258.0</td>\n",
       "      <td>110</td>\n",
       "      <td>3.08</td>\n",
       "      <td>3.215</td>\n",
       "      <td>19.44</td>\n",
       "      <td>1</td>\n",
       "      <td>0</td>\n",
       "      <td>3</td>\n",
       "      <td>1</td>\n",
       "    </tr>\n",
       "    <tr>\n",
       "      <th>4</th>\n",
       "      <td>Hornet Sportabout</td>\n",
       "      <td>18.7</td>\n",
       "      <td>8</td>\n",
       "      <td>360.0</td>\n",
       "      <td>175</td>\n",
       "      <td>3.15</td>\n",
       "      <td>3.440</td>\n",
       "      <td>17.02</td>\n",
       "      <td>0</td>\n",
       "      <td>0</td>\n",
       "      <td>3</td>\n",
       "      <td>2</td>\n",
       "    </tr>\n",
       "  </tbody>\n",
       "</table>\n",
       "</div>"
      ],
      "text/plain": [
       "               model   mpg  cyl   disp   hp  drat     wt   qsec  vs  am  gear  \\\n",
       "0          Mazda RX4  21.0    6  160.0  110  3.90  2.620  16.46   0   1     4   \n",
       "1      Mazda RX4 Wag  21.0    6  160.0  110  3.90  2.875  17.02   0   1     4   \n",
       "2         Datsun 710  22.8    4  108.0   93  3.85  2.320  18.61   1   1     4   \n",
       "3     Hornet 4 Drive  21.4    6  258.0  110  3.08  3.215  19.44   1   0     3   \n",
       "4  Hornet Sportabout  18.7    8  360.0  175  3.15  3.440  17.02   0   0     3   \n",
       "\n",
       "   carb  \n",
       "0     4  \n",
       "1     4  \n",
       "2     1  \n",
       "3     1  \n",
       "4     2  "
      ]
     },
     "execution_count": 144,
     "metadata": {},
     "output_type": "execute_result"
    }
   ],
   "source": [
    "df.head()"
   ]
  },
  {
   "cell_type": "code",
   "execution_count": 145,
   "metadata": {},
   "outputs": [],
   "source": [
    "# Get test data and training data\n",
    "training = df.iloc[:-10]\n",
    "test = df.iloc[-10:]"
   ]
  },
  {
   "cell_type": "code",
   "execution_count": 146,
   "metadata": {},
   "outputs": [
    {
     "name": "stdout",
     "output_type": "stream",
     "text": [
      "22 10 32\n"
     ]
    }
   ],
   "source": [
    "print(len(training), len(test), len(df))"
   ]
  },
  {
   "cell_type": "code",
   "execution_count": 147,
   "metadata": {},
   "outputs": [],
   "source": [
    "# Get data into proper form for regression\n",
    "train_x_df = training[['wt','hp', 'am']]\n",
    "train_y_df = training['mpg']\n",
    "test_x_df = test[['wt','hp', 'am']]\n",
    "test_y_df = test[['mpg']]"
   ]
  },
  {
   "cell_type": "code",
   "execution_count": 148,
   "metadata": {},
   "outputs": [],
   "source": [
    "import sklearn.linear_model as lm\n",
    "# Fit model on training data\n",
    "model = lm.LinearRegression().fit(train_x_df, train_y_df)"
   ]
  },
  {
   "cell_type": "code",
   "execution_count": 149,
   "metadata": {},
   "outputs": [],
   "source": [
    "# Predict using model on testing data\n",
    "preds = model.predict(test_x_df)"
   ]
  },
  {
   "cell_type": "code",
   "execution_count": 150,
   "metadata": {},
   "outputs": [
    {
     "data": {
      "text/plain": [
       "5.11965278142159"
      ]
     },
     "execution_count": 150,
     "metadata": {},
     "output_type": "execute_result"
    }
   ],
   "source": [
    "# Calculate the mean square error\n",
    "np.mean(np.square(list(test_y_df['mpg']) - preds))"
   ]
  },
  {
   "cell_type": "markdown",
   "metadata": {},
   "source": [
    "**3**. (25 points)\n",
    "\n",
    "We have provided an SQLite3 database in `data/pets.db` with 3 tables `dog`, `treat` and `dog_treat`. The `dog_treat` table is a linker table showing which dog ate which treat. \n",
    "\n",
    "- Show a table of ALL dogs and the treats with calories that they ate with column names `dog`, `treat`, `calorie`. A dog that did not eat any treats should still be present in the table (15 points)\n",
    "- Using a common table expression, show a table with two columns `dog` and `total_calories` where only dogs that have eaten more than 500 calories are displayed (5 points)"
   ]
  },
  {
   "cell_type": "code",
   "execution_count": 151,
   "metadata": {},
   "outputs": [
    {
     "name": "stdout",
     "output_type": "stream",
     "text": [
      "The sql extension is already loaded. To reload it, use:\n",
      "  %reload_ext sql\n"
     ]
    },
    {
     "data": {
      "text/plain": [
       "'Connected: @data/pets.db'"
      ]
     },
     "execution_count": 151,
     "metadata": {},
     "output_type": "execute_result"
    }
   ],
   "source": [
    "import sqlite3\n",
    "# Create database connection\n",
    "%load_ext sql\n",
    "%sql sqlite:///data/pets.db"
   ]
  },
  {
   "cell_type": "code",
   "execution_count": 152,
   "metadata": {},
   "outputs": [
    {
     "name": "stdout",
     "output_type": "stream",
     "text": [
      " * sqlite:///data/pets.db\n",
      "Done.\n"
     ]
    },
    {
     "data": {
      "text/html": [
       "<table>\n",
       "    <tr>\n",
       "        <th>type</th>\n",
       "        <th>name</th>\n",
       "        <th>tbl_name</th>\n",
       "        <th>rootpage</th>\n",
       "        <th>sql</th>\n",
       "    </tr>\n",
       "    <tr>\n",
       "        <td>table</td>\n",
       "        <td>dog</td>\n",
       "        <td>dog</td>\n",
       "        <td>2</td>\n",
       "        <td>CREATE TABLE dog (<br>\t&quot;index&quot; BIGINT, <br>\tdog_id BIGINT, <br>\tname TEXT, <br>\tage BIGINT<br>)</td>\n",
       "    </tr>\n",
       "    <tr>\n",
       "        <td>table</td>\n",
       "        <td>treat</td>\n",
       "        <td>treat</td>\n",
       "        <td>4</td>\n",
       "        <td>CREATE TABLE treat (<br>\t&quot;index&quot; BIGINT, <br>\ttreat_id BIGINT, <br>\tname TEXT, <br>\tcalories BIGINT<br>)</td>\n",
       "    </tr>\n",
       "    <tr>\n",
       "        <td>table</td>\n",
       "        <td>dog_treat</td>\n",
       "        <td>dog_treat</td>\n",
       "        <td>6</td>\n",
       "        <td>CREATE TABLE dog_treat (<br>\t&quot;index&quot; BIGINT, <br>\ttreat_id BIGINT, <br>\tdog_id BIGINT<br>)</td>\n",
       "    </tr>\n",
       "</table>"
      ],
      "text/plain": [
       "[('table', 'dog', 'dog', 2, 'CREATE TABLE dog (\\n\\t\"index\" BIGINT, \\n\\tdog_id BIGINT, \\n\\tname TEXT, \\n\\tage BIGINT\\n)'),\n",
       " ('table', 'treat', 'treat', 4, 'CREATE TABLE treat (\\n\\t\"index\" BIGINT, \\n\\ttreat_id BIGINT, \\n\\tname TEXT, \\n\\tcalories BIGINT\\n)'),\n",
       " ('table', 'dog_treat', 'dog_treat', 6, 'CREATE TABLE dog_treat (\\n\\t\"index\" BIGINT, \\n\\ttreat_id BIGINT, \\n\\tdog_id BIGINT\\n)')]"
      ]
     },
     "execution_count": 152,
     "metadata": {},
     "output_type": "execute_result"
    }
   ],
   "source": [
    "%%sql\n",
    "\n",
    "SELECT * FROM sqlite_master WHERE type='table';"
   ]
  },
  {
   "cell_type": "markdown",
   "metadata": {},
   "source": [
    "Question 1"
   ]
  },
  {
   "cell_type": "code",
   "execution_count": 175,
   "metadata": {},
   "outputs": [
    {
     "name": "stdout",
     "output_type": "stream",
     "text": [
      " * sqlite:///data/pets.db\n",
      "Done.\n"
     ]
    },
    {
     "data": {
      "text/html": [
       "<table>\n",
       "    <tr>\n",
       "        <th>dog</th>\n",
       "        <th>treat</th>\n",
       "        <th>calorie</th>\n",
       "    </tr>\n",
       "    <tr>\n",
       "        <td>Fido</td>\n",
       "        <td>Chewies</td>\n",
       "        <td>100</td>\n",
       "    </tr>\n",
       "    <tr>\n",
       "        <td>Fido</td>\n",
       "        <td>Bones</td>\n",
       "        <td>500</td>\n",
       "    </tr>\n",
       "    <tr>\n",
       "        <td>Roger</td>\n",
       "        <td>Bones</td>\n",
       "        <td>500</td>\n",
       "    </tr>\n",
       "    <tr>\n",
       "        <td>Woof</td>\n",
       "        <td>Bones</td>\n",
       "        <td>500</td>\n",
       "    </tr>\n",
       "    <tr>\n",
       "        <td>Woof</td>\n",
       "        <td>Raw Meat</td>\n",
       "        <td>450</td>\n",
       "    </tr>\n",
       "    <tr>\n",
       "        <td>Lassie</td>\n",
       "        <td>None</td>\n",
       "        <td>None</td>\n",
       "    </tr>\n",
       "</table>"
      ],
      "text/plain": [
       "[('Fido', 'Chewies', 100),\n",
       " ('Fido', 'Bones', 500),\n",
       " ('Roger', 'Bones', 500),\n",
       " ('Woof', 'Bones', 500),\n",
       " ('Woof', 'Raw Meat', 450),\n",
       " ('Lassie', None, None)]"
      ]
     },
     "execution_count": 175,
     "metadata": {},
     "output_type": "execute_result"
    }
   ],
   "source": [
    "%%sql\n",
    "\n",
    "SELECT dog.name as dog, treat.name as treat, treat.calories as calorie\n",
    "FROM dog\n",
    "LEFT OUTER JOIN dog_treat on dog.dog_id = dog_treat.dog_id\n",
    "LEFT OUTER JOIN treat ON dog_treat.treat_id = treat.treat_id"
   ]
  },
  {
   "cell_type": "markdown",
   "metadata": {},
   "source": [
    "Question 2"
   ]
  },
  {
   "cell_type": "code",
   "execution_count": 176,
   "metadata": {},
   "outputs": [
    {
     "name": "stdout",
     "output_type": "stream",
     "text": [
      " * sqlite:///data/pets.db\n",
      "Done.\n"
     ]
    },
    {
     "data": {
      "text/html": [
       "<table>\n",
       "    <tr>\n",
       "        <th>dog</th>\n",
       "        <th>total_calories</th>\n",
       "    </tr>\n",
       "    <tr>\n",
       "        <td>Fido</td>\n",
       "        <td>600</td>\n",
       "    </tr>\n",
       "    <tr>\n",
       "        <td>Woof</td>\n",
       "        <td>950</td>\n",
       "    </tr>\n",
       "</table>"
      ],
      "text/plain": [
       "[('Fido', 600), ('Woof', 950)]"
      ]
     },
     "execution_count": 176,
     "metadata": {},
     "output_type": "execute_result"
    }
   ],
   "source": [
    "%%sql\n",
    "\n",
    "WITH foodtable (dog, total_calories)\n",
    "AS \n",
    "(\n",
    "    SELECT dog.name as dog, SUM(treat.calories) as total_calories\n",
    "    FROM dog\n",
    "    LEFT OUTER JOIN dog_treat on dog.dog_id = dog_treat.dog_id\n",
    "    LEFT OUTER JOIN treat ON dog_treat.treat_id = treat.treat_id\n",
    "    GROUP BY dog\n",
    "\n",
    ")\n",
    "\n",
    "SELECT dog, total_calories\n",
    "FROM foodtable\n",
    "WHERE total_calories>500"
   ]
  },
  {
   "cell_type": "markdown",
   "metadata": {},
   "source": [
    "**4**. (40 points)\n",
    "\n",
    "You want to evaluate whether a liner, quadratic or cubic polynomial is the best model for a set of data using leave-one-out cross-validation (LOOCV) and the mean squared error as evaluation metric. \n",
    "\n",
    "- Write a function named `loocv` that takes the predictor variable `x`, the outcome variable `y`, a list of of degrees of polynomial models to be evaluated, and an evaluation function and returns the best model found by LOOCV. For example, you would call the function like this `loocv(x, y, [1,2,3], mse)` where `mse` is of course a function that returns the mean squared error. (30 points)\n",
    "- Write the `mse` function to provide to the LOOCV routine (5 points)\n",
    "- Use the `llocv` function to find the best polynomial model for the data provided (5 points)\n",
    "\n",
    "Notes\n",
    "\n",
    "- Use the `x` and `y` variables provided\n",
    "- Do not use any packages except for the standard library and `numpy`\n",
    "- Code snippets for fitting and evaluation of polynomials is provided"
   ]
  },
  {
   "cell_type": "code",
   "execution_count": 154,
   "metadata": {},
   "outputs": [],
   "source": [
    "import numpy as np"
   ]
  },
  {
   "cell_type": "code",
   "execution_count": 177,
   "metadata": {},
   "outputs": [],
   "source": [
    "x = np.load('data/x.npy')\n",
    "y = np.load('data/y.npy')"
   ]
  },
  {
   "cell_type": "code",
   "execution_count": 156,
   "metadata": {},
   "outputs": [],
   "source": [
    "coeffs = np.polyfit(x, y, 2)\n",
    "ypred = np.polyval(coeffs, x)"
   ]
  },
  {
   "cell_type": "code",
   "execution_count": 179,
   "metadata": {},
   "outputs": [],
   "source": [
    "def mse(y, pred):\n",
    "    mse = np.mean(np.square(y-pred))\n",
    "    return(mse)\n",
    "\n",
    "def loocv(x, y, models, mse):\n",
    "    # Save the errors for each model\n",
    "    model_errors = []\n",
    "    for i in models: # Test out each model\n",
    "        # Store the errors for each fold of cross validation to average later\n",
    "        cross_val_errors = []\n",
    "        for j in x: # Fit the model once on each fold\n",
    "            subset_x = [d for index,d in enumerate(x) if index!=j]  # Get all but the ith data point for the fold\n",
    "            subset_y = [c for index,c in enumerate(y) if index!=j] \n",
    "            coeffs = np.polyfit(subset_x,subset_y,i)\n",
    "            cross_val_errors.append(mse(y, np.polyval(coeffs, x))) # Save the error of the model for that fold\n",
    "        model_errors.append(sum(cross_val_errors)/len(cross_val_errors)) # Find the average error of the model across all folds\n",
    "    index = model_errors.index(min(model_errors)) # Find the index of the best model so it can be returned\n",
    "    return(models[index], model_errors[index])\n",
    "    "
   ]
  },
  {
   "cell_type": "code",
   "execution_count": 180,
   "metadata": {},
   "outputs": [
    {
     "data": {
      "text/plain": [
       "(2, 0.016290109581223112)"
      ]
     },
     "execution_count": 180,
     "metadata": {},
     "output_type": "execute_result"
    }
   ],
   "source": [
    "loocv(x, y, [1,2,3], mse)"
   ]
  }
 ],
 "metadata": {
  "kernelspec": {
   "display_name": "Python 3",
   "language": "python",
   "name": "python3"
  },
  "language_info": {
   "codemirror_mode": {
    "name": "ipython",
    "version": 3
   },
   "file_extension": ".py",
   "mimetype": "text/x-python",
   "name": "python",
   "nbconvert_exporter": "python",
   "pygments_lexer": "ipython3",
   "version": "3.7.8"
  }
 },
 "nbformat": 4,
 "nbformat_minor": 4
}
